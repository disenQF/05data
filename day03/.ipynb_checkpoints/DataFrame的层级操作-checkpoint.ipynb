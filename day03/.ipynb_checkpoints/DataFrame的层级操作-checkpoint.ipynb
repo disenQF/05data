{
 "cells": [
  {
   "cell_type": "markdown",
   "metadata": {},
   "source": [
    "# 多层索引\n",
    "## 创建多层索引  MultiIndex"
   ]
  },
  {
   "cell_type": "code",
   "execution_count": 1,
   "metadata": {
    "collapsed": true
   },
   "outputs": [],
   "source": [
    "import numpy as np\n",
    "import pandas as pd\n",
    "from pandas import Series, DataFrame, MultiIndex"
   ]
  },
  {
   "cell_type": "markdown",
   "metadata": {},
   "source": [
    "- 以数组的方式创建多级行索引\n",
    "\n",
    "MultiIndex.from_arrays([[一级索引], [二级索引]])\n",
    "\n",
    "注意：一级索引的数量和二级索引的数量保持一致"
   ]
  },
  {
   "cell_type": "code",
   "execution_count": 2,
   "metadata": {
    "collapsed": true
   },
   "outputs": [],
   "source": [
    "index = MultiIndex.from_arrays([['张大妈', '张大妈', '张大妈', '李大爷','李大爷'],\n",
    "                                ['周一', '周二', '周三', '周一', '周四']])\n"
   ]
  },
  {
   "cell_type": "markdown",
   "metadata": {},
   "source": [
    "- 以元组方式创建多级索引\n",
    "\n",
    "MultiIndex.from_tuples([(一级,二级), (), ])"
   ]
  },
  {
   "cell_type": "code",
   "execution_count": 11,
   "metadata": {
    "collapsed": true
   },
   "outputs": [],
   "source": [
    "index2 = MultiIndex.from_tuples([('张大妈', '周一'),\n",
    "                                ('张大妈', '周二'),\n",
    "                                ('张大妈', '周三'),\n",
    "                                ('李大爷', '周一'),\n",
    "                                ('李大爷', '周三')])"
   ]
  },
  {
   "cell_type": "markdown",
   "metadata": {},
   "source": [
    "- product方式创建多级索引 【建议】\n",
    "\n",
    "MultiIndex.from_product([[一级索引], [二级索引]])\n",
    "\n",
    "生成行数 = [一级索引]的大小 * [二级索引]的大小\n",
    "\n",
    "每一个\"一级索引\"，都有相同的\"二级索引\""
   ]
  },
  {
   "cell_type": "code",
   "execution_count": 15,
   "metadata": {
    "collapsed": true
   },
   "outputs": [],
   "source": [
    "index3 = MultiIndex.from_product([['张大妈', '李大爷'],\n",
    "                                  ['周一', '周二', '周三']])"
   ]
  },
  {
   "cell_type": "code",
   "execution_count": 16,
   "metadata": {},
   "outputs": [
    {
     "data": {
      "text/html": [
       "<div>\n",
       "<style>\n",
       "    .dataframe thead tr:only-child th {\n",
       "        text-align: right;\n",
       "    }\n",
       "\n",
       "    .dataframe thead th {\n",
       "        text-align: left;\n",
       "    }\n",
       "\n",
       "    .dataframe tbody tr th {\n",
       "        vertical-align: top;\n",
       "    }\n",
       "</style>\n",
       "<table border=\"1\" class=\"dataframe\">\n",
       "  <thead>\n",
       "    <tr style=\"text-align: right;\">\n",
       "      <th></th>\n",
       "      <th></th>\n",
       "      <th>白菜</th>\n",
       "      <th>萝卜</th>\n",
       "    </tr>\n",
       "  </thead>\n",
       "  <tbody>\n",
       "    <tr>\n",
       "      <th rowspan=\"3\" valign=\"top\">张大妈</th>\n",
       "      <th>周一</th>\n",
       "      <td>3</td>\n",
       "      <td>3</td>\n",
       "    </tr>\n",
       "    <tr>\n",
       "      <th>周二</th>\n",
       "      <td>2</td>\n",
       "      <td>2</td>\n",
       "    </tr>\n",
       "    <tr>\n",
       "      <th>周三</th>\n",
       "      <td>1</td>\n",
       "      <td>3</td>\n",
       "    </tr>\n",
       "    <tr>\n",
       "      <th rowspan=\"3\" valign=\"top\">李大爷</th>\n",
       "      <th>周一</th>\n",
       "      <td>4</td>\n",
       "      <td>2</td>\n",
       "    </tr>\n",
       "    <tr>\n",
       "      <th>周二</th>\n",
       "      <td>4</td>\n",
       "      <td>2</td>\n",
       "    </tr>\n",
       "    <tr>\n",
       "      <th>周三</th>\n",
       "      <td>1</td>\n",
       "      <td>2</td>\n",
       "    </tr>\n",
       "  </tbody>\n",
       "</table>\n",
       "</div>"
      ],
      "text/plain": [
       "        白菜  萝卜\n",
       "张大妈 周一   3   3\n",
       "    周二   2   2\n",
       "    周三   1   3\n",
       "李大爷 周一   4   2\n",
       "    周二   4   2\n",
       "    周三   1   2"
      ]
     },
     "execution_count": 16,
     "metadata": {},
     "output_type": "execute_result"
    }
   ],
   "source": [
    "df = DataFrame(np.random.randint(1,5, size=(6, 2)), \n",
    "               index=index3, columns=('白菜', '萝卜'))\n",
    "df"
   ]
  },
  {
   "cell_type": "markdown",
   "metadata": {},
   "source": [
    "练习： 手机销售表\n",
    "\n",
    "2017和2018两年的各季度的不同地区的不同手机销售情况\n",
    "\n",
    "手机品牌：(Vivo, 华为, Iphone, Oppo)\n",
    "\n",
    "地区： 西安，北京"
   ]
  },
  {
   "cell_type": "code",
   "execution_count": 39,
   "metadata": {
    "collapsed": true
   },
   "outputs": [
    {
     "data": {
      "text/html": [
       "<div>\n",
       "<style>\n",
       "    .dataframe thead tr:only-child th {\n",
       "        text-align: right;\n",
       "    }\n",
       "\n",
       "    .dataframe thead th {\n",
       "        text-align: left;\n",
       "    }\n",
       "\n",
       "    .dataframe tbody tr th {\n",
       "        vertical-align: top;\n",
       "    }\n",
       "</style>\n",
       "<table border=\"1\" class=\"dataframe\">\n",
       "  <thead>\n",
       "    <tr>\n",
       "      <th></th>\n",
       "      <th></th>\n",
       "      <th colspan=\"4\" halign=\"left\">2017</th>\n",
       "      <th colspan=\"4\" halign=\"left\">2018</th>\n",
       "    </tr>\n",
       "    <tr>\n",
       "      <th></th>\n",
       "      <th></th>\n",
       "      <th>1</th>\n",
       "      <th>2</th>\n",
       "      <th>3</th>\n",
       "      <th>4</th>\n",
       "      <th>1</th>\n",
       "      <th>2</th>\n",
       "      <th>3</th>\n",
       "      <th>4</th>\n",
       "    </tr>\n",
       "  </thead>\n",
       "  <tbody>\n",
       "    <tr>\n",
       "      <th rowspan=\"4\" valign=\"top\">西安</th>\n",
       "      <th>Vivo</th>\n",
       "      <td>197</td>\n",
       "      <td>1447</td>\n",
       "      <td>1736</td>\n",
       "      <td>1859</td>\n",
       "      <td>708</td>\n",
       "      <td>367</td>\n",
       "      <td>379</td>\n",
       "      <td>1080</td>\n",
       "    </tr>\n",
       "    <tr>\n",
       "      <th>华为</th>\n",
       "      <td>898</td>\n",
       "      <td>1021</td>\n",
       "      <td>1668</td>\n",
       "      <td>196</td>\n",
       "      <td>1256</td>\n",
       "      <td>1674</td>\n",
       "      <td>837</td>\n",
       "      <td>986</td>\n",
       "    </tr>\n",
       "    <tr>\n",
       "      <th>Iphone</th>\n",
       "      <td>1552</td>\n",
       "      <td>228</td>\n",
       "      <td>448</td>\n",
       "      <td>239</td>\n",
       "      <td>1232</td>\n",
       "      <td>794</td>\n",
       "      <td>584</td>\n",
       "      <td>936</td>\n",
       "    </tr>\n",
       "    <tr>\n",
       "      <th>Oppo</th>\n",
       "      <td>991</td>\n",
       "      <td>722</td>\n",
       "      <td>1599</td>\n",
       "      <td>1062</td>\n",
       "      <td>649</td>\n",
       "      <td>1887</td>\n",
       "      <td>436</td>\n",
       "      <td>1527</td>\n",
       "    </tr>\n",
       "    <tr>\n",
       "      <th rowspan=\"4\" valign=\"top\">北京</th>\n",
       "      <th>Vivo</th>\n",
       "      <td>1806</td>\n",
       "      <td>1939</td>\n",
       "      <td>1787</td>\n",
       "      <td>1135</td>\n",
       "      <td>258</td>\n",
       "      <td>701</td>\n",
       "      <td>1531</td>\n",
       "      <td>1325</td>\n",
       "    </tr>\n",
       "    <tr>\n",
       "      <th>华为</th>\n",
       "      <td>1880</td>\n",
       "      <td>124</td>\n",
       "      <td>1007</td>\n",
       "      <td>311</td>\n",
       "      <td>1949</td>\n",
       "      <td>1157</td>\n",
       "      <td>1863</td>\n",
       "      <td>915</td>\n",
       "    </tr>\n",
       "    <tr>\n",
       "      <th>Iphone</th>\n",
       "      <td>489</td>\n",
       "      <td>115</td>\n",
       "      <td>1022</td>\n",
       "      <td>511</td>\n",
       "      <td>275</td>\n",
       "      <td>851</td>\n",
       "      <td>1165</td>\n",
       "      <td>111</td>\n",
       "    </tr>\n",
       "    <tr>\n",
       "      <th>Oppo</th>\n",
       "      <td>1036</td>\n",
       "      <td>698</td>\n",
       "      <td>167</td>\n",
       "      <td>1961</td>\n",
       "      <td>902</td>\n",
       "      <td>505</td>\n",
       "      <td>1017</td>\n",
       "      <td>341</td>\n",
       "    </tr>\n",
       "  </tbody>\n",
       "</table>\n",
       "</div>"
      ],
      "text/plain": [
       "           2017                    2018                  \n",
       "              1     2     3     4     1     2     3     4\n",
       "西安 Vivo     197  1447  1736  1859   708   367   379  1080\n",
       "   华为       898  1021  1668   196  1256  1674   837   986\n",
       "   Iphone  1552   228   448   239  1232   794   584   936\n",
       "   Oppo     991   722  1599  1062   649  1887   436  1527\n",
       "北京 Vivo    1806  1939  1787  1135   258   701  1531  1325\n",
       "   华为      1880   124  1007   311  1949  1157  1863   915\n",
       "   Iphone   489   115  1022   511   275   851  1165   111\n",
       "   Oppo    1036   698   167  1961   902   505  1017   341"
      ]
     },
     "execution_count": 39,
     "metadata": {},
     "output_type": "execute_result"
    }
   ],
   "source": [
    "index = MultiIndex.from_product([['西安', '北京'],\n",
    "                               ['Vivo', '华为', 'Iphone', 'Oppo']])\n",
    "columns = MultiIndex.from_product([['2017', '2018'],\n",
    "                                   [1, 2, 3, 4]])\n",
    "data = np.random.randint(100, 2000, size=(8, 8))\n",
    "\n",
    "df = DataFrame(data ,index, columns)\n",
    "df"
   ]
  },
  {
   "cell_type": "markdown",
   "metadata": {},
   "source": [
    "# 多层索引操作\n",
    "- df[(一级列， 二级列)]\n",
    "- .loc[[行]， [列]]\n",
    "- .iloc[[行号], [列号]]\n",
    "\n",
    "注： 不能直接对二级索引进行操作，可以使用 (一级索引， 二级索引) 方式"
   ]
  },
  {
   "cell_type": "code",
   "execution_count": 40,
   "metadata": {
    "collapsed": true
   },
   "outputs": [
    {
     "data": {
      "text/html": [
       "<div>\n",
       "<style>\n",
       "    .dataframe thead tr:only-child th {\n",
       "        text-align: right;\n",
       "    }\n",
       "\n",
       "    .dataframe thead th {\n",
       "        text-align: left;\n",
       "    }\n",
       "\n",
       "    .dataframe tbody tr th {\n",
       "        vertical-align: top;\n",
       "    }\n",
       "</style>\n",
       "<table border=\"1\" class=\"dataframe\">\n",
       "  <thead>\n",
       "    <tr style=\"text-align: right;\">\n",
       "      <th></th>\n",
       "      <th></th>\n",
       "      <th>1</th>\n",
       "      <th>2</th>\n",
       "      <th>3</th>\n",
       "      <th>4</th>\n",
       "    </tr>\n",
       "  </thead>\n",
       "  <tbody>\n",
       "    <tr>\n",
       "      <th>西安</th>\n",
       "      <th>华为</th>\n",
       "      <td>898</td>\n",
       "      <td>1021</td>\n",
       "      <td>1668</td>\n",
       "      <td>196</td>\n",
       "    </tr>\n",
       "    <tr>\n",
       "      <th>北京</th>\n",
       "      <th>华为</th>\n",
       "      <td>1880</td>\n",
       "      <td>124</td>\n",
       "      <td>1007</td>\n",
       "      <td>311</td>\n",
       "    </tr>\n",
       "  </tbody>\n",
       "</table>\n",
       "</div>"
      ],
      "text/plain": [
       "          1     2     3    4\n",
       "西安 华为   898  1021  1668  196\n",
       "北京 华为  1880   124  1007  311"
      ]
     },
     "execution_count": 40,
     "metadata": {},
     "output_type": "execute_result"
    }
   ],
   "source": [
    "# 查看2017年全年的华为手机的各地的销量\n",
    "df.loc[[('西安', '华为'), ('北京', '华为')]]['2017']"
   ]
  },
  {
   "cell_type": "code",
   "execution_count": 36,
   "metadata": {},
   "outputs": [
    {
     "data": {
      "text/html": [
       "<div>\n",
       "<style>\n",
       "    .dataframe thead tr:only-child th {\n",
       "        text-align: right;\n",
       "    }\n",
       "\n",
       "    .dataframe thead th {\n",
       "        text-align: left;\n",
       "    }\n",
       "\n",
       "    .dataframe tbody tr th {\n",
       "        vertical-align: top;\n",
       "    }\n",
       "</style>\n",
       "<table border=\"1\" class=\"dataframe\">\n",
       "  <thead>\n",
       "    <tr style=\"text-align: right;\">\n",
       "      <th></th>\n",
       "      <th></th>\n",
       "      <th>1</th>\n",
       "      <th>2</th>\n",
       "      <th>3</th>\n",
       "      <th>4</th>\n",
       "    </tr>\n",
       "  </thead>\n",
       "  <tbody>\n",
       "    <tr>\n",
       "      <th>西安</th>\n",
       "      <th>华为</th>\n",
       "      <td>653</td>\n",
       "      <td>832</td>\n",
       "      <td>500</td>\n",
       "      <td>713</td>\n",
       "    </tr>\n",
       "    <tr>\n",
       "      <th>北京</th>\n",
       "      <th>华为</th>\n",
       "      <td>1230</td>\n",
       "      <td>1284</td>\n",
       "      <td>429</td>\n",
       "      <td>1946</td>\n",
       "    </tr>\n",
       "  </tbody>\n",
       "</table>\n",
       "</div>"
      ],
      "text/plain": [
       "          1     2    3     4\n",
       "西安 华为   653   832  500   713\n",
       "北京 华为  1230  1284  429  1946"
      ]
     },
     "execution_count": 36,
     "metadata": {},
     "output_type": "execute_result"
    }
   ],
   "source": [
    "df.iloc[[1, 5]]['2017']  # 直接使用索引值"
   ]
  },
  {
   "cell_type": "code",
   "execution_count": 52,
   "metadata": {
    "collapsed": true
   },
   "outputs": [
    {
     "data": {
      "text/html": [
       "<div>\n",
       "<style>\n",
       "    .dataframe thead tr:only-child th {\n",
       "        text-align: right;\n",
       "    }\n",
       "\n",
       "    .dataframe thead th {\n",
       "        text-align: left;\n",
       "    }\n",
       "\n",
       "    .dataframe tbody tr th {\n",
       "        vertical-align: top;\n",
       "    }\n",
       "</style>\n",
       "<table border=\"1\" class=\"dataframe\">\n",
       "  <thead>\n",
       "    <tr>\n",
       "      <th></th>\n",
       "      <th></th>\n",
       "      <th colspan=\"4\" halign=\"left\">2017</th>\n",
       "    </tr>\n",
       "    <tr>\n",
       "      <th></th>\n",
       "      <th></th>\n",
       "      <th>1</th>\n",
       "      <th>2</th>\n",
       "      <th>3</th>\n",
       "      <th>4</th>\n",
       "    </tr>\n",
       "  </thead>\n",
       "  <tbody>\n",
       "    <tr>\n",
       "      <th rowspan=\"4\" valign=\"top\">北京</th>\n",
       "      <th>Vivo</th>\n",
       "      <td>1806</td>\n",
       "      <td>1939</td>\n",
       "      <td>1787</td>\n",
       "      <td>1135</td>\n",
       "    </tr>\n",
       "    <tr>\n",
       "      <th>华为</th>\n",
       "      <td>1880</td>\n",
       "      <td>124</td>\n",
       "      <td>1007</td>\n",
       "      <td>311</td>\n",
       "    </tr>\n",
       "    <tr>\n",
       "      <th>Iphone</th>\n",
       "      <td>489</td>\n",
       "      <td>115</td>\n",
       "      <td>1022</td>\n",
       "      <td>511</td>\n",
       "    </tr>\n",
       "    <tr>\n",
       "      <th>Oppo</th>\n",
       "      <td>1036</td>\n",
       "      <td>698</td>\n",
       "      <td>167</td>\n",
       "      <td>1961</td>\n",
       "    </tr>\n",
       "  </tbody>\n",
       "</table>\n",
       "</div>"
      ],
      "text/plain": [
       "           2017                  \n",
       "              1     2     3     4\n",
       "北京 Vivo    1806  1939  1787  1135\n",
       "   华为      1880   124  1007   311\n",
       "   Iphone   489   115  1022   511\n",
       "   Oppo    1036   698   167  1961"
      ]
     },
     "execution_count": 52,
     "metadata": {},
     "output_type": "execute_result"
    }
   ],
   "source": [
    "df.loc[['北京'], ['2017']]  # 查看北京地区的2017的销售情况"
   ]
  },
  {
   "cell_type": "code",
   "execution_count": 56,
   "metadata": {},
   "outputs": [
    {
     "data": {
      "text/html": [
       "<div>\n",
       "<style>\n",
       "    .dataframe thead tr:only-child th {\n",
       "        text-align: right;\n",
       "    }\n",
       "\n",
       "    .dataframe thead th {\n",
       "        text-align: left;\n",
       "    }\n",
       "\n",
       "    .dataframe tbody tr th {\n",
       "        vertical-align: top;\n",
       "    }\n",
       "</style>\n",
       "<table border=\"1\" class=\"dataframe\">\n",
       "  <thead>\n",
       "    <tr style=\"text-align: right;\">\n",
       "      <th></th>\n",
       "      <th></th>\n",
       "      <th>1</th>\n",
       "      <th>2</th>\n",
       "    </tr>\n",
       "  </thead>\n",
       "  <tbody>\n",
       "    <tr>\n",
       "      <th rowspan=\"4\" valign=\"top\">西安</th>\n",
       "      <th>Vivo</th>\n",
       "      <td>708</td>\n",
       "      <td>367</td>\n",
       "    </tr>\n",
       "    <tr>\n",
       "      <th>华为</th>\n",
       "      <td>1256</td>\n",
       "      <td>1674</td>\n",
       "    </tr>\n",
       "    <tr>\n",
       "      <th>Iphone</th>\n",
       "      <td>1232</td>\n",
       "      <td>794</td>\n",
       "    </tr>\n",
       "    <tr>\n",
       "      <th>Oppo</th>\n",
       "      <td>649</td>\n",
       "      <td>1887</td>\n",
       "    </tr>\n",
       "    <tr>\n",
       "      <th rowspan=\"4\" valign=\"top\">北京</th>\n",
       "      <th>Vivo</th>\n",
       "      <td>258</td>\n",
       "      <td>701</td>\n",
       "    </tr>\n",
       "    <tr>\n",
       "      <th>华为</th>\n",
       "      <td>1949</td>\n",
       "      <td>1157</td>\n",
       "    </tr>\n",
       "    <tr>\n",
       "      <th>Iphone</th>\n",
       "      <td>275</td>\n",
       "      <td>851</td>\n",
       "    </tr>\n",
       "    <tr>\n",
       "      <th>Oppo</th>\n",
       "      <td>902</td>\n",
       "      <td>505</td>\n",
       "    </tr>\n",
       "  </tbody>\n",
       "</table>\n",
       "</div>"
      ],
      "text/plain": [
       "              1     2\n",
       "西安 Vivo     708   367\n",
       "   华为      1256  1674\n",
       "   Iphone  1232   794\n",
       "   Oppo     649  1887\n",
       "北京 Vivo     258   701\n",
       "   华为      1949  1157\n",
       "   Iphone   275   851\n",
       "   Oppo     902   505"
      ]
     },
     "execution_count": 56,
     "metadata": {},
     "output_type": "execute_result"
    }
   ],
   "source": [
    "# df.loc[:, [('2018', 3),('2018', 4)]]\n",
    "df.loc[:,'2018'][[1, 2]] #  查看2018年第1和2季度的情况"
   ]
  }
 ],
 "metadata": {
  "kernelspec": {
   "display_name": "Python 3",
   "language": "python",
   "name": "python3"
  },
  "language_info": {
   "codemirror_mode": {
    "name": "ipython",
    "version": 3
   },
   "file_extension": ".py",
   "mimetype": "text/x-python",
   "name": "python",
   "nbconvert_exporter": "python",
   "pygments_lexer": "ipython3",
   "version": "3.6.3"
  }
 },
 "nbformat": 4,
 "nbformat_minor": 2
}
