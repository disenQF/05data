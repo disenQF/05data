{
 "cells": [
  {
   "cell_type": "markdown",
   "metadata": {},
   "source": [
    "导包"
   ]
  },
  {
   "cell_type": "code",
   "execution_count": null,
   "metadata": {
    "collapsed": true
   },
   "outputs": [],
   "source": [
    "import numpy as np\n",
    "import pandas as pd\n",
    "import matplotlib.pyplot as plt\n",
    "%matplotlib inline"
   ]
  },
  {
   "cell_type": "markdown",
   "metadata": {},
   "source": [
    "加载数据\n",
    "- sklearn.datasets.fetch_olivetti_faces()  好利获得（意大利电信）公司的面部数据\n",
    "    - data样本数据  (400, 4096)\n",
    "    - target 目标数据 (400,)  共40人，每人10张图片\n",
    "    - images 图片数据 (400, 64, 64)\n",
    "> 注：第一次使用时会从网络下载到本地，4M左右大小，  网址：https://ndownloader.figshare.com/files/5976027 ，默认下载到用户的{home}路径下的scikit_learn_data目录中。"
   ]
  },
  {
   "cell_type": "markdown",
   "metadata": {},
   "source": [
    "拆分数据\n",
    "- 拆分每个人前8张照片的上半边脸和下半边脸 为训练数据\n",
    "- 拆分每个人后2张照片的上半边脸和下半边脸 为 预测 数据\n",
    "- i 人的索引（0-39）， j（0-9）每人的照片数 , 如第1人的第7张照片, index为 7\n",
    "    - index = 10*i + j \n",
    "    \n",
    "- 脸的照片是4096,即为(64, 64)\n",
    "    - 上半边脸  up_face = face[:2048]\n",
    "    - 下半边脸  bottom_face = face[2048:]"
   ]
  },
  {
   "cell_type": "markdown",
   "metadata": {},
   "source": [
    "Knn Vs 线性 回归模型 训练与预测\n",
    "- 从预测时间上看，岭回归效果最好，Lasso其次，最慢的就是knn\n",
    "- 从训练时间上看，knn最快，岭回归其次，最慢的就是Lasso\n",
    "- 准确率最高的是knn  缩减系数Lasso要由于岭回归\n",
    "    - r2_score()查看评分"
   ]
  },
  {
   "cell_type": "markdown",
   "metadata": {},
   "source": [
    "以图形的方式来查看各种模型的效果\n",
    "- 随机抽出5张人脸（从测试数据里抽取），绘制5列\n",
    "    - np.random.permutation(indices)  随机排列\n",
    "- 第一列为真实人脸数据， 后四列为预测人脸数据\n",
    "    - 真实的人脸 真实的上半边+真实的下半边\n",
    "    - 预测的人脸 真实的上半边+预测的下半边"
   ]
  }
 ],
 "metadata": {
  "kernelspec": {
   "display_name": "Python 3",
   "language": "python",
   "name": "python3"
  },
  "language_info": {
   "codemirror_mode": {
    "name": "ipython",
    "version": 3
   },
   "file_extension": ".py",
   "mimetype": "text/x-python",
   "name": "python",
   "nbconvert_exporter": "python",
   "pygments_lexer": "ipython3",
   "version": "3.6.3"
  }
 },
 "nbformat": 4,
 "nbformat_minor": 2
}
