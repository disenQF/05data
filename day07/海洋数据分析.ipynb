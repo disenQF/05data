{
 "cells": [
  {
   "cell_type": "markdown",
   "metadata": {},
   "source": [
    "# 城市气候与海洋的关系研究"
   ]
  },
  {
   "cell_type": "markdown",
   "metadata": {},
   "source": [
    "导入包"
   ]
  },
  {
   "cell_type": "code",
   "execution_count": 2,
   "metadata": {
    "collapsed": true
   },
   "outputs": [],
   "source": [
    "import numpy as np\n",
    "import pandas as pd\n",
    "from pandas import Series,DataFrame\n",
    "import matplotlib.pyplot as plt\n",
    "%matplotlib inline\n",
    "\n",
    "plt.rcParams['font.sans-serif'] = ['SimHei']\n",
    "plt.rcParams['axes.unicode_minus'] = False"
   ]
  },
  {
   "cell_type": "markdown",
   "metadata": {},
   "source": [
    "导入数据各个海滨城市数据\n",
    "- os.listdir('data')\n",
    "- filter() 过滤出所有.csv文件\n",
    "- df.append() 以行的方式追加"
   ]
  },
  {
   "cell_type": "markdown",
   "metadata": {},
   "source": [
    "查看列数"
   ]
  },
  {
   "cell_type": "markdown",
   "metadata": {},
   "source": [
    "去除没用的列"
   ]
  },
  {
   "cell_type": "markdown",
   "metadata": {},
   "source": [
    "显示最高温度与离海远近的关系\n",
    "- 按city分组， 计算temp和dist的最大值\n",
    "- 按dist排序"
   ]
  },
  {
   "cell_type": "markdown",
   "metadata": {},
   "source": [
    "画图显示关系 \n",
    "- scatter() 显示距离与温度的散布图\n",
    "- plot() 显示距离与温度的线形图"
   ]
  },
  {
   "cell_type": "markdown",
   "metadata": {},
   "source": [
    " 练习\n",
    " \n",
    " 读取某一城市 每天的温度变化和 一周的天气变化"
   ]
  },
  {
   "cell_type": "markdown",
   "metadata": {},
   "source": [
    "画出 Asti 城市的每天的温度变化的线形图\n",
    "- 处理 day 时间格式"
   ]
  },
  {
   "cell_type": "markdown",
   "metadata": {},
   "source": [
    "观察发现，离海近的可以形成一条直线，离海远的也能形成一条直线。\n",
    "\n",
    "分别以100公里和50公里为分界点，划分为离海近和离海远的两组数据\n",
    "- city_temp['dist'] > 50  # 远距离\n",
    "- city_temp['dist'] < 100 # 近距离"
   ]
  },
  {
   "cell_type": "markdown",
   "metadata": {},
   "source": [
    "画出远、近的距离与温度的散布图"
   ]
  },
  {
   "cell_type": "markdown",
   "metadata": {},
   "source": [
    "使用线性回归预测给定距离的温度\n",
    "-  机器学习的线性回归模型 LinearRegression\n",
    "-  scikit-learn 模块中线性模型\n",
    "    - sklearn.linear_model\n",
    "- 创建回归模型对象\n",
    "    - linear = LinearRegression()\n",
    "- 训练模型\n",
    "    - fit(x, y) \n",
    "        - x 是实际数据的自变量, 必须是 二维数组\n",
    "        - y 实际数据的因变量\n",
    "- 预测模型\n",
    "    - predict(x) 根据预测函数，计算x的结果\n",
    "        - x 也是一个二维数组"
   ]
  },
  {
   "cell_type": "markdown",
   "metadata": {},
   "source": [
    "创建线性回归模型对象"
   ]
  },
  {
   "cell_type": "markdown",
   "metadata": {},
   "source": [
    "训练模型\n",
    "- 一个被训练过的模型，就是一个预测函数表达式f(x) = wx+b"
   ]
  },
  {
   "cell_type": "markdown",
   "metadata": {},
   "source": [
    " 预测模型  "
   ]
  },
  {
   "cell_type": "markdown",
   "metadata": {},
   "source": [
    "预测100个近距离数据的温度"
   ]
  },
  {
   "cell_type": "markdown",
   "metadata": {},
   "source": [
    "训练远距离和温度的模型"
   ]
  },
  {
   "cell_type": "markdown",
   "metadata": {},
   "source": [
    "预测100个远距离的温度"
   ]
  },
  {
   "cell_type": "markdown",
   "metadata": {},
   "source": [
    "最低湿度与海洋距离的关系\n",
    "- 按城市 city 分组, 计算湿度 humidity 与距离dist的最小值\n",
    "- 按距离dist排序"
   ]
  },
  {
   "cell_type": "markdown",
   "metadata": {},
   "source": [
    "画散点图和线型图"
   ]
  },
  {
   "cell_type": "markdown",
   "metadata": {},
   "source": [
    "最高湿度与海洋距离的关系"
   ]
  },
  {
   "cell_type": "markdown",
   "metadata": {},
   "source": [
    "平均湿度与海洋距离的关系"
   ]
  },
  {
   "cell_type": "markdown",
   "metadata": {},
   "source": [
    "思考：模仿最高温度，得到平均湿度与海洋距离的回归曲线"
   ]
  },
  {
   "cell_type": "markdown",
   "metadata": {},
   "source": [
    "风向与风速的关系\n",
    "- 查看Asti城市的风向wind_deg与风速wind_speed\n",
    "- 按wind_deg风向排序\n",
    "- 重新创建索引 reset_index()"
   ]
  },
  {
   "cell_type": "markdown",
   "metadata": {},
   "source": [
    "画出风向与风速的线性图"
   ]
  },
  {
   "cell_type": "markdown",
   "metadata": {},
   "source": [
    "在子图中，同时比较风向与湿度和风力的关系"
   ]
  },
  {
   "cell_type": "code",
   "execution_count": 85,
   "metadata": {
    "collapsed": true
   },
   "outputs": [
    {
     "data": {
      "text/html": [
       "<div>\n",
       "<style>\n",
       "    .dataframe thead tr:only-child th {\n",
       "        text-align: right;\n",
       "    }\n",
       "\n",
       "    .dataframe thead th {\n",
       "        text-align: left;\n",
       "    }\n",
       "\n",
       "    .dataframe tbody tr th {\n",
       "        vertical-align: top;\n",
       "    }\n",
       "</style>\n",
       "<table border=\"1\" class=\"dataframe\">\n",
       "  <thead>\n",
       "    <tr style=\"text-align: right;\">\n",
       "      <th></th>\n",
       "      <th>wind_deg</th>\n",
       "      <th>wind_speed</th>\n",
       "    </tr>\n",
       "  </thead>\n",
       "  <tbody>\n",
       "    <tr>\n",
       "      <th>0</th>\n",
       "      <td>0.000</td>\n",
       "      <td>1.018667</td>\n",
       "    </tr>\n",
       "    <tr>\n",
       "      <th>1</th>\n",
       "      <td>10.000</td>\n",
       "      <td>3.600000</td>\n",
       "    </tr>\n",
       "    <tr>\n",
       "      <th>2</th>\n",
       "      <td>24.000</td>\n",
       "      <td>2.060000</td>\n",
       "    </tr>\n",
       "    <tr>\n",
       "      <th>3</th>\n",
       "      <td>30.000</td>\n",
       "      <td>2.050000</td>\n",
       "    </tr>\n",
       "    <tr>\n",
       "      <th>4</th>\n",
       "      <td>40.000</td>\n",
       "      <td>1.500000</td>\n",
       "    </tr>\n",
       "    <tr>\n",
       "      <th>5</th>\n",
       "      <td>42.501</td>\n",
       "      <td>2.570000</td>\n",
       "    </tr>\n",
       "    <tr>\n",
       "      <th>6</th>\n",
       "      <td>50.000</td>\n",
       "      <td>2.075000</td>\n",
       "    </tr>\n",
       "    <tr>\n",
       "      <th>7</th>\n",
       "      <td>70.000</td>\n",
       "      <td>2.600000</td>\n",
       "    </tr>\n",
       "    <tr>\n",
       "      <th>8</th>\n",
       "      <td>80.000</td>\n",
       "      <td>2.100000</td>\n",
       "    </tr>\n",
       "    <tr>\n",
       "      <th>9</th>\n",
       "      <td>90.000</td>\n",
       "      <td>1.800000</td>\n",
       "    </tr>\n",
       "    <tr>\n",
       "      <th>10</th>\n",
       "      <td>100.000</td>\n",
       "      <td>2.083333</td>\n",
       "    </tr>\n",
       "    <tr>\n",
       "      <th>11</th>\n",
       "      <td>110.000</td>\n",
       "      <td>2.100000</td>\n",
       "    </tr>\n",
       "    <tr>\n",
       "      <th>12</th>\n",
       "      <td>120.000</td>\n",
       "      <td>2.350000</td>\n",
       "    </tr>\n",
       "    <tr>\n",
       "      <th>13</th>\n",
       "      <td>140.000</td>\n",
       "      <td>1.500000</td>\n",
       "    </tr>\n",
       "    <tr>\n",
       "      <th>14</th>\n",
       "      <td>154.505</td>\n",
       "      <td>2.060000</td>\n",
       "    </tr>\n",
       "    <tr>\n",
       "      <th>15</th>\n",
       "      <td>170.000</td>\n",
       "      <td>5.700000</td>\n",
       "    </tr>\n",
       "    <tr>\n",
       "      <th>16</th>\n",
       "      <td>180.000</td>\n",
       "      <td>1.000000</td>\n",
       "    </tr>\n",
       "    <tr>\n",
       "      <th>17</th>\n",
       "      <td>240.000</td>\n",
       "      <td>2.100000</td>\n",
       "    </tr>\n",
       "    <tr>\n",
       "      <th>18</th>\n",
       "      <td>263.000</td>\n",
       "      <td>1.540000</td>\n",
       "    </tr>\n",
       "    <tr>\n",
       "      <th>19</th>\n",
       "      <td>270.000</td>\n",
       "      <td>2.600000</td>\n",
       "    </tr>\n",
       "    <tr>\n",
       "      <th>20</th>\n",
       "      <td>280.000</td>\n",
       "      <td>2.100000</td>\n",
       "    </tr>\n",
       "    <tr>\n",
       "      <th>21</th>\n",
       "      <td>290.000</td>\n",
       "      <td>1.500000</td>\n",
       "    </tr>\n",
       "    <tr>\n",
       "      <th>22</th>\n",
       "      <td>300.000</td>\n",
       "      <td>3.600000</td>\n",
       "    </tr>\n",
       "    <tr>\n",
       "      <th>23</th>\n",
       "      <td>310.000</td>\n",
       "      <td>1.500000</td>\n",
       "    </tr>\n",
       "    <tr>\n",
       "      <th>24</th>\n",
       "      <td>320.000</td>\n",
       "      <td>2.600000</td>\n",
       "    </tr>\n",
       "    <tr>\n",
       "      <th>25</th>\n",
       "      <td>321.501</td>\n",
       "      <td>0.880000</td>\n",
       "    </tr>\n",
       "    <tr>\n",
       "      <th>26</th>\n",
       "      <td>330.000</td>\n",
       "      <td>1.500000</td>\n",
       "    </tr>\n",
       "    <tr>\n",
       "      <th>27</th>\n",
       "      <td>340.000</td>\n",
       "      <td>2.600000</td>\n",
       "    </tr>\n",
       "    <tr>\n",
       "      <th>28</th>\n",
       "      <td>350.000</td>\n",
       "      <td>2.233333</td>\n",
       "    </tr>\n",
       "    <tr>\n",
       "      <th>29</th>\n",
       "      <td>360.000</td>\n",
       "      <td>1.900000</td>\n",
       "    </tr>\n",
       "  </tbody>\n",
       "</table>\n",
       "</div>"
      ],
      "text/plain": [
       "    wind_deg  wind_speed\n",
       "0      0.000    1.018667\n",
       "1     10.000    3.600000\n",
       "2     24.000    2.060000\n",
       "3     30.000    2.050000\n",
       "4     40.000    1.500000\n",
       "5     42.501    2.570000\n",
       "6     50.000    2.075000\n",
       "7     70.000    2.600000\n",
       "8     80.000    2.100000\n",
       "9     90.000    1.800000\n",
       "10   100.000    2.083333\n",
       "11   110.000    2.100000\n",
       "12   120.000    2.350000\n",
       "13   140.000    1.500000\n",
       "14   154.505    2.060000\n",
       "15   170.000    5.700000\n",
       "16   180.000    1.000000\n",
       "17   240.000    2.100000\n",
       "18   263.000    1.540000\n",
       "19   270.000    2.600000\n",
       "20   280.000    2.100000\n",
       "21   290.000    1.500000\n",
       "22   300.000    3.600000\n",
       "23   310.000    1.500000\n",
       "24   320.000    2.600000\n",
       "25   321.501    0.880000\n",
       "26   330.000    1.500000\n",
       "27   340.000    2.600000\n",
       "28   350.000    2.233333\n",
       "29   360.000    1.900000"
      ]
     },
     "execution_count": 85,
     "metadata": {},
     "output_type": "execute_result"
    }
   ],
   "source": [
    "asti_wind = all_[all_['city'] == 'Asti'][['wind_speed', 'wind_deg']]\n",
    "asti_wind.sort_values('wind_deg', inplace=True)\n",
    "asti_wind = asti_wind.groupby('wind_deg')['wind_speed'].mean()\n",
    "asti_wind = DataFrame(asti_wind)   # Series -> DataFrame\n",
    "asti_wind.reset_index(inplace=True)  # 将wind_deg 索引转成列\n",
    "asti_wind\n",
    "# 将索引值（角度）改成 弧度 \n",
    "# 角度/180 = 弧度/pi,  弧度 = 角度 * pi / 180\n",
    "# asti_wind.index = asti_wind.index*np.pi/180\n"
   ]
  },
  {
   "cell_type": "markdown",
   "metadata": {},
   "source": [
    "角度 转成 弧度 \n",
    "- 角度/180 = 弧度/pi， 弧度 = 角度 * pi / 180\n",
    "\n",
    "asti_wind[(asti_wind['wind_deg'] >= deg) & (asti_wind['wind_deg'] < 45+deg)]['wind_deg']"
   ]
  },
  {
   "cell_type": "markdown",
   "metadata": {},
   "source": [
    "由于风向是360度，我们可以考虑使用玫瑰图（极坐标条形图）"
   ]
  },
  {
   "cell_type": "code",
   "execution_count": 1,
   "metadata": {},
   "outputs": [
    {
     "ename": "NameError",
     "evalue": "name 'plt' is not defined",
     "output_type": "error",
     "traceback": [
      "\u001b[0;31m---------------------------------------------------------------------------\u001b[0m",
      "\u001b[0;31mNameError\u001b[0m                                 Traceback (most recent call last)",
      "\u001b[0;32m<ipython-input-1-a2f10a91a4bd>\u001b[0m in \u001b[0;36m<module>\u001b[0;34m()\u001b[0m\n\u001b[0;32m----> 1\u001b[0;31m \u001b[0max\u001b[0m \u001b[0;34m=\u001b[0m \u001b[0mplt\u001b[0m\u001b[0;34m.\u001b[0m\u001b[0msubplot\u001b[0m\u001b[0;34m(\u001b[0m\u001b[0mpolar\u001b[0m\u001b[0;34m=\u001b[0m\u001b[0;32mTrue\u001b[0m\u001b[0;34m)\u001b[0m  \u001b[0;31m# 极坐标条形图\u001b[0m\u001b[0;34m\u001b[0m\u001b[0m\n\u001b[0m\u001b[1;32m      2\u001b[0m \u001b[0;34m\u001b[0m\u001b[0m\n\u001b[1;32m      3\u001b[0m \u001b[0;31m# x 坐标方向(八个方向)\u001b[0m\u001b[0;34m\u001b[0m\u001b[0;34m\u001b[0m\u001b[0m\n\u001b[1;32m      4\u001b[0m \u001b[0mdegs\u001b[0m \u001b[0;34m=\u001b[0m \u001b[0mnp\u001b[0m\u001b[0;34m.\u001b[0m\u001b[0marange\u001b[0m\u001b[0;34m(\u001b[0m\u001b[0;36m0\u001b[0m\u001b[0;34m,\u001b[0m \u001b[0;36m360\u001b[0m\u001b[0;34m,\u001b[0m \u001b[0mstep\u001b[0m\u001b[0;34m=\u001b[0m\u001b[0;36m45\u001b[0m\u001b[0;34m)\u001b[0m  \u001b[0;31m# ［0, 45, ....315]\u001b[0m\u001b[0;34m\u001b[0m\u001b[0m\n\u001b[1;32m      5\u001b[0m \u001b[0;34m\u001b[0m\u001b[0m\n",
      "\u001b[0;31mNameError\u001b[0m: name 'plt' is not defined"
     ]
    }
   ],
   "source": [
    "ax = plt.subplot(polar=True)  # 极坐标条形图\n",
    "\n",
    "# x 坐标方向(八个方向)\n",
    "degs = np.arange(0, 360, step=45)  # ［0, 45, ....315]\n",
    "\n",
    "# y轴的数值hegiht x 坐标的个数保持一致\n",
    "# y轴的数值 每个方向对应的风速有多个，则计算出它的平均风速\n",
    "heights = [asti_wind['wind_speed'][(asti_wind['wind_deg'] >= deg) \n",
    "                      & (asti_wind['wind_deg'] < 45+deg)].mean() for deg in degs]\n",
    "\n",
    "index = degs*np.pi/180  # 将八个角度转成八弧度\n",
    "\n",
    "ax.bar(index, heights,\n",
    "       color=np.random.random(size=(8, 3)),\n",
    "       align='edge', width=0.7) # 起始的对齐方式\n",
    "\n",
    "ax.set_xticklabels(['东', '东北', '北', '西北', '西', '西南', '南', '东南'])\n",
    "ax.set_title('方向与风力的关系', color='r',\n",
    "            position=(0.5, 1.1), fontsize=15)\n",
    "plt.show()"
   ]
  },
  {
   "cell_type": "markdown",
   "metadata": {},
   "source": [
    "首先自定义一个画图函数"
   ]
  },
  {
   "cell_type": "markdown",
   "metadata": {},
   "source": [
    "用numpy创建一个直方图，将360度划分为8个面元，将数据分类到这8个面元中"
   ]
  },
  {
   "cell_type": "code",
   "execution_count": null,
   "metadata": {
    "collapsed": true
   },
   "outputs": [],
   "source": [
    "def drop_polar(city, compare_colname, title=None):\n",
    "    # 获取指定城市的 风向与某一列比较的信息\n",
    "    city_wind = all_[all_['city'] == city][['wind_deg', compare_colname]]\n",
    "    city_wind.sort_values('wind_deg', inplace=True) # 按方向排序\n",
    "    city_wind.reset_index(drop=True, inplace=True)\n",
    "   \n",
    "    # 8个方向角度\n",
    "    degs = np.arange(0, 360, step=45) \n",
    "    \n",
    "    #获取每个方向上的数据的平均值\n",
    "    heights = [city_wind[compare_colname][(city_wind['wind_deg'] >= deg) &\n",
    "                         (city_wind['wind_deg'] < 45+deg)].mean() for deg in degs]\n",
    "    \n",
    "    # 将角度转为弧度:  角度/360 = 弧度/2*pi\n",
    "    x = [ deg*np.pi/180  for deg in degs]\n",
    "\n",
    "    plt.figure(figsize=(6, 6))\n",
    "    plt.axes(polar = True, frameon=True)\n",
    "\n",
    "    plt.bar(x, height=heights,\n",
    "        align='edge',\n",
    "        bottom=0.1, color=np.random.random(size=(8,3)))\n",
    "    \n",
    "    plt.xticks(x, ('东', '东北', '北', '西北', '西', '西南', '南', '东南'),\n",
    "              fontsize=14)\n",
    "    \n",
    "    if title:\n",
    "        plt.title(city+'城市的'+title,fontsize=20, color='r',\n",
    "                  loc='center', position=(0.5,1.1))\n",
    "    plt.show()"
   ]
  },
  {
   "cell_type": "code",
   "execution_count": null,
   "metadata": {
    "collapsed": true
   },
   "outputs": [],
   "source": [
    "drop_polar('Faenza', 'humidity', '风向与湿度的关系')"
   ]
  },
  {
   "cell_type": "code",
   "execution_count": null,
   "metadata": {
    "collapsed": true
   },
   "outputs": [],
   "source": [
    "drop_polar('Faenza', 'wind_speed', '风向与风力的关系')"
   ]
  },
  {
   "cell_type": "markdown",
   "metadata": {
    "collapsed": true
   },
   "source": [
    "练习： 计算米兰各个方向上的风速"
   ]
  }
 ],
 "metadata": {
  "kernelspec": {
   "display_name": "Python 3",
   "language": "python",
   "name": "python3"
  },
  "language_info": {
   "codemirror_mode": {
    "name": "ipython",
    "version": 3
   },
   "file_extension": ".py",
   "mimetype": "text/x-python",
   "name": "python",
   "nbconvert_exporter": "python",
   "pygments_lexer": "ipython3",
   "version": "3.6.3"
  }
 },
 "nbformat": 4,
 "nbformat_minor": 1
}
