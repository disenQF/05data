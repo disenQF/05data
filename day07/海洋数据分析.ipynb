{
 "cells": [
  {
   "cell_type": "markdown",
   "metadata": {},
   "source": [
    "# 城市气候与海洋的关系研究"
   ]
  },
  {
   "cell_type": "markdown",
   "metadata": {},
   "source": [
    "导入包"
   ]
  },
  {
   "cell_type": "code",
   "execution_count": 1,
   "metadata": {
    "collapsed": true
   },
   "outputs": [],
   "source": [
    "import numpy as np\n",
    "import pandas as pd\n",
    "from pandas import Series,DataFrame\n",
    "import matplotlib.pyplot as plt\n",
    "%matplotlib inline\n",
    "\n",
    "plt.rcParams['font.sans-serif'] = ['SimHei']\n",
    "plt.rcParams['axes.unicode_minus'] = False"
   ]
  },
  {
   "cell_type": "markdown",
   "metadata": {},
   "source": [
    "导入数据各个海滨城市数据\n",
    "- os.listdir('data')\n",
    "- filter() 过滤出所有.csv文件, 返回一个可迭代的Filter对象\n",
    "- df.append() 以行的方式追加, <font color=red>返回一个新的DataFrame</font>"
   ]
  },
  {
   "cell_type": "code",
   "execution_count": 2,
   "metadata": {
    "collapsed": true
   },
   "outputs": [],
   "source": [
    "import os"
   ]
  },
  {
   "cell_type": "code",
   "execution_count": 33,
   "metadata": {
    "collapsed": true
   },
   "outputs": [
    {
     "name": "stdout",
     "output_type": "stream",
     "text": [
      "(24, 11)\n"
     ]
    }
   ],
   "source": [
    "csv_files = os.listdir('data')\n",
    "# 只获取到.csv文件\n",
    "# csv_files = list(filter(lambda f: f.endswith('.csv'),\n",
    "#                         csv_files))\n",
    "# print(csv_files)\n",
    "# df = pd.read_csv('data/bologna_150715.csv')\n",
    "# df.head()\n",
    "all_ = None\n",
    "existed_header = False\n",
    "for csv_file in filter(lambda f: f.endswith('.csv'),\n",
    "                       csv_files):\n",
    "    if not existed_header:\n",
    "        # 第一次创建头\n",
    "        all_ = DataFrame(pd.read_csv(f'data/{csv_file}'))\n",
    "        existed_header = True\n",
    "        print(all_.shape)\n",
    "    else:\n",
    "        # append()返回一个新的DataFrame\n",
    "        all_ = all_.append(pd.read_csv(f'data/{csv_file}'),\n",
    "                           ignore_index=True)"
   ]
  },
  {
   "cell_type": "markdown",
   "metadata": {},
   "source": [
    "查看列数"
   ]
  },
  {
   "cell_type": "code",
   "execution_count": 34,
   "metadata": {},
   "outputs": [
    {
     "data": {
      "text/plain": [
       "Index(['Unnamed: 0', 'temp', 'humidity', 'pressure', 'description', 'dt',\n",
       "       'wind_speed', 'wind_deg', 'city', 'day', 'dist'],\n",
       "      dtype='object')"
      ]
     },
     "execution_count": 34,
     "metadata": {},
     "output_type": "execute_result"
    }
   ],
   "source": [
    "all_.columns"
   ]
  },
  {
   "cell_type": "code",
   "execution_count": 35,
   "metadata": {},
   "outputs": [
    {
     "data": {
      "text/plain": [
       "(675, 11)"
      ]
     },
     "execution_count": 35,
     "metadata": {},
     "output_type": "execute_result"
    }
   ],
   "source": [
    "all_.shape"
   ]
  },
  {
   "cell_type": "markdown",
   "metadata": {},
   "source": [
    "去除没用的列"
   ]
  },
  {
   "cell_type": "code",
   "execution_count": 37,
   "metadata": {
    "collapsed": true
   },
   "outputs": [
    {
     "data": {
      "text/html": [
       "<div>\n",
       "<style>\n",
       "    .dataframe thead tr:only-child th {\n",
       "        text-align: right;\n",
       "    }\n",
       "\n",
       "    .dataframe thead th {\n",
       "        text-align: left;\n",
       "    }\n",
       "\n",
       "    .dataframe tbody tr th {\n",
       "        vertical-align: top;\n",
       "    }\n",
       "</style>\n",
       "<table border=\"1\" class=\"dataframe\">\n",
       "  <thead>\n",
       "    <tr style=\"text-align: right;\">\n",
       "      <th></th>\n",
       "      <th>Unnamed: 0</th>\n",
       "      <th>temp</th>\n",
       "      <th>humidity</th>\n",
       "      <th>pressure</th>\n",
       "      <th>description</th>\n",
       "      <th>dt</th>\n",
       "      <th>wind_speed</th>\n",
       "      <th>wind_deg</th>\n",
       "      <th>city</th>\n",
       "      <th>day</th>\n",
       "      <th>dist</th>\n",
       "    </tr>\n",
       "  </thead>\n",
       "  <tbody>\n",
       "    <tr>\n",
       "      <th>670</th>\n",
       "      <td>19</td>\n",
       "      <td>24.65</td>\n",
       "      <td>83</td>\n",
       "      <td>1007.0</td>\n",
       "      <td>moderate rain</td>\n",
       "      <td>1437799262</td>\n",
       "      <td>0.50</td>\n",
       "      <td>180.000</td>\n",
       "      <td>Ravenna</td>\n",
       "      <td>2015-07-25 06:41:02</td>\n",
       "      <td>8</td>\n",
       "    </tr>\n",
       "    <tr>\n",
       "      <th>671</th>\n",
       "      <td>20</td>\n",
       "      <td>25.40</td>\n",
       "      <td>78</td>\n",
       "      <td>1007.0</td>\n",
       "      <td>few clouds</td>\n",
       "      <td>1437802784</td>\n",
       "      <td>0.50</td>\n",
       "      <td>190.000</td>\n",
       "      <td>Ravenna</td>\n",
       "      <td>2015-07-25 07:39:44</td>\n",
       "      <td>8</td>\n",
       "    </tr>\n",
       "    <tr>\n",
       "      <th>672</th>\n",
       "      <td>21</td>\n",
       "      <td>27.23</td>\n",
       "      <td>54</td>\n",
       "      <td>1008.0</td>\n",
       "      <td>Sky is Clear</td>\n",
       "      <td>1437806426</td>\n",
       "      <td>2.61</td>\n",
       "      <td>254.001</td>\n",
       "      <td>Ravenna</td>\n",
       "      <td>2015-07-25 08:40:26</td>\n",
       "      <td>8</td>\n",
       "    </tr>\n",
       "    <tr>\n",
       "      <th>673</th>\n",
       "      <td>22</td>\n",
       "      <td>31.14</td>\n",
       "      <td>58</td>\n",
       "      <td>1008.0</td>\n",
       "      <td>moderate rain</td>\n",
       "      <td>1437809988</td>\n",
       "      <td>3.87</td>\n",
       "      <td>257.503</td>\n",
       "      <td>Ravenna</td>\n",
       "      <td>2015-07-25 09:39:48</td>\n",
       "      <td>8</td>\n",
       "    </tr>\n",
       "    <tr>\n",
       "      <th>674</th>\n",
       "      <td>23</td>\n",
       "      <td>31.46</td>\n",
       "      <td>52</td>\n",
       "      <td>1008.0</td>\n",
       "      <td>Sky is Clear</td>\n",
       "      <td>1437813634</td>\n",
       "      <td>1.00</td>\n",
       "      <td>190.000</td>\n",
       "      <td>Ravenna</td>\n",
       "      <td>2015-07-25 10:40:34</td>\n",
       "      <td>8</td>\n",
       "    </tr>\n",
       "  </tbody>\n",
       "</table>\n",
       "</div>"
      ],
      "text/plain": [
       "     Unnamed: 0   temp  humidity  pressure    description          dt  \\\n",
       "670          19  24.65        83    1007.0  moderate rain  1437799262   \n",
       "671          20  25.40        78    1007.0     few clouds  1437802784   \n",
       "672          21  27.23        54    1008.0   Sky is Clear  1437806426   \n",
       "673          22  31.14        58    1008.0  moderate rain  1437809988   \n",
       "674          23  31.46        52    1008.0   Sky is Clear  1437813634   \n",
       "\n",
       "     wind_speed  wind_deg     city                  day  dist  \n",
       "670        0.50   180.000  Ravenna  2015-07-25 06:41:02     8  \n",
       "671        0.50   190.000  Ravenna  2015-07-25 07:39:44     8  \n",
       "672        2.61   254.001  Ravenna  2015-07-25 08:40:26     8  \n",
       "673        3.87   257.503  Ravenna  2015-07-25 09:39:48     8  \n",
       "674        1.00   190.000  Ravenna  2015-07-25 10:40:34     8  "
      ]
     },
     "execution_count": 37,
     "metadata": {},
     "output_type": "execute_result"
    }
   ],
   "source": [
    "all_.tail()"
   ]
  },
  {
   "cell_type": "code",
   "execution_count": 38,
   "metadata": {
    "collapsed": true
   },
   "outputs": [
    {
     "data": {
      "text/html": [
       "<div>\n",
       "<style>\n",
       "    .dataframe thead tr:only-child th {\n",
       "        text-align: right;\n",
       "    }\n",
       "\n",
       "    .dataframe thead th {\n",
       "        text-align: left;\n",
       "    }\n",
       "\n",
       "    .dataframe tbody tr th {\n",
       "        vertical-align: top;\n",
       "    }\n",
       "</style>\n",
       "<table border=\"1\" class=\"dataframe\">\n",
       "  <thead>\n",
       "    <tr style=\"text-align: right;\">\n",
       "      <th></th>\n",
       "      <th>temp</th>\n",
       "      <th>humidity</th>\n",
       "      <th>pressure</th>\n",
       "      <th>description</th>\n",
       "      <th>dt</th>\n",
       "      <th>wind_speed</th>\n",
       "      <th>wind_deg</th>\n",
       "      <th>city</th>\n",
       "      <th>day</th>\n",
       "      <th>dist</th>\n",
       "    </tr>\n",
       "  </thead>\n",
       "  <tbody>\n",
       "    <tr>\n",
       "      <th>0</th>\n",
       "      <td>29.98</td>\n",
       "      <td>57</td>\n",
       "      <td>1021.0</td>\n",
       "      <td>Sky is Clear</td>\n",
       "      <td>1436863101</td>\n",
       "      <td>0.51</td>\n",
       "      <td>90.0</td>\n",
       "      <td>Bologna</td>\n",
       "      <td>2015-07-14 10:38:21</td>\n",
       "      <td>71</td>\n",
       "    </tr>\n",
       "    <tr>\n",
       "      <th>1</th>\n",
       "      <td>30.26</td>\n",
       "      <td>51</td>\n",
       "      <td>1021.0</td>\n",
       "      <td>moderate rain</td>\n",
       "      <td>1436866691</td>\n",
       "      <td>1.03</td>\n",
       "      <td>157.0</td>\n",
       "      <td>Bologna</td>\n",
       "      <td>2015-07-14 11:38:11</td>\n",
       "      <td>71</td>\n",
       "    </tr>\n",
       "    <tr>\n",
       "      <th>2</th>\n",
       "      <td>32.36</td>\n",
       "      <td>46</td>\n",
       "      <td>1021.0</td>\n",
       "      <td>sky is clear</td>\n",
       "      <td>1436870392</td>\n",
       "      <td>2.06</td>\n",
       "      <td>67.0</td>\n",
       "      <td>Bologna</td>\n",
       "      <td>2015-07-14 12:39:52</td>\n",
       "      <td>71</td>\n",
       "    </tr>\n",
       "    <tr>\n",
       "      <th>3</th>\n",
       "      <td>31.16</td>\n",
       "      <td>47</td>\n",
       "      <td>1021.0</td>\n",
       "      <td>moderate rain</td>\n",
       "      <td>1436874000</td>\n",
       "      <td>2.06</td>\n",
       "      <td>90.0</td>\n",
       "      <td>Bologna</td>\n",
       "      <td>2015-07-14 13:40:00</td>\n",
       "      <td>71</td>\n",
       "    </tr>\n",
       "    <tr>\n",
       "      <th>4</th>\n",
       "      <td>33.48</td>\n",
       "      <td>44</td>\n",
       "      <td>1021.0</td>\n",
       "      <td>sky is clear</td>\n",
       "      <td>1436877549</td>\n",
       "      <td>2.06</td>\n",
       "      <td>135.0</td>\n",
       "      <td>Bologna</td>\n",
       "      <td>2015-07-14 14:39:09</td>\n",
       "      <td>71</td>\n",
       "    </tr>\n",
       "  </tbody>\n",
       "</table>\n",
       "</div>"
      ],
      "text/plain": [
       "    temp  humidity  pressure    description          dt  wind_speed  wind_deg  \\\n",
       "0  29.98        57    1021.0   Sky is Clear  1436863101        0.51      90.0   \n",
       "1  30.26        51    1021.0  moderate rain  1436866691        1.03     157.0   \n",
       "2  32.36        46    1021.0   sky is clear  1436870392        2.06      67.0   \n",
       "3  31.16        47    1021.0  moderate rain  1436874000        2.06      90.0   \n",
       "4  33.48        44    1021.0   sky is clear  1436877549        2.06     135.0   \n",
       "\n",
       "      city                  day  dist  \n",
       "0  Bologna  2015-07-14 10:38:21    71  \n",
       "1  Bologna  2015-07-14 11:38:11    71  \n",
       "2  Bologna  2015-07-14 12:39:52    71  \n",
       "3  Bologna  2015-07-14 13:40:00    71  \n",
       "4  Bologna  2015-07-14 14:39:09    71  "
      ]
     },
     "execution_count": 38,
     "metadata": {},
     "output_type": "execute_result"
    }
   ],
   "source": [
    "all_.drop('Unnamed: 0', axis=1, inplace=True)\n",
    "all_.head()"
   ]
  },
  {
   "cell_type": "code",
   "execution_count": 39,
   "metadata": {},
   "outputs": [
    {
     "data": {
      "text/plain": [
       "array(['Bologna', 'Piacenza', 'Torino', 'Ferrara', 'Milano', 'Asti',\n",
       "       'Mantova', 'Ravenna', 'Cesena', 'Faenza'], dtype=object)"
      ]
     },
     "execution_count": 39,
     "metadata": {},
     "output_type": "execute_result"
    }
   ],
   "source": [
    "# 查看有哪些城市\n",
    "all_['city'].unique()"
   ]
  },
  {
   "cell_type": "code",
   "execution_count": 40,
   "metadata": {},
   "outputs": [
    {
     "data": {
      "text/plain": [
       "temp           float64\n",
       "humidity         int64\n",
       "pressure       float64\n",
       "description     object\n",
       "dt               int64\n",
       "wind_speed     float64\n",
       "wind_deg       float64\n",
       "city            object\n",
       "day             object\n",
       "dist             int64\n",
       "dtype: object"
      ]
     },
     "execution_count": 40,
     "metadata": {},
     "output_type": "execute_result"
    }
   ],
   "source": [
    "all_.dtypes"
   ]
  },
  {
   "cell_type": "markdown",
   "metadata": {},
   "source": [
    "显示最高温度与离海远近的关系\n",
    "- 按city分组， 计算temp和dist的最大值\n",
    "- 按dist排序"
   ]
  },
  {
   "cell_type": "code",
   "execution_count": 43,
   "metadata": {},
   "outputs": [],
   "source": [
    "city_temp = all_.groupby('city')['temp', 'dist'].max()\n",
    "city_temp.sort_values('dist', inplace=True)"
   ]
  },
  {
   "cell_type": "markdown",
   "metadata": {},
   "source": [
    "画图显示关系 \n",
    "- scatter() 显示距离与温度的散布图\n",
    "- plot() 显示距离与温度的线形图"
   ]
  },
  {
   "cell_type": "code",
   "execution_count": 44,
   "metadata": {
    "collapsed": true
   },
   "outputs": [
    {
     "data": {
      "text/html": [
       "<div>\n",
       "<style>\n",
       "    .dataframe thead tr:only-child th {\n",
       "        text-align: right;\n",
       "    }\n",
       "\n",
       "    .dataframe thead th {\n",
       "        text-align: left;\n",
       "    }\n",
       "\n",
       "    .dataframe tbody tr th {\n",
       "        vertical-align: top;\n",
       "    }\n",
       "</style>\n",
       "<table border=\"1\" class=\"dataframe\">\n",
       "  <thead>\n",
       "    <tr style=\"text-align: right;\">\n",
       "      <th></th>\n",
       "      <th>temp</th>\n",
       "      <th>dist</th>\n",
       "    </tr>\n",
       "    <tr>\n",
       "      <th>city</th>\n",
       "      <th></th>\n",
       "      <th></th>\n",
       "    </tr>\n",
       "  </thead>\n",
       "  <tbody>\n",
       "    <tr>\n",
       "      <th>Ravenna</th>\n",
       "      <td>32.79</td>\n",
       "      <td>8</td>\n",
       "    </tr>\n",
       "    <tr>\n",
       "      <th>Cesena</th>\n",
       "      <td>32.81</td>\n",
       "      <td>14</td>\n",
       "    </tr>\n",
       "    <tr>\n",
       "      <th>Faenza</th>\n",
       "      <td>32.74</td>\n",
       "      <td>37</td>\n",
       "    </tr>\n",
       "    <tr>\n",
       "      <th>Ferrara</th>\n",
       "      <td>33.43</td>\n",
       "      <td>47</td>\n",
       "    </tr>\n",
       "    <tr>\n",
       "      <th>Bologna</th>\n",
       "      <td>33.85</td>\n",
       "      <td>71</td>\n",
       "    </tr>\n",
       "    <tr>\n",
       "      <th>Mantova</th>\n",
       "      <td>34.18</td>\n",
       "      <td>121</td>\n",
       "    </tr>\n",
       "    <tr>\n",
       "      <th>Piacenza</th>\n",
       "      <td>33.92</td>\n",
       "      <td>200</td>\n",
       "    </tr>\n",
       "    <tr>\n",
       "      <th>Milano</th>\n",
       "      <td>34.81</td>\n",
       "      <td>250</td>\n",
       "    </tr>\n",
       "    <tr>\n",
       "      <th>Asti</th>\n",
       "      <td>34.31</td>\n",
       "      <td>315</td>\n",
       "    </tr>\n",
       "    <tr>\n",
       "      <th>Torino</th>\n",
       "      <td>34.69</td>\n",
       "      <td>357</td>\n",
       "    </tr>\n",
       "  </tbody>\n",
       "</table>\n",
       "</div>"
      ],
      "text/plain": [
       "           temp  dist\n",
       "city                 \n",
       "Ravenna   32.79     8\n",
       "Cesena    32.81    14\n",
       "Faenza    32.74    37\n",
       "Ferrara   33.43    47\n",
       "Bologna   33.85    71\n",
       "Mantova   34.18   121\n",
       "Piacenza  33.92   200\n",
       "Milano    34.81   250\n",
       "Asti      34.31   315\n",
       "Torino    34.69   357"
      ]
     },
     "execution_count": 44,
     "metadata": {},
     "output_type": "execute_result"
    }
   ],
   "source": [
    "city_temp"
   ]
  },
  {
   "cell_type": "code",
   "execution_count": 46,
   "metadata": {},
   "outputs": [
    {
     "data": {
      "image/png": "[encoded data removed]",
      "text/plain": [
       "<matplotlib.figure.Figure at 0x110c53128>"
      ]
     },
     "metadata": {},
     "output_type": "display_data"
    }
   ],
   "source": [
    "# 获取图形对象\n",
    "fig = plt.figure(figsize=(12, 4))\n",
    "\n",
    "# 创建scatter子画布\n",
    "ax1 = fig.add_subplot(121)\n",
    "ax1.scatter(city_temp['dist'],\n",
    "            city_temp['temp'])\n",
    "ax1.set_title('距离与温度的散步图')\n",
    "\n",
    "ax2 = fig.add_subplot(122)\n",
    "ax2.plot(city_temp['dist'], city_temp['temp'],\n",
    "         marker='o', markerfacecolor='r')\n",
    "ax2.set_title('距离与温度的关系图')\n",
    "\n",
    "plt.show()"
   ]
  },
  {
   "cell_type": "markdown",
   "metadata": {},
   "source": [
    " 练习\n",
    " \n",
    " 读取某一城市 每天的温度变化和 一周的天气变化"
   ]
  },
  {
   "cell_type": "code",
   "execution_count": 50,
   "metadata": {
    "collapsed": true
   },
   "outputs": [],
   "source": [
    "from datetime import datetime\n",
    "def get_date(item):\n",
    "    dt = datetime.strptime(item, '%Y-%m-%d %H:%M:%S')\n",
    "    return dt.strftime('%Y-%m-%d')"
   ]
  },
  {
   "cell_type": "code",
   "execution_count": 51,
   "metadata": {
    "collapsed": true
   },
   "outputs": [
    {
     "name": "stderr",
     "output_type": "stream",
     "text": [
      "/Users/apple/anaconda3/lib/python3.6/site-packages/ipykernel_launcher.py:2: SettingWithCopyWarning: \n",
      "A value is trying to be set on a copy of a slice from a DataFrame.\n",
      "Try using .loc[row_indexer,col_indexer] = value instead\n",
      "\n",
      "See the caveats in the documentation: http://pandas.pydata.org/pandas-docs/stable/indexing.html#indexing-view-versus-copy\n",
      "  \n"
     ]
    },
    {
     "data": {
      "text/plain": [
       "<bound method Series.unique of 208    2015-07-14\n",
       "209    2015-07-14\n",
       "210    2015-07-14\n",
       "211    2015-07-14\n",
       "212    2015-07-14\n",
       "213    2015-07-14\n",
       "214    2015-07-14\n",
       "215    2015-07-14\n",
       "216    2015-07-14\n",
       "217    2015-07-14\n",
       "218    2015-07-14\n",
       "219    2015-07-14\n",
       "220    2015-07-14\n",
       "221    2015-07-14\n",
       "222    2015-07-15\n",
       "223    2015-07-15\n",
       "224    2015-07-15\n",
       "225    2015-07-15\n",
       "226    2015-07-15\n",
       "227    2015-07-15\n",
       "228    2015-07-15\n",
       "229    2015-07-15\n",
       "230    2015-07-15\n",
       "231    2015-07-15\n",
       "546    2015-06-27\n",
       "547    2015-06-27\n",
       "548    2015-06-27\n",
       "549    2015-06-27\n",
       "550    2015-06-27\n",
       "551    2015-06-27\n",
       "          ...    \n",
       "558    2015-06-28\n",
       "559    2015-06-28\n",
       "560    2015-06-28\n",
       "561    2015-06-28\n",
       "562    2015-06-28\n",
       "563    2015-06-28\n",
       "651    2015-07-24\n",
       "652    2015-07-24\n",
       "653    2015-07-24\n",
       "654    2015-07-24\n",
       "655    2015-07-24\n",
       "656    2015-07-24\n",
       "657    2015-07-24\n",
       "658    2015-07-24\n",
       "659    2015-07-24\n",
       "660    2015-07-24\n",
       "661    2015-07-24\n",
       "662    2015-07-24\n",
       "663    2015-07-24\n",
       "664    2015-07-25\n",
       "665    2015-07-25\n",
       "666    2015-07-25\n",
       "667    2015-07-25\n",
       "668    2015-07-25\n",
       "669    2015-07-25\n",
       "670    2015-07-25\n",
       "671    2015-07-25\n",
       "672    2015-07-25\n",
       "673    2015-07-25\n",
       "674    2015-07-25\n",
       "Name: day, Length: 66, dtype: object>"
      ]
     },
     "execution_count": 51,
     "metadata": {},
     "output_type": "execute_result"
    }
   ],
   "source": [
    "ravenna = all_[all_['city'] == 'Ravenna']\n",
    "ravenna['day'] = ravenna['day'].transform(get_date)\n",
    "ravenna['day'].unique"
   ]
  },
  {
   "cell_type": "code",
   "execution_count": 55,
   "metadata": {},
   "outputs": [
    {
     "data": {
      "text/plain": [
       "<matplotlib.axes._subplots.AxesSubplot at 0x10fe9a9e8>"
      ]
     },
     "execution_count": 55,
     "metadata": {},
     "output_type": "execute_result"
    },
    {
     "data": {
      "image/png": "[encoded data removed]",
      "text/plain": [
       "<matplotlib.figure.Figure at 0x10f428048>"
      ]
     },
     "metadata": {},
     "output_type": "display_data"
    }
   ],
   "source": [
    "ravenna.sort_values('day').groupby('day')['temp'].max().plot()"
   ]
  },
  {
   "cell_type": "markdown",
   "metadata": {},
   "source": [
    "画出 Asti 城市的每天的温度变化的线形图\n",
    "- 处理 day 时间格式"
   ]
  },
  {
   "cell_type": "markdown",
   "metadata": {},
   "source": [
    "观察发现，离海近的可以形成一条直线，离海远的也能形成一条直线。\n",
    "\n",
    "分别以100公里和50公里为分界点，划分为离海近和离海远的两组数据\n",
    "- city_temp['dist'] > 50  # 远距离\n",
    "- city_temp['dist'] < 100 # 近距离"
   ]
  },
  {
   "cell_type": "code",
   "execution_count": 57,
   "metadata": {
    "collapsed": true
   },
   "outputs": [
    {
     "data": {
      "text/html": [
       "<div>\n",
       "<style>\n",
       "    .dataframe thead tr:only-child th {\n",
       "        text-align: right;\n",
       "    }\n",
       "\n",
       "    .dataframe thead th {\n",
       "        text-align: left;\n",
       "    }\n",
       "\n",
       "    .dataframe tbody tr th {\n",
       "        vertical-align: top;\n",
       "    }\n",
       "</style>\n",
       "<table border=\"1\" class=\"dataframe\">\n",
       "  <thead>\n",
       "    <tr style=\"text-align: right;\">\n",
       "      <th></th>\n",
       "      <th>city</th>\n",
       "      <th>temp</th>\n",
       "      <th>dist</th>\n",
       "    </tr>\n",
       "  </thead>\n",
       "  <tbody>\n",
       "    <tr>\n",
       "      <th>0</th>\n",
       "      <td>Bologna</td>\n",
       "      <td>29.98</td>\n",
       "      <td>71</td>\n",
       "    </tr>\n",
       "    <tr>\n",
       "      <th>1</th>\n",
       "      <td>Bologna</td>\n",
       "      <td>30.26</td>\n",
       "      <td>71</td>\n",
       "    </tr>\n",
       "    <tr>\n",
       "      <th>2</th>\n",
       "      <td>Bologna</td>\n",
       "      <td>32.36</td>\n",
       "      <td>71</td>\n",
       "    </tr>\n",
       "    <tr>\n",
       "      <th>3</th>\n",
       "      <td>Bologna</td>\n",
       "      <td>31.16</td>\n",
       "      <td>71</td>\n",
       "    </tr>\n",
       "    <tr>\n",
       "      <th>4</th>\n",
       "      <td>Bologna</td>\n",
       "      <td>33.48</td>\n",
       "      <td>71</td>\n",
       "    </tr>\n",
       "  </tbody>\n",
       "</table>\n",
       "</div>"
      ],
      "text/plain": [
       "      city   temp  dist\n",
       "0  Bologna  29.98    71\n",
       "1  Bologna  30.26    71\n",
       "2  Bologna  32.36    71\n",
       "3  Bologna  31.16    71\n",
       "4  Bologna  33.48    71"
      ]
     },
     "execution_count": 57,
     "metadata": {},
     "output_type": "execute_result"
    }
   ],
   "source": [
    "city_temp = all_[['city', 'temp', 'dist']]\n",
    "city_temp.head()"
   ]
  },
  {
   "cell_type": "code",
   "execution_count": 60,
   "metadata": {
    "collapsed": true
   },
   "outputs": [],
   "source": [
    "city_temp = city_temp.groupby('city')['dist', 'temp'].max()\n",
    "far_city = city_temp[city_temp['dist'] > 50]  # 远距离\n",
    "near_city = city_temp[city_temp['dist'] < 100] # 近距离"
   ]
  },
  {
   "cell_type": "code",
   "execution_count": 61,
   "metadata": {},
   "outputs": [
    {
     "data": {
      "text/plain": [
       "(6, 2)"
      ]
     },
     "metadata": {},
     "output_type": "display_data"
    },
    {
     "data": {
      "text/plain": [
       "(5, 2)"
      ]
     },
     "metadata": {},
     "output_type": "display_data"
    }
   ],
   "source": [
    "display(far_city.shape, near_city.shape)"
   ]
  },
  {
   "cell_type": "markdown",
   "metadata": {},
   "source": [
    "画出远、近的距离与温度的散布图"
   ]
  },
  {
   "cell_type": "code",
   "execution_count": 63,
   "metadata": {},
   "outputs": [
    {
     "data": {
      "image/png": "[encoded data removed]",
      "text/plain": [
       "<matplotlib.figure.Figure at 0x110bc7518>"
      ]
     },
     "metadata": {},
     "output_type": "display_data"
    }
   ],
   "source": [
    "plt.scatter(far_city['dist'], far_city['temp'], color='g')\n",
    "plt.scatter(near_city['dist'], near_city['temp'], color='r')\n",
    "plt.show()"
   ]
  },
  {
   "cell_type": "markdown",
   "metadata": {},
   "source": [
    "使用线性回归预测给定距离的温度\n",
    "-  机器学习的线性回归模型 LinearRegression\n",
    "-  scikit-learn 模块中线性模型\n",
    "    - sklearn.linear_model\n",
    "- 创建回归模型对象\n",
    "    - linear = LinearRegression()\n",
    "- 训练模型\n",
    "    - fit(x, y) \n",
    "        - x 是实际数据的自变量, 必须是 二维数组\n",
    "        - y 实际数据的因变量\n",
    "- 预测模型\n",
    "    - predict(x) 根据预测函数，计算x的结果\n",
    "        - x 也是一个二维数组"
   ]
  },
  {
   "cell_type": "code",
   "execution_count": 64,
   "metadata": {
    "collapsed": true
   },
   "outputs": [],
   "source": [
    "from sklearn.linear_model import LinearRegression"
   ]
  },
  {
   "cell_type": "markdown",
   "metadata": {},
   "source": [
    "创建线性回归模型对象"
   ]
  },
  {
   "cell_type": "code",
   "execution_count": 65,
   "metadata": {
    "collapsed": true
   },
   "outputs": [],
   "source": [
    "lm = LinearRegression()"
   ]
  },
  {
   "cell_type": "markdown",
   "metadata": {},
   "source": [
    "训练模型\n",
    "- 一个被训练过的模型，就是一个预测函数表达式f(x) = wx+b"
   ]
  },
  {
   "cell_type": "code",
   "execution_count": 67,
   "metadata": {},
   "outputs": [
    {
     "data": {
      "text/plain": [
       "array([[71],\n",
       "       [14],\n",
       "       [37],\n",
       "       [47],\n",
       "       [ 8]])"
      ]
     },
     "execution_count": 67,
     "metadata": {},
     "output_type": "execute_result"
    }
   ],
   "source": [
    "near_city['dist'].values.reshape(-1,1)"
   ]
  },
  {
   "cell_type": "code",
   "execution_count": 68,
   "metadata": {},
   "outputs": [
    {
     "data": {
      "text/plain": [
       "LinearRegression(copy_X=True, fit_intercept=True, n_jobs=1, normalize=False)"
      ]
     },
     "execution_count": 68,
     "metadata": {},
     "output_type": "execute_result"
    }
   ],
   "source": [
    "X = near_city['dist'].values.reshape(-1, 1)  # 特征的数据集\n",
    "y = near_city['temp'].values.reshape(-1, 1)  # 目标的数据集\n",
    "lm.fit(X, y)"
   ]
  },
  {
   "cell_type": "markdown",
   "metadata": {},
   "source": [
    " 预测模型  "
   ]
  },
  {
   "cell_type": "code",
   "execution_count": 69,
   "metadata": {},
   "outputs": [
    {
     "data": {
      "text/html": [
       "<div>\n",
       "<style>\n",
       "    .dataframe thead tr:only-child th {\n",
       "        text-align: right;\n",
       "    }\n",
       "\n",
       "    .dataframe thead th {\n",
       "        text-align: left;\n",
       "    }\n",
       "\n",
       "    .dataframe tbody tr th {\n",
       "        vertical-align: top;\n",
       "    }\n",
       "</style>\n",
       "<table border=\"1\" class=\"dataframe\">\n",
       "  <thead>\n",
       "    <tr style=\"text-align: right;\">\n",
       "      <th></th>\n",
       "      <th>dist</th>\n",
       "      <th>temp</th>\n",
       "    </tr>\n",
       "    <tr>\n",
       "      <th>city</th>\n",
       "      <th></th>\n",
       "      <th></th>\n",
       "    </tr>\n",
       "  </thead>\n",
       "  <tbody>\n",
       "    <tr>\n",
       "      <th>Bologna</th>\n",
       "      <td>71</td>\n",
       "      <td>33.85</td>\n",
       "    </tr>\n",
       "    <tr>\n",
       "      <th>Cesena</th>\n",
       "      <td>14</td>\n",
       "      <td>32.81</td>\n",
       "    </tr>\n",
       "    <tr>\n",
       "      <th>Faenza</th>\n",
       "      <td>37</td>\n",
       "      <td>32.74</td>\n",
       "    </tr>\n",
       "    <tr>\n",
       "      <th>Ferrara</th>\n",
       "      <td>47</td>\n",
       "      <td>33.43</td>\n",
       "    </tr>\n",
       "    <tr>\n",
       "      <th>Ravenna</th>\n",
       "      <td>8</td>\n",
       "      <td>32.79</td>\n",
       "    </tr>\n",
       "  </tbody>\n",
       "</table>\n",
       "</div>"
      ],
      "text/plain": [
       "         dist   temp\n",
       "city                \n",
       "Bologna    71  33.85\n",
       "Cesena     14  32.81\n",
       "Faenza     37  32.74\n",
       "Ferrara    47  33.43\n",
       "Ravenna     8  32.79"
      ]
     },
     "execution_count": 69,
     "metadata": {},
     "output_type": "execute_result"
    }
   ],
   "source": [
    "near_city"
   ]
  },
  {
   "cell_type": "code",
   "execution_count": 70,
   "metadata": {},
   "outputs": [
    {
     "data": {
      "text/plain": [
       "array([[ 32.63872647],\n",
       "       [ 32.86085872],\n",
       "       [ 33.03172968],\n",
       "       [ 33.32221032],\n",
       "       [ 33.71521353]])"
      ]
     },
     "execution_count": 70,
     "metadata": {},
     "output_type": "execute_result"
    }
   ],
   "source": [
    "lm.predict([[7], [20],[30],[47], [70]])"
   ]
  },
  {
   "cell_type": "markdown",
   "metadata": {},
   "source": [
    "预测100个近距离数据的温度"
   ]
  },
  {
   "cell_type": "code",
   "execution_count": 71,
   "metadata": {
    "collapsed": true
   },
   "outputs": [
    {
     "data": {
      "text/plain": [
       "array([[ 32.53620389],\n",
       "       [ 32.55329098],\n",
       "       [ 32.57037808],\n",
       "       [ 32.58746518],\n",
       "       [ 32.60455227],\n",
       "       [ 32.62163937],\n",
       "       [ 32.63872647],\n",
       "       [ 32.65581356],\n",
       "       [ 32.67290066],\n",
       "       [ 32.68998775],\n",
       "       [ 32.70707485],\n",
       "       [ 32.72416195],\n",
       "       [ 32.74124904],\n",
       "       [ 32.75833614],\n",
       "       [ 32.77542324],\n",
       "       [ 32.79251033],\n",
       "       [ 32.80959743],\n",
       "       [ 32.82668452],\n",
       "       [ 32.84377162],\n",
       "       [ 32.86085872],\n",
       "       [ 32.87794581],\n",
       "       [ 32.89503291],\n",
       "       [ 32.91212001],\n",
       "       [ 32.9292071 ],\n",
       "       [ 32.9462942 ],\n",
       "       [ 32.96338129],\n",
       "       [ 32.98046839],\n",
       "       [ 32.99755549],\n",
       "       [ 33.01464258],\n",
       "       [ 33.03172968],\n",
       "       [ 33.04881678],\n",
       "       [ 33.06590387],\n",
       "       [ 33.08299097],\n",
       "       [ 33.10007807],\n",
       "       [ 33.11716516],\n",
       "       [ 33.13425226],\n",
       "       [ 33.15133935],\n",
       "       [ 33.16842645],\n",
       "       [ 33.18551355],\n",
       "       [ 33.20260064],\n",
       "       [ 33.21968774],\n",
       "       [ 33.23677484],\n",
       "       [ 33.25386193],\n",
       "       [ 33.27094903],\n",
       "       [ 33.28803612],\n",
       "       [ 33.30512322],\n",
       "       [ 33.32221032],\n",
       "       [ 33.33929741],\n",
       "       [ 33.35638451],\n",
       "       [ 33.37347161],\n",
       "       [ 33.3905587 ],\n",
       "       [ 33.4076458 ],\n",
       "       [ 33.42473289],\n",
       "       [ 33.44181999],\n",
       "       [ 33.45890709],\n",
       "       [ 33.47599418],\n",
       "       [ 33.49308128],\n",
       "       [ 33.51016838],\n",
       "       [ 33.52725547],\n",
       "       [ 33.54434257],\n",
       "       [ 33.56142966],\n",
       "       [ 33.57851676],\n",
       "       [ 33.59560386],\n",
       "       [ 33.61269095],\n",
       "       [ 33.62977805],\n",
       "       [ 33.64686515],\n",
       "       [ 33.66395224],\n",
       "       [ 33.68103934],\n",
       "       [ 33.69812644],\n",
       "       [ 33.71521353],\n",
       "       [ 33.73230063],\n",
       "       [ 33.74938772],\n",
       "       [ 33.76647482],\n",
       "       [ 33.78356192],\n",
       "       [ 33.80064901],\n",
       "       [ 33.81773611],\n",
       "       [ 33.83482321],\n",
       "       [ 33.8519103 ],\n",
       "       [ 33.8689974 ],\n",
       "       [ 33.88608449],\n",
       "       [ 33.90317159],\n",
       "       [ 33.92025869],\n",
       "       [ 33.93734578],\n",
       "       [ 33.95443288],\n",
       "       [ 33.97151998],\n",
       "       [ 33.98860707],\n",
       "       [ 34.00569417],\n",
       "       [ 34.02278126],\n",
       "       [ 34.03986836],\n",
       "       [ 34.05695546],\n",
       "       [ 34.07404255],\n",
       "       [ 34.09112965],\n",
       "       [ 34.10821675],\n",
       "       [ 34.12530384],\n",
       "       [ 34.14239094],\n",
       "       [ 34.15947803],\n",
       "       [ 34.17656513],\n",
       "       [ 34.19365223],\n",
       "       [ 34.21073932],\n",
       "       [ 34.22782642]])"
      ]
     },
     "execution_count": 71,
     "metadata": {},
     "output_type": "execute_result"
    }
   ],
   "source": [
    "near_X = np.linspace(1, 100, num=100).reshape(-1,1)\n",
    "near_y = lm.predict(near_X)\n",
    "near_y"
   ]
  },
  {
   "cell_type": "code",
   "execution_count": 72,
   "metadata": {},
   "outputs": [
    {
     "data": {
      "image/png": "[encoded data removed]",
      "text/plain": [
       "<matplotlib.figure.Figure at 0x1a1b1a7390>"
      ]
     },
     "metadata": {},
     "output_type": "display_data"
    }
   ],
   "source": [
    "plt.scatter(far_city['dist'], far_city['temp'], color='g')\n",
    "plt.scatter(near_city['dist'], near_city['temp'], color='r')\n",
    "plt.plot(near_y)\n",
    "plt.show()"
   ]
  },
  {
   "cell_type": "markdown",
   "metadata": {},
   "source": [
    "训练远距离和温度的模型"
   ]
  },
  {
   "cell_type": "markdown",
   "metadata": {},
   "source": [
    "预测100个远距离的温度"
   ]
  },
  {
   "cell_type": "markdown",
   "metadata": {},
   "source": [
    "最低湿度与海洋距离的关系\n",
    "- 按城市 city 分组, 计算湿度 humidity 与距离dist的最小值\n",
    "- 按距离dist排序"
   ]
  },
  {
   "cell_type": "markdown",
   "metadata": {},
   "source": [
    "画散点图和线型图"
   ]
  },
  {
   "cell_type": "markdown",
   "metadata": {},
   "source": [
    "最高湿度与海洋距离的关系"
   ]
  },
  {
   "cell_type": "markdown",
   "metadata": {},
   "source": [
    "平均湿度与海洋距离的关系"
   ]
  },
  {
   "cell_type": "markdown",
   "metadata": {},
   "source": [
    "思考：模仿最高温度，得到平均湿度与海洋距离的回归曲线"
   ]
  },
  {
   "cell_type": "markdown",
   "metadata": {},
   "source": [
    "风向与风速的关系\n",
    "- 查看Asti城市的风向wind_deg与风速wind_speed\n",
    "- 按wind_deg风向排序\n",
    "- 重新创建索引 reset_index()"
   ]
  },
  {
   "cell_type": "code",
   "execution_count": 78,
   "metadata": {
    "collapsed": true
   },
   "outputs": [
    {
     "data": {
      "text/html": [
       "<div>\n",
       "<style>\n",
       "    .dataframe thead tr:only-child th {\n",
       "        text-align: right;\n",
       "    }\n",
       "\n",
       "    .dataframe thead th {\n",
       "        text-align: left;\n",
       "    }\n",
       "\n",
       "    .dataframe tbody tr th {\n",
       "        vertical-align: top;\n",
       "    }\n",
       "</style>\n",
       "<table border=\"1\" class=\"dataframe\">\n",
       "  <thead>\n",
       "    <tr style=\"text-align: right;\">\n",
       "      <th></th>\n",
       "      <th>wind_deg</th>\n",
       "      <th>wind_speed</th>\n",
       "      <th>dist</th>\n",
       "      <th>humidity</th>\n",
       "    </tr>\n",
       "  </thead>\n",
       "  <tbody>\n",
       "    <tr>\n",
       "      <th>0</th>\n",
       "      <td>0.0</td>\n",
       "      <td>1.0</td>\n",
       "      <td>315</td>\n",
       "      <td>68</td>\n",
       "    </tr>\n",
       "    <tr>\n",
       "      <th>1</th>\n",
       "      <td>0.0</td>\n",
       "      <td>0.5</td>\n",
       "      <td>315</td>\n",
       "      <td>83</td>\n",
       "    </tr>\n",
       "    <tr>\n",
       "      <th>2</th>\n",
       "      <td>0.0</td>\n",
       "      <td>2.1</td>\n",
       "      <td>315</td>\n",
       "      <td>48</td>\n",
       "    </tr>\n",
       "    <tr>\n",
       "      <th>3</th>\n",
       "      <td>0.0</td>\n",
       "      <td>1.0</td>\n",
       "      <td>315</td>\n",
       "      <td>54</td>\n",
       "    </tr>\n",
       "    <tr>\n",
       "      <th>4</th>\n",
       "      <td>0.0</td>\n",
       "      <td>1.0</td>\n",
       "      <td>315</td>\n",
       "      <td>65</td>\n",
       "    </tr>\n",
       "  </tbody>\n",
       "</table>\n",
       "</div>"
      ],
      "text/plain": [
       "   wind_deg  wind_speed  dist  humidity\n",
       "0       0.0         1.0   315        68\n",
       "1       0.0         0.5   315        83\n",
       "2       0.0         2.1   315        48\n",
       "3       0.0         1.0   315        54\n",
       "4       0.0         1.0   315        65"
      ]
     },
     "execution_count": 78,
     "metadata": {},
     "output_type": "execute_result"
    }
   ],
   "source": [
    "columns = ['wind_deg', 'wind_speed', 'dist', 'humidity']\n",
    "asti = all_[all_['city'] == 'Asti'][columns]\n",
    "asti.sort_values('wind_deg', inplace=True)\n",
    "asti.reset_index(drop=True, inplace=True) \n",
    "asti.head()"
   ]
  },
  {
   "cell_type": "markdown",
   "metadata": {},
   "source": [
    "画出风向与风速的线性图"
   ]
  },
  {
   "cell_type": "code",
   "execution_count": 77,
   "metadata": {},
   "outputs": [
    {
     "data": {
      "text/plain": [
       "[<matplotlib.lines.Line2D at 0x1a1b1cc2e8>]"
      ]
     },
     "execution_count": 77,
     "metadata": {},
     "output_type": "execute_result"
    },
    {
     "data": {
      "image/png": "[encoded data removed]",
      "text/plain": [
       "<matplotlib.figure.Figure at 0x1a1b0c06a0>"
      ]
     },
     "metadata": {},
     "output_type": "display_data"
    }
   ],
   "source": [
    "plt.plot(asti['wind_deg'], asti['wind_speed'])"
   ]
  },
  {
   "cell_type": "markdown",
   "metadata": {},
   "source": [
    "在子图中，同时比较风向与湿度和风力的关系"
   ]
  },
  {
   "cell_type": "code",
   "execution_count": 80,
   "metadata": {
    "collapsed": true
   },
   "outputs": [
    {
     "data": {
      "image/png": "[encoded data removed]",
      "text/plain": [
       "<matplotlib.figure.Figure at 0x1a1b1df7b8>"
      ]
     },
     "metadata": {},
     "output_type": "display_data"
    }
   ],
   "source": [
    "fig = plt.figure(figsize=(8, 12))\n",
    "ax1 = fig.add_subplot(211)\n",
    "ax1.plot(asti['wind_deg'], asti['wind_speed'])\n",
    "ax1.set_title('风向与风力的关系')\n",
    "\n",
    "ax2 = fig.add_subplot(212)\n",
    "ax2.plot(asti['wind_deg'], asti['humidity'])\n",
    "ax2.set_title('风向与的湿度关系')\n",
    "\n",
    "plt.show()"
   ]
  },
  {
   "cell_type": "code",
   "execution_count": 86,
   "metadata": {
    "collapsed": true
   },
   "outputs": [
    {
     "data": {
      "text/html": [
       "<div>\n",
       "<style>\n",
       "    .dataframe thead tr:only-child th {\n",
       "        text-align: right;\n",
       "    }\n",
       "\n",
       "    .dataframe thead th {\n",
       "        text-align: left;\n",
       "    }\n",
       "\n",
       "    .dataframe tbody tr th {\n",
       "        vertical-align: top;\n",
       "    }\n",
       "</style>\n",
       "<table border=\"1\" class=\"dataframe\">\n",
       "  <thead>\n",
       "    <tr style=\"text-align: right;\">\n",
       "      <th></th>\n",
       "      <th>wind_deg</th>\n",
       "      <th>wind_speed</th>\n",
       "    </tr>\n",
       "  </thead>\n",
       "  <tbody>\n",
       "    <tr>\n",
       "      <th>0</th>\n",
       "      <td>0.000</td>\n",
       "      <td>1.018667</td>\n",
       "    </tr>\n",
       "    <tr>\n",
       "      <th>1</th>\n",
       "      <td>10.000</td>\n",
       "      <td>3.600000</td>\n",
       "    </tr>\n",
       "    <tr>\n",
       "      <th>2</th>\n",
       "      <td>24.000</td>\n",
       "      <td>2.060000</td>\n",
       "    </tr>\n",
       "    <tr>\n",
       "      <th>3</th>\n",
       "      <td>30.000</td>\n",
       "      <td>2.050000</td>\n",
       "    </tr>\n",
       "    <tr>\n",
       "      <th>4</th>\n",
       "      <td>40.000</td>\n",
       "      <td>1.500000</td>\n",
       "    </tr>\n",
       "    <tr>\n",
       "      <th>5</th>\n",
       "      <td>42.501</td>\n",
       "      <td>2.570000</td>\n",
       "    </tr>\n",
       "    <tr>\n",
       "      <th>6</th>\n",
       "      <td>50.000</td>\n",
       "      <td>2.075000</td>\n",
       "    </tr>\n",
       "    <tr>\n",
       "      <th>7</th>\n",
       "      <td>70.000</td>\n",
       "      <td>2.600000</td>\n",
       "    </tr>\n",
       "    <tr>\n",
       "      <th>8</th>\n",
       "      <td>80.000</td>\n",
       "      <td>2.100000</td>\n",
       "    </tr>\n",
       "    <tr>\n",
       "      <th>9</th>\n",
       "      <td>90.000</td>\n",
       "      <td>1.800000</td>\n",
       "    </tr>\n",
       "    <tr>\n",
       "      <th>10</th>\n",
       "      <td>100.000</td>\n",
       "      <td>2.083333</td>\n",
       "    </tr>\n",
       "    <tr>\n",
       "      <th>11</th>\n",
       "      <td>110.000</td>\n",
       "      <td>2.100000</td>\n",
       "    </tr>\n",
       "    <tr>\n",
       "      <th>12</th>\n",
       "      <td>120.000</td>\n",
       "      <td>2.350000</td>\n",
       "    </tr>\n",
       "    <tr>\n",
       "      <th>13</th>\n",
       "      <td>140.000</td>\n",
       "      <td>1.500000</td>\n",
       "    </tr>\n",
       "    <tr>\n",
       "      <th>14</th>\n",
       "      <td>154.505</td>\n",
       "      <td>2.060000</td>\n",
       "    </tr>\n",
       "    <tr>\n",
       "      <th>15</th>\n",
       "      <td>170.000</td>\n",
       "      <td>5.700000</td>\n",
       "    </tr>\n",
       "    <tr>\n",
       "      <th>16</th>\n",
       "      <td>180.000</td>\n",
       "      <td>1.000000</td>\n",
       "    </tr>\n",
       "    <tr>\n",
       "      <th>17</th>\n",
       "      <td>240.000</td>\n",
       "      <td>2.100000</td>\n",
       "    </tr>\n",
       "    <tr>\n",
       "      <th>18</th>\n",
       "      <td>263.000</td>\n",
       "      <td>1.540000</td>\n",
       "    </tr>\n",
       "    <tr>\n",
       "      <th>19</th>\n",
       "      <td>270.000</td>\n",
       "      <td>2.600000</td>\n",
       "    </tr>\n",
       "    <tr>\n",
       "      <th>20</th>\n",
       "      <td>280.000</td>\n",
       "      <td>2.100000</td>\n",
       "    </tr>\n",
       "    <tr>\n",
       "      <th>21</th>\n",
       "      <td>290.000</td>\n",
       "      <td>1.500000</td>\n",
       "    </tr>\n",
       "    <tr>\n",
       "      <th>22</th>\n",
       "      <td>300.000</td>\n",
       "      <td>3.600000</td>\n",
       "    </tr>\n",
       "    <tr>\n",
       "      <th>23</th>\n",
       "      <td>310.000</td>\n",
       "      <td>1.500000</td>\n",
       "    </tr>\n",
       "    <tr>\n",
       "      <th>24</th>\n",
       "      <td>320.000</td>\n",
       "      <td>2.600000</td>\n",
       "    </tr>\n",
       "    <tr>\n",
       "      <th>25</th>\n",
       "      <td>321.501</td>\n",
       "      <td>0.880000</td>\n",
       "    </tr>\n",
       "    <tr>\n",
       "      <th>26</th>\n",
       "      <td>330.000</td>\n",
       "      <td>1.500000</td>\n",
       "    </tr>\n",
       "    <tr>\n",
       "      <th>27</th>\n",
       "      <td>340.000</td>\n",
       "      <td>2.600000</td>\n",
       "    </tr>\n",
       "    <tr>\n",
       "      <th>28</th>\n",
       "      <td>350.000</td>\n",
       "      <td>2.233333</td>\n",
       "    </tr>\n",
       "    <tr>\n",
       "      <th>29</th>\n",
       "      <td>360.000</td>\n",
       "      <td>1.900000</td>\n",
       "    </tr>\n",
       "  </tbody>\n",
       "</table>\n",
       "</div>"
      ],
      "text/plain": [
       "    wind_deg  wind_speed\n",
       "0      0.000    1.018667\n",
       "1     10.000    3.600000\n",
       "2     24.000    2.060000\n",
       "3     30.000    2.050000\n",
       "4     40.000    1.500000\n",
       "5     42.501    2.570000\n",
       "6     50.000    2.075000\n",
       "7     70.000    2.600000\n",
       "8     80.000    2.100000\n",
       "9     90.000    1.800000\n",
       "10   100.000    2.083333\n",
       "11   110.000    2.100000\n",
       "12   120.000    2.350000\n",
       "13   140.000    1.500000\n",
       "14   154.505    2.060000\n",
       "15   170.000    5.700000\n",
       "16   180.000    1.000000\n",
       "17   240.000    2.100000\n",
       "18   263.000    1.540000\n",
       "19   270.000    2.600000\n",
       "20   280.000    2.100000\n",
       "21   290.000    1.500000\n",
       "22   300.000    3.600000\n",
       "23   310.000    1.500000\n",
       "24   320.000    2.600000\n",
       "25   321.501    0.880000\n",
       "26   330.000    1.500000\n",
       "27   340.000    2.600000\n",
       "28   350.000    2.233333\n",
       "29   360.000    1.900000"
      ]
     },
     "execution_count": 86,
     "metadata": {},
     "output_type": "execute_result"
    }
   ],
   "source": [
    "asti_wind = asti.groupby('wind_deg')['wind_speed'].mean()\n",
    "asti_wind = DataFrame(asti_wind) # Series的name作为列名\n",
    "asti_wind.reset_index(inplace=True) # 重新生成索引，原索引转为列\n",
    "asti_wind"
   ]
  },
  {
   "cell_type": "markdown",
   "metadata": {},
   "source": [
    "角度 转成 弧度 \n",
    "- 角度/180 = 弧度/pi， 弧度 = 角度 * pi / 180\n",
    "\n",
    "asti_wind[(asti_wind['wind_deg'] >= deg) & (asti_wind['wind_deg'] < 45+deg)]['wind_deg']"
   ]
  },
  {
   "cell_type": "markdown",
   "metadata": {},
   "source": [
    "由于风向是360度，我们可以考虑使用玫瑰图（极坐标条形图）"
   ]
  },
  {
   "cell_type": "code",
   "execution_count": 91,
   "metadata": {},
   "outputs": [
    {
     "data": {
      "text/plain": [
       "2.133111111111111"
      ]
     },
     "execution_count": 91,
     "metadata": {},
     "output_type": "execute_result"
    }
   ],
   "source": [
    "# 计算0~ 45之间的所有风速\n",
    "asti_wind['wind_speed'][(asti_wind['wind_deg'] >= 0) & (asti_wind['wind_deg'] < 45+0)].mean()"
   ]
  },
  {
   "cell_type": "code",
   "execution_count": 92,
   "metadata": {},
   "outputs": [
    {
     "data": {
      "image/png": "[encoded data removed]",
      "text/plain": [
       "<matplotlib.figure.Figure at 0x1a1b989b38>"
      ]
     },
     "metadata": {},
     "output_type": "display_data"
    }
   ],
   "source": [
    "ax = plt.subplot(polar=True)  # 极坐标条形图\n",
    "\n",
    "# x 坐标方向(八个方向)\n",
    "degs = np.arange(0, 360, step=45)  # ［0, 45, ....315]\n",
    "\n",
    "# y轴的数值hegiht x 坐标的个数保持一致\n",
    "# y轴的数值 每个方向对应的风速有多个，则计算出它的平均风速\n",
    "heights = [asti_wind['wind_speed'][(asti_wind['wind_deg'] >= deg) \n",
    "                      & (asti_wind['wind_deg'] < 45+deg)].mean() for deg in degs]\n",
    "\n",
    "index = degs*np.pi/180  # 将八个角度转成八弧度\n",
    "\n",
    "ax.bar(index, heights,\n",
    "       color=np.random.random(size=(8, 3)),\n",
    "       align='edge', width=0.7) # 起始的对齐方式\n",
    "\n",
    "ax.set_xticklabels(['东', '东北', '北', '西北', '西', '西南', '南', '东南'])\n",
    "ax.set_title('方向与风力的关系', color='r',\n",
    "            position=(0.5, 1.1), fontsize=15)\n",
    "plt.show()"
   ]
  },
  {
   "cell_type": "markdown",
   "metadata": {},
   "source": [
    "首先自定义一个画图函数"
   ]
  },
  {
   "cell_type": "markdown",
   "metadata": {},
   "source": [
    "用numpy创建一个直方图，将360度划分为8个面元，将数据分类到这8个面元中"
   ]
  },
  {
   "cell_type": "code",
   "execution_count": 93,
   "metadata": {
    "collapsed": true
   },
   "outputs": [],
   "source": [
    "def drop_polar(city, compare_colname, title=None):\n",
    "    # 获取指定城市的 风向与某一列比较的信息\n",
    "    city_wind = all_[all_['city'] == city][['wind_deg', compare_colname]]\n",
    "    city_wind.sort_values('wind_deg', inplace=True) # 按方向排序\n",
    "    city_wind.reset_index(drop=True, inplace=True)\n",
    "   \n",
    "    # 8个方向角度\n",
    "    degs = np.arange(0, 360, step=45) \n",
    "    \n",
    "    #获取每个方向上的数据的平均值\n",
    "    heights = [city_wind[compare_colname][(city_wind['wind_deg'] >= deg) &\n",
    "                         (city_wind['wind_deg'] < 45+deg)].mean() for deg in degs]\n",
    "    \n",
    "    # 将角度转为弧度:  角度/360 = 弧度/2*pi\n",
    "    x = [ deg*np.pi/180  for deg in degs]\n",
    "\n",
    "    plt.figure(figsize=(6, 6))\n",
    "    plt.axes(polar = True, frameon=True)\n",
    "\n",
    "    plt.bar(x, height=heights,\n",
    "        align='edge',\n",
    "        bottom=0.1, color=np.random.random(size=(8,3)))\n",
    "    \n",
    "    plt.xticks(x, ('东', '东北', '北', '西北', '西', '西南', '南', '东南'),\n",
    "              fontsize=14)\n",
    "    \n",
    "    if title:\n",
    "        plt.title(city+'城市的'+title,fontsize=20, color='r',\n",
    "                  loc='center', position=(0.5,1.1))\n",
    "    plt.show()"
   ]
  },
  {
   "cell_type": "code",
   "execution_count": 97,
   "metadata": {},
   "outputs": [
    {
     "data": {
      "image/png": "[encoded data removed]",
      "text/plain": [
       "<matplotlib.figure.Figure at 0x10af54128>"
      ]
     },
     "metadata": {},
     "output_type": "display_data"
    }
   ],
   "source": [
    "drop_polar('Asti', 'humidity', '风向与湿度的关系')"
   ]
  },
  {
   "cell_type": "code",
   "execution_count": 96,
   "metadata": {},
   "outputs": [
    {
     "data": {
      "image/png": "[encoded data removed]",
      "text/plain": [
       "<matplotlib.figure.Figure at 0x1a1b051f60>"
      ]
     },
     "metadata": {},
     "output_type": "display_data"
    }
   ],
   "source": [
    "drop_polar('Asti', 'wind_speed', '风向与风力的关系')"
   ]
  },
  {
   "cell_type": "markdown",
   "metadata": {
    "collapsed": true
   },
   "source": [
    "练习： 计算米兰各个方向上的风速"
   ]
  }
 ],
 "metadata": {
  "kernelspec": {
   "display_name": "Python 3",
   "language": "python",
   "name": "python3"
  },
  "language_info": {
   "codemirror_mode": {
    "name": "ipython",
    "version": 3
   },
   "file_extension": ".py",
   "mimetype": "text/x-python",
   "name": "python",
   "nbconvert_exporter": "python",
   "pygments_lexer": "ipython3",
   "version": "3.6.3"
  }
 },
 "nbformat": 4,
 "nbformat_minor": 1
}
