{
 "cells": [
  {
   "cell_type": "markdown",
   "metadata": {},
   "source": [
    "导包"
   ]
  },
  {
   "cell_type": "markdown",
   "metadata": {},
   "source": [
    "将每个图片读取的数据添加到样本列表中\n",
    "- 样本分X_train (特征)和y_train（目标）\n",
    "- 图片的路径, 0/0_1.bmp 格式\n",
    "- plt.imread(img_path).ravel()  将二维扁平化处理成一维后添加到样本特征列表中"
   ]
  },
  {
   "cell_type": "markdown",
   "metadata": {},
   "source": [
    "切分训练数据与测试数据\n",
    "- sklearn.model_selection.train_test_split()函数切分\n",
    "- 第一个参数为 samples\n",
    "- 第二个参数为 target\n",
    "- 返回 X_train, X_test, y_train, y_test"
   ]
  },
  {
   "cell_type": "markdown",
   "metadata": {},
   "source": [
    "训练与预测: KNeighborsClassifier\n",
    "- knnclf = KNeighborsClassifier(n_neighbors=5)"
   ]
  },
  {
   "cell_type": "markdown",
   "metadata": {},
   "source": [
    "查看得分\n",
    "- knnclf.score(X_test,y_test)"
   ]
  },
  {
   "cell_type": "markdown",
   "metadata": {},
   "source": [
    "绘制图形（预测值和真实值表达出来）\n",
    "- 可以查看前100个样本数据, 即10行10列\n",
    "- plt.imshow()显示图片\n",
    "    - plt.imshow(X_test[i].reshape(28,28),cmap='gray') 样本数据恢复二维"
   ]
  }
 ],
 "metadata": {
  "kernelspec": {
   "display_name": "Python 3",
   "language": "python",
   "name": "python3"
  },
  "language_info": {
   "codemirror_mode": {
    "name": "ipython",
    "version": 3
   },
   "file_extension": ".py",
   "mimetype": "text/x-python",
   "name": "python",
   "nbconvert_exporter": "python",
   "pygments_lexer": "ipython3",
   "version": "3.6.3"
  }
 },
 "nbformat": 4,
 "nbformat_minor": 2
}
