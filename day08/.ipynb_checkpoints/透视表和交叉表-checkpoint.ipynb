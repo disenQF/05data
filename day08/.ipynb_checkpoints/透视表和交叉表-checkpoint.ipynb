{
 "cells": [
  {
   "cell_type": "markdown",
   "metadata": {
    "collapsed": true
   },
   "source": [
    "导包\n",
    "- numpy, pandas, pandas/Series,DataFrame, pivot, pivot_table, crosstab\n",
    "- matplotlib"
   ]
  },
  {
   "cell_type": "markdown",
   "metadata": {},
   "source": [
    "### 透视表\n",
    "\n",
    "各种电子表格程序和其他数据分析软件中一种常见的数据汇总工具。\n",
    "\n",
    "它根据一个或多个键对数据进行聚合，并根据行和列上的分组键将数据分配到各个矩形区域中"
   ]
  },
  {
   "cell_type": "code",
   "execution_count": null,
   "metadata": {
    "collapsed": true
   },
   "outputs": [],
   "source": [
    "df = DataFrame(data={\n",
    "    'sex':np.random.choice(['男', '女'], size=10),\n",
    "    'smoke': np.random.choice(['Yes', 'No'], size=10),\n",
    "    'height(cm)': np.random.randint(150, 199, size=10),\n",
    "    'weight(kg)': np.random.randint(40, 100, size=10)\n",
    "})\n",
    "df.head()"
   ]
  },
  {
   "cell_type": "markdown",
   "metadata": {},
   "source": [
    "行分组透视表 设置index参数\n",
    "- df.pivot_table(index)\n",
    "   - index 可以指定多个column 来以 “行透视”\n",
    "   - 即将列转为index行， 则会影响行数，\n",
    "   - 对同一类的数据会进 aggfunc函数处理, 默认 np.mean()\n",
    "  \n",
    "<font color=blue>一般不会产生 NaN 值 </font>"
   ]
  },
  {
   "cell_type": "markdown",
   "metadata": {},
   "source": [
    "列分组透视表 设置columns参数\n",
    "- df.pivot(columns)\n",
    "    - 按列分组，不会影响行数\n",
    "    - 一般会出现NaN值数据， \n",
    "    \n",
    "<font color=red>一般很少使用pivot() 函数进行单列的透视</font>"
   ]
  },
  {
   "cell_type": "markdown",
   "metadata": {},
   "source": [
    "行列分组的透视表  同时设定index、columns参数\n",
    "- df.pivot_table(index,columns, values)\n",
    "- 增加喜欢的颜色 color,  ['red', 'white', 'gray']"
   ]
  },
  {
   "cell_type": "markdown",
   "metadata": {},
   "source": [
    "练习： 按 sex,color进行行分组， 按smoke进行列分组，显示 height和weight"
   ]
  },
  {
   "cell_type": "markdown",
   "metadata": {},
   "source": [
    "aggfunc：设置应用在每个区域的聚合函数，默认值为np.mean\n",
    "- 分类聚合时， 显示某一特征的最大值\n",
    "- values 指定期望看到的特征值( 列名， 可以是str, tuple, list)"
   ]
  },
  {
   "cell_type": "markdown",
   "metadata": {},
   "source": [
    "fill_value：替换结果中的缺失值"
   ]
  },
  {
   "cell_type": "markdown",
   "metadata": {},
   "source": [
    "### 交叉表\n",
    "\n",
    "是一种用于计算分组频率的特殊透视图,主要是对数据进行统计汇总"
   ]
  },
  {
   "cell_type": "markdown",
   "metadata": {},
   "source": [
    "pd.crosstab(index,colums)\n",
    "\n",
    "- index:分组数据，交叉表的行索引\n",
    "- columns:交叉表的列索引"
   ]
  },
  {
   "cell_type": "code",
   "execution_count": null,
   "metadata": {
    "collapsed": true
   },
   "outputs": [],
   "source": [
    "df = DataFrame(data={\n",
    "    'sex':np.random.choice(['男', '女'], size=1000),\n",
    "    'smoke': np.random.choice(['Yes', 'No'], size=1000),\n",
    "    'height(cm)': np.random.randint(150, 199, size=1000),\n",
    "    'weight(kg)': np.random.randint(40, 100, size=1000),\n",
    "    'color': np.random.choice(['red', 'gray', 'white', 'black'], size=1000)\n",
    "})"
   ]
  },
  {
   "cell_type": "markdown",
   "metadata": {},
   "source": [
    "读取美国2015－2016年所有股市数据\n",
    "- data/stock2015-2016.csv"
   ]
  },
  {
   "cell_type": "markdown",
   "metadata": {},
   "source": [
    "查看有哪些股票\n",
    "- Ticker字段"
   ]
  },
  {
   "cell_type": "markdown",
   "metadata": {},
   "source": [
    "每个股票的平均收盘价格 \"Adj Close\"\n",
    "- pivot_table()"
   ]
  },
  {
   "cell_type": "markdown",
   "metadata": {},
   "source": [
    "每个股票的最高的收盘价格"
   ]
  },
  {
   "cell_type": "markdown",
   "metadata": {
    "collapsed": true
   },
   "source": [
    "查看每天的苹果股票的收盘价格\n",
    "- Date 时间"
   ]
  }
 ],
 "metadata": {
  "kernelspec": {
   "display_name": "Python 3",
   "language": "python",
   "name": "python3"
  },
  "language_info": {
   "codemirror_mode": {
    "name": "ipython",
    "version": 3
   },
   "file_extension": ".py",
   "mimetype": "text/x-python",
   "name": "python",
   "nbconvert_exporter": "python",
   "pygments_lexer": "ipython3",
   "version": "3.6.3"
  }
 },
 "nbformat": 4,
 "nbformat_minor": 2
}
