{
 "cells": [
  {
   "cell_type": "markdown",
   "metadata": {},
   "source": [
    "# 聚合操作\n",
    "- max() 最大值\n",
    "- min() 最小值\n",
    "- mean() 平均值\n",
    "- sum()  计算总合\n",
    "- std()  标准差"
   ]
  },
  {
   "cell_type": "code",
   "execution_count": 2,
   "metadata": {
    "collapsed": true
   },
   "outputs": [],
   "source": [
    "import numpy as np  # 数组计算\n",
    "import pandas as pd  # 数据分析的工具"
   ]
  },
  {
   "cell_type": "code",
   "execution_count": 10,
   "metadata": {
    "collapsed": true
   },
   "outputs": [],
   "source": [
    "def mean(*args):\n",
    "    \"\"\"\n",
    "    计算给定所有元素的平均值\n",
    "    axis = 0, 1, 2\n",
    "    [\n",
    "     [[], [], []],\n",
    "     [[], [], []],\n",
    "     [[], [], []]\n",
    "    ]\n",
    "    \"\"\"\n",
    "    ary = np.array(list(args))  # ndarray类型\n",
    "    if ary.ndim == 1:\n",
    "        return np.mean(ary)  # numpy的求平均的函数\n",
    "    elif ary.ndim == 2:\n",
    "        return np.mean(ary, axis=1)"
   ]
  },
  {
   "cell_type": "code",
   "execution_count": 3,
   "metadata": {},
   "outputs": [
    {
     "data": {
      "text/plain": [
       "5.0"
      ]
     },
     "execution_count": 3,
     "metadata": {},
     "output_type": "execute_result"
    }
   ],
   "source": [
    "mean(1,2,3,4,5,6,7,8,9)"
   ]
  },
  {
   "cell_type": "code",
   "execution_count": 4,
   "metadata": {},
   "outputs": [
    {
     "data": {
      "text/plain": [
       "15.0"
      ]
     },
     "execution_count": 4,
     "metadata": {},
     "output_type": "execute_result"
    }
   ],
   "source": [
    "mean(10, 20)"
   ]
  },
  {
   "cell_type": "code",
   "execution_count": 11,
   "metadata": {},
   "outputs": [
    {
     "data": {
      "text/plain": [
       "array([ 1.5,  3.5,  5.5,  7.5,  9.5])"
      ]
     },
     "execution_count": 11,
     "metadata": {},
     "output_type": "execute_result"
    }
   ],
   "source": [
    "mean([1,2],[3,4],[5,6],[7,8],[9,10])"
   ]
  },
  {
   "cell_type": "code",
   "execution_count": 13,
   "metadata": {},
   "outputs": [
    {
     "name": "stdout",
     "output_type": "stream",
     "text": [
      "数学的平均成绩: 92.75\n",
      "第一位同学的平均成绩: 99.0\n"
     ]
    }
   ],
   "source": [
    "# 每一个一维数组表示一位同学的语文、数学 和英语的成绩\n",
    "# 一维数组中的下标： 0 语文， 1数学, 2 英语\n",
    "scores = [\n",
    "    [100, 98, 99],\n",
    "    [90, 100, 80],\n",
    "    [91, 98, 95.5],\n",
    "    [70, 75,  90]\n",
    "]\n",
    "\n",
    "sa = np.array(scores)\n",
    "sa1 = np.mean(sa, axis=0)  # 计算每门课的平均成绩\n",
    "print('数学的平均成绩:', sa1[1])\n",
    "\n",
    "sa2 = np.mean(sa, axis=1)\n",
    "print('第一位同学的平均成绩:', sa2[0])"
   ]
  },
  {
   "cell_type": "code",
   "execution_count": 14,
   "metadata": {},
   "outputs": [
    {
     "data": {
      "text/plain": [
       "array([[ 100. ,   98. ,   99. ],\n",
       "       [  90. ,  100. ,   80. ],\n",
       "       [  91. ,   98. ,   95.5],\n",
       "       [  70. ,   75. ,   90. ]])"
      ]
     },
     "execution_count": 14,
     "metadata": {},
     "output_type": "execute_result"
    }
   ],
   "source": [
    "sa"
   ]
  },
  {
   "cell_type": "code",
   "execution_count": 15,
   "metadata": {},
   "outputs": [
    {
     "data": {
      "text/plain": [
       "1086.5"
      ]
     },
     "execution_count": 15,
     "metadata": {},
     "output_type": "execute_result"
    }
   ],
   "source": [
    "# 计算全班的总成绩\n",
    "np.sum(sa)"
   ]
  },
  {
   "cell_type": "code",
   "execution_count": 18,
   "metadata": {},
   "outputs": [
    {
     "data": {
      "text/plain": [
       "array([ 351. ,  371. ,  364.5])"
      ]
     },
     "execution_count": 18,
     "metadata": {},
     "output_type": "execute_result"
    }
   ],
   "source": [
    "# 计算每个学科的总成绩\n",
    "# np.sum(sa, axis=0).max()\n",
    "np.sum(sa, axis=0)"
   ]
  },
  {
   "cell_type": "code",
   "execution_count": 19,
   "metadata": {},
   "outputs": [
    {
     "data": {
      "text/plain": [
       "array([ 297. ,  270. ,  284.5,  235. ])"
      ]
     },
     "execution_count": 19,
     "metadata": {},
     "output_type": "execute_result"
    }
   ],
   "source": [
    "# 计算每人的总成绩\n",
    "np.sum(sa, axis=1)"
   ]
  },
  {
   "cell_type": "markdown",
   "metadata": {},
   "source": [
    "练习1: 计算每个人的最高成绩，最低成绩"
   ]
  },
  {
   "cell_type": "code",
   "execution_count": 20,
   "metadata": {},
   "outputs": [
    {
     "data": {
      "text/plain": [
       "array([ 100.,  100.,   98.,   90.])"
      ]
     },
     "metadata": {},
     "output_type": "display_data"
    },
    {
     "data": {
      "text/plain": [
       "array([ 98.,  80.,  91.,  70.])"
      ]
     },
     "metadata": {},
     "output_type": "display_data"
    }
   ],
   "source": [
    "display(np.max(sa,axis=1), sa.min(axis=1))"
   ]
  },
  {
   "cell_type": "markdown",
   "metadata": {},
   "source": [
    "练习2: 计算每个学科的最高成绩，最低成绩"
   ]
  },
  {
   "cell_type": "code",
   "execution_count": 21,
   "metadata": {},
   "outputs": [
    {
     "data": {
      "text/plain": [
       "array([ 100.,  100.,   99.])"
      ]
     },
     "metadata": {},
     "output_type": "display_data"
    },
    {
     "data": {
      "text/plain": [
       "array([ 70.,  75.,  80.])"
      ]
     },
     "metadata": {},
     "output_type": "display_data"
    }
   ],
   "source": [
    "display(np.max(sa,axis=0), sa.min(axis=0))"
   ]
  },
  {
   "cell_type": "markdown",
   "metadata": {},
   "source": [
    "扩展： 读取csv文件"
   ]
  },
  {
   "cell_type": "code",
   "execution_count": null,
   "metadata": {
    "collapsed": true
   },
   "outputs": [],
   "source": []
  }
 ],
 "metadata": {
  "kernelspec": {
   "display_name": "Python 3",
   "language": "python",
   "name": "python3"
  },
  "language_info": {
   "codemirror_mode": {
    "name": "ipython",
    "version": 3
   },
   "file_extension": ".py",
   "mimetype": "text/x-python",
   "name": "python",
   "nbconvert_exporter": "python",
   "pygments_lexer": "ipython3",
   "version": "3.6.3"
  }
 },
 "nbformat": 4,
 "nbformat_minor": 2
}
