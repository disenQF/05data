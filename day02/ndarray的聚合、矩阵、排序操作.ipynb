{
 "cells": [
  {
   "cell_type": "markdown",
   "metadata": {},
   "source": [
    "# 聚合操作\n",
    "- max() 最大值\n",
    "- min() 最小值\n",
    "- mean() 平均值\n",
    "- sum()  计算总合\n",
    "- std()  标准差"
   ]
  },
  {
   "cell_type": "code",
   "execution_count": 2,
   "metadata": {
    "collapsed": true
   },
   "outputs": [],
   "source": [
    "import numpy as np  # 数组计算\n",
    "import pandas as pd  # 数据分析的工具"
   ]
  },
  {
   "cell_type": "code",
   "execution_count": 10,
   "metadata": {
    "collapsed": true
   },
   "outputs": [],
   "source": [
    "def mean(*args):\n",
    "    \"\"\"\n",
    "    计算给定所有元素的平均值\n",
    "    axis = 0, 1, 2\n",
    "    [\n",
    "     [[], [], []],\n",
    "     [[], [], []],\n",
    "     [[], [], []]\n",
    "    ]\n",
    "    \"\"\"\n",
    "    ary = np.array(list(args))  # ndarray类型\n",
    "    if ary.ndim == 1:\n",
    "        return np.mean(ary)  # numpy的求平均的函数\n",
    "    elif ary.ndim == 2:\n",
    "        return np.mean(ary, axis=1)"
   ]
  },
  {
   "cell_type": "code",
   "execution_count": 3,
   "metadata": {},
   "outputs": [
    {
     "data": {
      "text/plain": [
       "5.0"
      ]
     },
     "execution_count": 3,
     "metadata": {},
     "output_type": "execute_result"
    }
   ],
   "source": [
    "mean(1,2,3,4,5,6,7,8,9)"
   ]
  },
  {
   "cell_type": "code",
   "execution_count": 4,
   "metadata": {},
   "outputs": [
    {
     "data": {
      "text/plain": [
       "15.0"
      ]
     },
     "execution_count": 4,
     "metadata": {},
     "output_type": "execute_result"
    }
   ],
   "source": [
    "mean(10, 20)"
   ]
  },
  {
   "cell_type": "code",
   "execution_count": 11,
   "metadata": {},
   "outputs": [
    {
     "data": {
      "text/plain": [
       "array([ 1.5,  3.5,  5.5,  7.5,  9.5])"
      ]
     },
     "execution_count": 11,
     "metadata": {},
     "output_type": "execute_result"
    }
   ],
   "source": [
    "mean([1,2],[3,4],[5,6],[7,8],[9,10])"
   ]
  },
  {
   "cell_type": "code",
   "execution_count": 13,
   "metadata": {},
   "outputs": [
    {
     "name": "stdout",
     "output_type": "stream",
     "text": [
      "数学的平均成绩: 92.75\n",
      "第一位同学的平均成绩: 99.0\n"
     ]
    }
   ],
   "source": [
    "# 每一个一维数组表示一位同学的语文、数学 和英语的成绩\n",
    "# 一维数组中的下标： 0 语文， 1数学, 2 英语\n",
    "scores = [\n",
    "    [100, 98, 99],\n",
    "    [90, 100, 80],\n",
    "    [91, 98, 95.5],\n",
    "    [70, 75,  90]\n",
    "]\n",
    "\n",
    "sa = np.array(scores)\n",
    "sa1 = np.mean(sa, axis=0)  # 计算每门课的平均成绩\n",
    "print('数学的平均成绩:', sa1[1])\n",
    "\n",
    "sa2 = np.mean(sa, axis=1)\n",
    "print('第一位同学的平均成绩:', sa2[0])"
   ]
  },
  {
   "cell_type": "code",
   "execution_count": 14,
   "metadata": {},
   "outputs": [
    {
     "data": {
      "text/plain": [
       "array([[ 100. ,   98. ,   99. ],\n",
       "       [  90. ,  100. ,   80. ],\n",
       "       [  91. ,   98. ,   95.5],\n",
       "       [  70. ,   75. ,   90. ]])"
      ]
     },
     "execution_count": 14,
     "metadata": {},
     "output_type": "execute_result"
    }
   ],
   "source": [
    "sa"
   ]
  },
  {
   "cell_type": "code",
   "execution_count": 15,
   "metadata": {},
   "outputs": [
    {
     "data": {
      "text/plain": [
       "1086.5"
      ]
     },
     "execution_count": 15,
     "metadata": {},
     "output_type": "execute_result"
    }
   ],
   "source": [
    "# 计算全班的总成绩\n",
    "np.sum(sa)"
   ]
  },
  {
   "cell_type": "code",
   "execution_count": 18,
   "metadata": {},
   "outputs": [
    {
     "data": {
      "text/plain": [
       "array([ 351. ,  371. ,  364.5])"
      ]
     },
     "execution_count": 18,
     "metadata": {},
     "output_type": "execute_result"
    }
   ],
   "source": [
    "# 计算每个学科的总成绩\n",
    "# np.sum(sa, axis=0).max()\n",
    "np.sum(sa, axis=0)"
   ]
  },
  {
   "cell_type": "code",
   "execution_count": 19,
   "metadata": {},
   "outputs": [
    {
     "data": {
      "text/plain": [
       "array([ 297. ,  270. ,  284.5,  235. ])"
      ]
     },
     "execution_count": 19,
     "metadata": {},
     "output_type": "execute_result"
    }
   ],
   "source": [
    "# 计算每人的总成绩\n",
    "np.sum(sa, axis=1)"
   ]
  },
  {
   "cell_type": "markdown",
   "metadata": {},
   "source": [
    "练习1: 计算每个人的最高成绩，最低成绩"
   ]
  },
  {
   "cell_type": "code",
   "execution_count": 20,
   "metadata": {},
   "outputs": [
    {
     "data": {
      "text/plain": [
       "array([ 100.,  100.,   98.,   90.])"
      ]
     },
     "metadata": {},
     "output_type": "display_data"
    },
    {
     "data": {
      "text/plain": [
       "array([ 98.,  80.,  91.,  70.])"
      ]
     },
     "metadata": {},
     "output_type": "display_data"
    }
   ],
   "source": [
    "display(np.max(sa,axis=1), sa.min(axis=1))"
   ]
  },
  {
   "cell_type": "markdown",
   "metadata": {},
   "source": [
    "练习2: 计算每个学科的最高成绩，最低成绩"
   ]
  },
  {
   "cell_type": "code",
   "execution_count": 21,
   "metadata": {},
   "outputs": [
    {
     "data": {
      "text/plain": [
       "array([ 100.,  100.,   99.])"
      ]
     },
     "metadata": {},
     "output_type": "display_data"
    },
    {
     "data": {
      "text/plain": [
       "array([ 70.,  75.,  80.])"
      ]
     },
     "metadata": {},
     "output_type": "display_data"
    }
   ],
   "source": [
    "display(np.max(sa,axis=0), sa.min(axis=0))"
   ]
  },
  {
   "cell_type": "markdown",
   "metadata": {},
   "source": [
    "扩展： 读取csv文件"
   ]
  },
  {
   "cell_type": "code",
   "execution_count": 6,
   "metadata": {
    "collapsed": true
   },
   "outputs": [
    {
     "data": {
      "text/html": [
       "<div>\n",
       "<style>\n",
       "    .dataframe thead tr:only-child th {\n",
       "        text-align: right;\n",
       "    }\n",
       "\n",
       "    .dataframe thead th {\n",
       "        text-align: left;\n",
       "    }\n",
       "\n",
       "    .dataframe tbody tr th {\n",
       "        vertical-align: top;\n",
       "    }\n",
       "</style>\n",
       "<table border=\"1\" class=\"dataframe\">\n",
       "  <thead>\n",
       "    <tr style=\"text-align: right;\">\n",
       "      <th></th>\n",
       "      <th>name</th>\n",
       "      <th>age</th>\n",
       "      <th>height(cm)</th>\n",
       "      <th>weight(kg)</th>\n",
       "    </tr>\n",
       "  </thead>\n",
       "  <tbody>\n",
       "    <tr>\n",
       "      <th>0</th>\n",
       "      <td>disen</td>\n",
       "      <td>20</td>\n",
       "      <td>188</td>\n",
       "      <td>100</td>\n",
       "    </tr>\n",
       "    <tr>\n",
       "      <th>1</th>\n",
       "      <td>jack</td>\n",
       "      <td>19</td>\n",
       "      <td>187</td>\n",
       "      <td>99</td>\n",
       "    </tr>\n",
       "    <tr>\n",
       "      <th>2</th>\n",
       "      <td>lucy</td>\n",
       "      <td>18</td>\n",
       "      <td>167</td>\n",
       "      <td>67</td>\n",
       "    </tr>\n",
       "    <tr>\n",
       "      <th>3</th>\n",
       "      <td>judy</td>\n",
       "      <td>19</td>\n",
       "      <td>175</td>\n",
       "      <td>80</td>\n",
       "    </tr>\n",
       "  </tbody>\n",
       "</table>\n",
       "</div>"
      ],
      "text/plain": [
       "    name  age  height(cm)  weight(kg)\n",
       "0  disen   20         188         100\n",
       "1   jack   19         187          99\n",
       "2   lucy   18         167          67\n",
       "3   judy   19         175          80"
      ]
     },
     "metadata": {},
     "output_type": "display_data"
    },
    {
     "data": {
      "text/plain": [
       "array([188, 187, 167, 175])"
      ]
     },
     "metadata": {},
     "output_type": "display_data"
    },
    {
     "data": {
      "text/plain": [
       "167"
      ]
     },
     "metadata": {},
     "output_type": "display_data"
    },
    {
     "data": {
      "text/plain": [
       "188"
      ]
     },
     "metadata": {},
     "output_type": "display_data"
    },
    {
     "data": {
      "text/plain": [
       "179.25"
      ]
     },
     "metadata": {},
     "output_type": "display_data"
    },
    {
     "data": {
      "text/plain": [
       "717"
      ]
     },
     "metadata": {},
     "output_type": "display_data"
    },
    {
     "data": {
      "text/plain": [
       "8.7285451250480453"
      ]
     },
     "metadata": {},
     "output_type": "display_data"
    }
   ],
   "source": [
    "data = pd.read_csv('heights.csv')\n",
    "hs = np.array(data['height(cm)'])\n",
    "display(data)\n",
    "display(hs)\n",
    "display(hs.min(), hs.max(), hs.mean(), hs.sum(), hs.std())"
   ]
  },
  {
   "cell_type": "code",
   "execution_count": 7,
   "metadata": {
    "collapsed": true
   },
   "outputs": [],
   "source": [
    "# data是否可以转为二维数组\n",
    "data_a = np.array(data)"
   ]
  },
  {
   "cell_type": "code",
   "execution_count": 8,
   "metadata": {
    "collapsed": true
   },
   "outputs": [
    {
     "data": {
      "text/plain": [
       "array([['disen', 20, 188, 100],\n",
       "       ['jack', 19, 187, 99],\n",
       "       ['lucy', 18, 167, 67],\n",
       "       ['judy', 19, 175, 80]], dtype=object)"
      ]
     },
     "execution_count": 8,
     "metadata": {},
     "output_type": "execute_result"
    }
   ],
   "source": [
    "data_a"
   ]
  },
  {
   "cell_type": "markdown",
   "metadata": {},
   "source": [
    "# 矩阵操作\n",
    "- 算术运算 +、-、*、/、%\n",
    "- 矩阵积 np.dot(a1, a2)"
   ]
  },
  {
   "cell_type": "code",
   "execution_count": 15,
   "metadata": {},
   "outputs": [
    {
     "data": {
      "text/plain": [
       "array([[11,  3, 19],\n",
       "       [ 1,  7, 15]])"
      ]
     },
     "execution_count": 15,
     "metadata": {},
     "output_type": "execute_result"
    }
   ],
   "source": [
    "a = np.random.randint(1, 10,size=(2,3))\n",
    "a"
   ]
  },
  {
   "cell_type": "code",
   "execution_count": 10,
   "metadata": {
    "collapsed": true
   },
   "outputs": [
    {
     "data": {
      "text/plain": [
       "array([[13, 15, 19],\n",
       "       [14, 14, 14]])"
      ]
     },
     "execution_count": 10,
     "metadata": {},
     "output_type": "execute_result"
    }
   ],
   "source": [
    "a + 10  # 每个元素都加上10"
   ]
  },
  {
   "cell_type": "code",
   "execution_count": 11,
   "metadata": {
    "collapsed": true
   },
   "outputs": [
    {
     "data": {
      "text/plain": [
       "array([[2, 4, 8],\n",
       "       [3, 3, 3]])"
      ]
     },
     "execution_count": 11,
     "metadata": {},
     "output_type": "execute_result"
    }
   ],
   "source": [
    "a - 1 # 每个元素都减去1"
   ]
  },
  {
   "cell_type": "code",
   "execution_count": 12,
   "metadata": {
    "collapsed": true
   },
   "outputs": [
    {
     "data": {
      "text/plain": [
       "array([[1, 1, 1],\n",
       "       [0, 0, 0]])"
      ]
     },
     "execution_count": 12,
     "metadata": {},
     "output_type": "execute_result"
    }
   ],
   "source": [
    "a % 2"
   ]
  },
  {
   "cell_type": "code",
   "execution_count": 13,
   "metadata": {
    "collapsed": true
   },
   "outputs": [
    {
     "data": {
      "text/plain": [
       "array([[ 1.        ,  1.66666667,  3.        ],\n",
       "       [ 1.33333333,  1.33333333,  1.33333333]])"
      ]
     },
     "execution_count": 13,
     "metadata": {},
     "output_type": "execute_result"
    }
   ],
   "source": [
    "a / 3"
   ]
  },
  {
   "cell_type": "code",
   "execution_count": 15,
   "metadata": {},
   "outputs": [
    {
     "data": {
      "text/plain": [
       "array([[11,  3, 19],\n",
       "       [ 1,  7, 15]])"
      ]
     },
     "execution_count": 15,
     "metadata": {},
     "output_type": "execute_result"
    }
   ],
   "source": [
    "a = np.random.randint(1, 20,size=(2,3))\n",
    "a"
   ]
  },
  {
   "cell_type": "code",
   "execution_count": 16,
   "metadata": {},
   "outputs": [
    {
     "data": {
      "text/plain": [
       "array([[ 5, 11],\n",
       "       [11,  8],\n",
       "       [ 4, 10]])"
      ]
     },
     "execution_count": 16,
     "metadata": {},
     "output_type": "execute_result"
    }
   ],
   "source": [
    "# 矩阵积： 要求 矩阵1的列数 == 矩阵2的行数\n",
    "b = np.random.randint(1, 15, size=(3, 2))\n",
    "b"
   ]
  },
  {
   "cell_type": "code",
   "execution_count": 17,
   "metadata": {},
   "outputs": [
    {
     "data": {
      "text/plain": [
       "array([[164, 335],\n",
       "       [142, 217]])"
      ]
     },
     "execution_count": 17,
     "metadata": {},
     "output_type": "execute_result"
    }
   ],
   "source": [
    "np.dot(a, b)  # a的每一列和b的每一行进行乘积的和运算"
   ]
  },
  {
   "cell_type": "markdown",
   "metadata": {},
   "source": [
    "# numpy的广播机制\n",
    "【重要】ndarray广播机制的两条规则\n",
    "\n",
    "- 规则一：为缺失的维度补1\n",
    "- 规则二：假定缺失元素用已有值填充"
   ]
  },
  {
   "cell_type": "code",
   "execution_count": 20,
   "metadata": {},
   "outputs": [
    {
     "data": {
      "text/plain": [
       "array([[ 1.,  1.,  1.],\n",
       "       [ 1.,  1.,  1.]])"
      ]
     },
     "metadata": {},
     "output_type": "display_data"
    },
    {
     "data": {
      "text/plain": [
       "array([ 6.,  6.,  6.])"
      ]
     },
     "metadata": {},
     "output_type": "display_data"
    }
   ],
   "source": [
    "a = np.ones(shape=(2, 3))  #  二维\n",
    "b = np.ones(shape=3)  # 一维\n",
    "b += 5\n",
    "display(a, b)"
   ]
  },
  {
   "cell_type": "code",
   "execution_count": 19,
   "metadata": {},
   "outputs": [
    {
     "data": {
      "text/plain": [
       "array([[ 2.,  2.,  2.],\n",
       "       [ 2.,  2.,  2.]])"
      ]
     },
     "execution_count": 19,
     "metadata": {},
     "output_type": "execute_result"
    }
   ],
   "source": [
    "a + b"
   ]
  },
  {
   "cell_type": "code",
   "execution_count": 22,
   "metadata": {},
   "outputs": [
    {
     "data": {
      "text/plain": [
       "array([[ 5,  7,  8],\n",
       "       [ 7,  9, 10]])"
      ]
     },
     "execution_count": 22,
     "metadata": {},
     "output_type": "execute_result"
    }
   ],
   "source": [
    "# 注意： 维度少的，自动补，但是两个数组列数保持一致【无法填充】\n",
    "a = np.array([1, 2, 3])\n",
    "b = np.array([[4,5,5], [6,7,7]])\n",
    "a + b "
   ]
  },
  {
   "cell_type": "code",
   "execution_count": 23,
   "metadata": {},
   "outputs": [
    {
     "data": {
      "text/plain": [
       "array([[ 4, 10, 15],\n",
       "       [ 6, 14, 21]])"
      ]
     },
     "execution_count": 23,
     "metadata": {},
     "output_type": "execute_result"
    }
   ],
   "source": [
    "a*b  # 乘法运算，不属于矩阵积"
   ]
  },
  {
   "cell_type": "code",
   "execution_count": 26,
   "metadata": {},
   "outputs": [
    {
     "data": {
      "text/plain": [
       "array([[[11, 13, 15],\n",
       "        [17, 20, 22]],\n",
       "\n",
       "       [[22, 24, 26],\n",
       "        [38, 40, 42]]])"
      ]
     },
     "execution_count": 26,
     "metadata": {},
     "output_type": "execute_result"
    }
   ],
   "source": [
    "a = np.array([[1,2,3], [4,5,6]]) \n",
    "b = np.array([\n",
    "    [[10,11,12], [13,15,16]],\n",
    "    [[21,22,23], [34,35,36]]])\n",
    "a + b # a自动补成3维, 且增加一个二维数组填充现有的值"
   ]
  },
  {
   "cell_type": "markdown",
   "metadata": {},
   "source": [
    "# 排序\n",
    "- np.sort()  # 不会改变数组原有顺序,副本排序\n",
    "- ary.sort() # 会改变数组的顺序，原数据排序"
   ]
  },
  {
   "cell_type": "code",
   "execution_count": 30,
   "metadata": {},
   "outputs": [
    {
     "data": {
      "text/plain": [
       "array([87, 79, 45, 20, 71, 28, 73, 19, 90, 78])"
      ]
     },
     "execution_count": 30,
     "metadata": {},
     "output_type": "execute_result"
    }
   ],
   "source": [
    "a = np.random.randint(1, 100, size=10)\n",
    "a"
   ]
  },
  {
   "cell_type": "code",
   "execution_count": 31,
   "metadata": {},
   "outputs": [
    {
     "data": {
      "text/plain": [
       "array([19, 20, 28, 45, 71, 73, 78, 79, 87, 90])"
      ]
     },
     "execution_count": 31,
     "metadata": {},
     "output_type": "execute_result"
    }
   ],
   "source": [
    "# a.sort() # in-place 会改变原有顺序, 无返回\n",
    "# 默认排序算法：快速排序quicksort，可先归并mergesort和堆排序heapsort\n",
    "np.sort(a)  # 不会改变a的原有顺序，返回一个已排序的a的副本"
   ]
  },
  {
   "cell_type": "code",
   "execution_count": 32,
   "metadata": {},
   "outputs": [
    {
     "data": {
      "text/plain": [
       "array([87, 79, 45, 20, 71, 28, 73, 19, 90, 78])"
      ]
     },
     "execution_count": 32,
     "metadata": {},
     "output_type": "execute_result"
    }
   ],
   "source": [
    "a"
   ]
  },
  {
   "cell_type": "code",
   "execution_count": 33,
   "metadata": {},
   "outputs": [
    {
     "data": {
      "text/plain": [
       "array([[[98, 49, 94],\n",
       "        [80,  1, 90],\n",
       "        [74, 96, 65],\n",
       "        [74, 18, 38]],\n",
       "\n",
       "       [[44, 29,  8],\n",
       "        [98, 98, 45],\n",
       "        [ 9, 57, 49],\n",
       "        [84, 56, 53]],\n",
       "\n",
       "       [[19,  7, 99],\n",
       "        [93, 71, 32],\n",
       "        [46, 35, 21],\n",
       "        [27, 52, 81]]])"
      ]
     },
     "execution_count": 33,
     "metadata": {},
     "output_type": "execute_result"
    }
   ],
   "source": [
    "# 二维或多维的数组排序\n",
    "b = np.random.randint(1, 100, size=(3,4,3))\n",
    "b"
   ]
  },
  {
   "cell_type": "code",
   "execution_count": 43,
   "metadata": {
    "collapsed": true
   },
   "outputs": [
    {
     "data": {
      "text/plain": [
       "array([777, 630, 583])"
      ]
     },
     "metadata": {},
     "output_type": "display_data"
    }
   ],
   "source": [
    "# 计算b的三维中每个二维的总和\n",
    "display(np.sum(b,axis=2).sum(axis=1))"
   ]
  },
  {
   "cell_type": "code",
   "execution_count": 45,
   "metadata": {
    "collapsed": true
   },
   "outputs": [
    {
     "data": {
      "text/plain": [
       "array([[[19,  7,  8],\n",
       "        [80,  1, 32],\n",
       "        [ 9, 35, 21],\n",
       "        [27, 18, 38]],\n",
       "\n",
       "       [[44, 29, 94],\n",
       "        [93, 71, 45],\n",
       "        [46, 57, 49],\n",
       "        [74, 52, 53]],\n",
       "\n",
       "       [[98, 49, 99],\n",
       "        [98, 98, 90],\n",
       "        [74, 96, 65],\n",
       "        [84, 56, 81]]])"
      ]
     },
     "metadata": {},
     "output_type": "display_data"
    }
   ],
   "source": [
    "# 按坐标轴0,排序\n",
    "display(np.sort(b, axis=0))"
   ]
  },
  {
   "cell_type": "code",
   "execution_count": 48,
   "metadata": {
    "collapsed": true
   },
   "outputs": [
    {
     "data": {
      "text/plain": [
       "array([[[74,  1, 38],\n",
       "        [74, 18, 65],\n",
       "        [80, 49, 90],\n",
       "        [98, 96, 94]],\n",
       "\n",
       "       [[ 9, 29,  8],\n",
       "        [44, 56, 45],\n",
       "        [84, 57, 49],\n",
       "        [98, 98, 53]],\n",
       "\n",
       "       [[19,  7, 21],\n",
       "        [27, 35, 32],\n",
       "        [46, 52, 81],\n",
       "        [93, 71, 99]]])"
      ]
     },
     "execution_count": 48,
     "metadata": {},
     "output_type": "execute_result"
    }
   ],
   "source": [
    "# 按坐标轴1,排序\n",
    "np.sort(b, axis=1)  # 每一个二维中一维对应位置的元素进行排序（列排）"
   ]
  },
  {
   "cell_type": "code",
   "execution_count": 47,
   "metadata": {
    "collapsed": true
   },
   "outputs": [
    {
     "data": {
      "text/plain": [
       "array([[[74,  1, 38],\n",
       "        [74, 18, 65],\n",
       "        [80, 49, 90],\n",
       "        [98, 96, 94]],\n",
       "\n",
       "       [[ 9, 29,  8],\n",
       "        [44, 56, 45],\n",
       "        [84, 57, 49],\n",
       "        [98, 98, 53]],\n",
       "\n",
       "       [[19,  7, 21],\n",
       "        [27, 35, 32],\n",
       "        [46, 52, 81],\n",
       "        [93, 71, 99]]])"
      ]
     },
     "execution_count": 47,
     "metadata": {},
     "output_type": "execute_result"
    }
   ],
   "source": [
    "# 按坐标轴2,排序\n",
    "np.sort(b, axis=2)  # 每一个一维中的所有元素进行排序（行排）"
   ]
  },
  {
   "cell_type": "markdown",
   "metadata": {},
   "source": [
    "# python内置的排序函数\n",
    "- sorted()\n",
    "- listObj.sort()"
   ]
  },
  {
   "cell_type": "code",
   "execution_count": 49,
   "metadata": {
    "collapsed": true
   },
   "outputs": [],
   "source": [
    "def get_sorted_value(person):\n",
    "    print(person)  # 规定： person是dict, {'id':1, 'age':10}\n",
    "    if isinstance(person, dict):\n",
    "        return person.get('age')\n",
    "    raise TypeError('传入的person类型必须是dict')"
   ]
  },
  {
   "cell_type": "code",
   "execution_count": 51,
   "metadata": {
    "collapsed": true
   },
   "outputs": [],
   "source": [
    "persons = [{'id':1, 'age':10}, \n",
    "           {'id':2, 'age':5},\n",
    "           {'id':3, 'age':8},\n",
    "           {'id':4, 'age':9}]"
   ]
  },
  {
   "cell_type": "code",
   "execution_count": 52,
   "metadata": {
    "collapsed": true
   },
   "outputs": [
    {
     "name": "stdout",
     "output_type": "stream",
     "text": [
      "{'id': 1, 'age': 10}\n",
      "{'id': 2, 'age': 5}\n",
      "{'id': 3, 'age': 8}\n",
      "{'id': 4, 'age': 9}\n"
     ]
    },
    {
     "data": {
      "text/plain": [
       "[{'age': 5, 'id': 2},\n",
       " {'age': 8, 'id': 3},\n",
       " {'age': 9, 'id': 4},\n",
       " {'age': 10, 'id': 1}]"
      ]
     },
     "execution_count": 52,
     "metadata": {},
     "output_type": "execute_result"
    }
   ],
   "source": [
    "# 按age年龄排序\n",
    "sorted(persons, key=get_sorted_value)"
   ]
  },
  {
   "cell_type": "code",
   "execution_count": 53,
   "metadata": {},
   "outputs": [
    {
     "data": {
      "text/plain": [
       "[{'age': 5, 'id': 2},\n",
       " {'age': 8, 'id': 3},\n",
       " {'age': 9, 'id': 4},\n",
       " {'age': 10, 'id': 1}]"
      ]
     },
     "execution_count": 53,
     "metadata": {},
     "output_type": "execute_result"
    }
   ],
   "source": [
    "sorted(persons, key=lambda item:item['age'])"
   ]
  },
  {
   "cell_type": "code",
   "execution_count": 54,
   "metadata": {},
   "outputs": [
    {
     "data": {
      "text/plain": [
       "{'name': 'disen'}"
      ]
     },
     "execution_count": 54,
     "metadata": {},
     "output_type": "execute_result"
    }
   ],
   "source": [
    "p = {}\n",
    "p.setdefault('name', 'disen')\n",
    "\n",
    "# 设置默认值时，如果key存在，则不做任何操作\n",
    "# 如果key不存在，则增加key和value\n",
    "p.setdefault('name', 'jack')  \n",
    "display(p)"
   ]
  },
  {
   "cell_type": "code",
   "execution_count": 55,
   "metadata": {},
   "outputs": [
    {
     "data": {
      "text/plain": [
       "{'age': 20, 'id': 1, 'name': 'jack'}"
      ]
     },
     "execution_count": 55,
     "metadata": {},
     "output_type": "execute_result"
    }
   ],
   "source": [
    "p2 = {'id':1, 'age':20, 'name':'jack'}\n",
    "p.update(p2)  # 使用p2的字典更新p的字典\n",
    "p"
   ]
  }
 ],
 "metadata": {
  "kernelspec": {
   "display_name": "Python 3",
   "language": "python",
   "name": "python3"
  },
  "language_info": {
   "codemirror_mode": {
    "name": "ipython",
    "version": 3
   },
   "file_extension": ".py",
   "mimetype": "text/x-python",
   "name": "python",
   "nbconvert_exporter": "python",
   "pygments_lexer": "ipython3",
   "version": "3.6.3"
  }
 },
 "nbformat": 4,
 "nbformat_minor": 2
}
