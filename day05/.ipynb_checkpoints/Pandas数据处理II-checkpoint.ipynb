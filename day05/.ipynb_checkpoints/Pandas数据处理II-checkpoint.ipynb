{
 "cells": [
  {
   "cell_type": "code",
   "execution_count": 1,
   "metadata": {
    "collapsed": true
   },
   "outputs": [],
   "source": [
    "import numpy as np\n",
    "import pandas as pd\n",
    "from pandas import Series, DataFrame"
   ]
  },
  {
   "cell_type": "markdown",
   "metadata": {},
   "source": [
    "### replace()函数的用法\n",
    "- 参数说明\n",
    "    - to_replace 原值\n",
    "    - value 新值\n",
    "- 替换的方式\n",
    "    - 单值替换\n",
    "    - 多值替换\n",
    "        - list\n",
    "        - dict\n",
    "- 替换的数据对象\n",
    "    - Series\n",
    "        - 额外使用 method 填充方法{pad, ffill, bfill}\n",
    "        - limit 限制填充的次数\n",
    "        - 组合使用： to_replace+ method+ limit \n",
    "    - DataFrame\n",
    "        - to_replace 字典dict表示为某一特征下的所有的原值\n",
    "        - value 新值"
   ]
  },
  {
   "cell_type": "code",
   "execution_count": 7,
   "metadata": {},
   "outputs": [
    {
     "data": {
      "text/html": [
       "<div>\n",
       "<style>\n",
       "    .dataframe thead tr:only-child th {\n",
       "        text-align: right;\n",
       "    }\n",
       "\n",
       "    .dataframe thead th {\n",
       "        text-align: left;\n",
       "    }\n",
       "\n",
       "    .dataframe tbody tr th {\n",
       "        vertical-align: top;\n",
       "    }\n",
       "</style>\n",
       "<table border=\"1\" class=\"dataframe\">\n",
       "  <thead>\n",
       "    <tr style=\"text-align: right;\">\n",
       "      <th></th>\n",
       "      <th>数学</th>\n",
       "      <th>英语</th>\n",
       "      <th>计算机</th>\n",
       "    </tr>\n",
       "  </thead>\n",
       "  <tbody>\n",
       "    <tr>\n",
       "      <th>A</th>\n",
       "      <td>85</td>\n",
       "      <td>73</td>\n",
       "      <td>56</td>\n",
       "    </tr>\n",
       "    <tr>\n",
       "      <th>B</th>\n",
       "      <td>61</td>\n",
       "      <td>131</td>\n",
       "      <td>128</td>\n",
       "    </tr>\n",
       "    <tr>\n",
       "      <th>C</th>\n",
       "      <td>146</td>\n",
       "      <td>125</td>\n",
       "      <td>138</td>\n",
       "    </tr>\n",
       "    <tr>\n",
       "      <th>D</th>\n",
       "      <td>46</td>\n",
       "      <td>90</td>\n",
       "      <td>39</td>\n",
       "    </tr>\n",
       "    <tr>\n",
       "      <th>E</th>\n",
       "      <td>144</td>\n",
       "      <td>62</td>\n",
       "      <td>35</td>\n",
       "    </tr>\n",
       "  </tbody>\n",
       "</table>\n",
       "</div>"
      ],
      "text/plain": [
       "    数学   英语  计算机\n",
       "A   85   73   56\n",
       "B   61  131  128\n",
       "C  146  125  138\n",
       "D   46   90   39\n",
       "E  144   62   35"
      ]
     },
     "execution_count": 7,
     "metadata": {},
     "output_type": "execute_result"
    }
   ],
   "source": [
    "data = np.random.randint(150, size=(5, 3))\n",
    "index = list('ABCDE')\n",
    "columns = ('数学', '英语', '计算机')\n",
    "\n",
    "df = DataFrame(data, index, columns)\n",
    "df"
   ]
  },
  {
   "cell_type": "code",
   "execution_count": 8,
   "metadata": {
    "scrolled": true
   },
   "outputs": [
    {
     "data": {
      "text/plain": [
       "A     56\n",
       "B    128\n",
       "C    138\n",
       "D     39\n",
       "E     35\n",
       "Name: 计算机, dtype: int64"
      ]
     },
     "execution_count": 8,
     "metadata": {},
     "output_type": "execute_result"
    }
   ],
   "source": [
    "c = df['计算机']\n",
    "c"
   ]
  },
  {
   "cell_type": "code",
   "execution_count": 9,
   "metadata": {},
   "outputs": [
    {
     "data": {
      "text/html": [
       "<div>\n",
       "<style>\n",
       "    .dataframe thead tr:only-child th {\n",
       "        text-align: right;\n",
       "    }\n",
       "\n",
       "    .dataframe thead th {\n",
       "        text-align: left;\n",
       "    }\n",
       "\n",
       "    .dataframe tbody tr th {\n",
       "        vertical-align: top;\n",
       "    }\n",
       "</style>\n",
       "<table border=\"1\" class=\"dataframe\">\n",
       "  <thead>\n",
       "    <tr style=\"text-align: right;\">\n",
       "      <th></th>\n",
       "      <th>数学</th>\n",
       "      <th>英语</th>\n",
       "      <th>计算机</th>\n",
       "    </tr>\n",
       "  </thead>\n",
       "  <tbody>\n",
       "    <tr>\n",
       "      <th>A</th>\n",
       "      <td>85</td>\n",
       "      <td>73</td>\n",
       "      <td>56</td>\n",
       "    </tr>\n",
       "    <tr>\n",
       "      <th>B</th>\n",
       "      <td>61</td>\n",
       "      <td>131</td>\n",
       "      <td>128</td>\n",
       "    </tr>\n",
       "    <tr>\n",
       "      <th>C</th>\n",
       "      <td>146</td>\n",
       "      <td>125</td>\n",
       "      <td>138</td>\n",
       "    </tr>\n",
       "    <tr>\n",
       "      <th>D</th>\n",
       "      <td>46</td>\n",
       "      <td>90</td>\n",
       "      <td>60</td>\n",
       "    </tr>\n",
       "    <tr>\n",
       "      <th>E</th>\n",
       "      <td>144</td>\n",
       "      <td>62</td>\n",
       "      <td>60</td>\n",
       "    </tr>\n",
       "  </tbody>\n",
       "</table>\n",
       "</div>"
      ],
      "text/plain": [
       "    数学   英语  计算机\n",
       "A   85   73   56\n",
       "B   61  131  128\n",
       "C  146  125  138\n",
       "D   46   90   60\n",
       "E  144   62   60"
      ]
     },
     "execution_count": 9,
     "metadata": {},
     "output_type": "execute_result"
    }
   ],
   "source": [
    "# 将计算机的不及格的成绩改为60\n",
    "c.replace([39, 35], 60, inplace=True)\n",
    "df"
   ]
  },
  {
   "cell_type": "code",
   "execution_count": 12,
   "metadata": {},
   "outputs": [
    {
     "data": {
      "text/html": [
       "<div>\n",
       "<style>\n",
       "    .dataframe thead tr:only-child th {\n",
       "        text-align: right;\n",
       "    }\n",
       "\n",
       "    .dataframe thead th {\n",
       "        text-align: left;\n",
       "    }\n",
       "\n",
       "    .dataframe tbody tr th {\n",
       "        vertical-align: top;\n",
       "    }\n",
       "</style>\n",
       "<table border=\"1\" class=\"dataframe\">\n",
       "  <thead>\n",
       "    <tr style=\"text-align: right;\">\n",
       "      <th></th>\n",
       "      <th>数学</th>\n",
       "      <th>英语</th>\n",
       "      <th>计算机</th>\n",
       "    </tr>\n",
       "  </thead>\n",
       "  <tbody>\n",
       "    <tr>\n",
       "      <th>A</th>\n",
       "      <td>85</td>\n",
       "      <td>73</td>\n",
       "      <td>60</td>\n",
       "    </tr>\n",
       "    <tr>\n",
       "      <th>B</th>\n",
       "      <td>61</td>\n",
       "      <td>131</td>\n",
       "      <td>128</td>\n",
       "    </tr>\n",
       "    <tr>\n",
       "      <th>C</th>\n",
       "      <td>146</td>\n",
       "      <td>125</td>\n",
       "      <td>138</td>\n",
       "    </tr>\n",
       "    <tr>\n",
       "      <th>D</th>\n",
       "      <td>46</td>\n",
       "      <td>90</td>\n",
       "      <td>60</td>\n",
       "    </tr>\n",
       "    <tr>\n",
       "      <th>E</th>\n",
       "      <td>144</td>\n",
       "      <td>62</td>\n",
       "      <td>60</td>\n",
       "    </tr>\n",
       "  </tbody>\n",
       "</table>\n",
       "</div>"
      ],
      "text/plain": [
       "    数学   英语  计算机\n",
       "A   85   73   60\n",
       "B   61  131  128\n",
       "C  146  125  138\n",
       "D   46   90   60\n",
       "E  144   62   60"
      ]
     },
     "execution_count": 12,
     "metadata": {},
     "output_type": "execute_result"
    }
   ],
   "source": [
    "c['A']=60\n",
    "df"
   ]
  },
  {
   "cell_type": "code",
   "execution_count": 15,
   "metadata": {},
   "outputs": [
    {
     "data": {
      "text/plain": [
       "A     60\n",
       "B    128\n",
       "C    138\n",
       "D    138\n",
       "E     60\n",
       "Name: 计算机, dtype: int64"
      ]
     },
     "execution_count": 15,
     "metadata": {},
     "output_type": "execute_result"
    }
   ],
   "source": [
    "# 将计算机成绩为60分的第一位同学的成绩改为前一位同学的计算机成绩\n",
    "c.replace(60, method='ffill', limit=1)"
   ]
  },
  {
   "cell_type": "code",
   "execution_count": 17,
   "metadata": {},
   "outputs": [
    {
     "data": {
      "text/html": [
       "<div>\n",
       "<style>\n",
       "    .dataframe thead tr:only-child th {\n",
       "        text-align: right;\n",
       "    }\n",
       "\n",
       "    .dataframe thead th {\n",
       "        text-align: left;\n",
       "    }\n",
       "\n",
       "    .dataframe tbody tr th {\n",
       "        vertical-align: top;\n",
       "    }\n",
       "</style>\n",
       "<table border=\"1\" class=\"dataframe\">\n",
       "  <thead>\n",
       "    <tr style=\"text-align: right;\">\n",
       "      <th></th>\n",
       "      <th>数学</th>\n",
       "      <th>英语</th>\n",
       "      <th>计算机</th>\n",
       "    </tr>\n",
       "  </thead>\n",
       "  <tbody>\n",
       "    <tr>\n",
       "      <th>A</th>\n",
       "      <td>85</td>\n",
       "      <td>73</td>\n",
       "      <td>60</td>\n",
       "    </tr>\n",
       "    <tr>\n",
       "      <th>B</th>\n",
       "      <td>61</td>\n",
       "      <td>131</td>\n",
       "      <td>128</td>\n",
       "    </tr>\n",
       "    <tr>\n",
       "      <th>C</th>\n",
       "      <td>146</td>\n",
       "      <td>125</td>\n",
       "      <td>138</td>\n",
       "    </tr>\n",
       "    <tr>\n",
       "      <th>D</th>\n",
       "      <td>46</td>\n",
       "      <td>90</td>\n",
       "      <td>60</td>\n",
       "    </tr>\n",
       "    <tr>\n",
       "      <th>E</th>\n",
       "      <td>144</td>\n",
       "      <td>61</td>\n",
       "      <td>60</td>\n",
       "    </tr>\n",
       "  </tbody>\n",
       "</table>\n",
       "</div>"
      ],
      "text/plain": [
       "    数学   英语  计算机\n",
       "A   85   73   60\n",
       "B   61  131  128\n",
       "C  146  125  138\n",
       "D   46   90   60\n",
       "E  144   61   60"
      ]
     },
     "execution_count": 17,
     "metadata": {},
     "output_type": "execute_result"
    }
   ],
   "source": [
    "df.iloc[-1, 1] = 61\n",
    "df"
   ]
  },
  {
   "cell_type": "code",
   "execution_count": 19,
   "metadata": {
    "collapsed": true
   },
   "outputs": [
    {
     "data": {
      "text/html": [
       "<div>\n",
       "<style>\n",
       "    .dataframe thead tr:only-child th {\n",
       "        text-align: right;\n",
       "    }\n",
       "\n",
       "    .dataframe thead th {\n",
       "        text-align: left;\n",
       "    }\n",
       "\n",
       "    .dataframe tbody tr th {\n",
       "        vertical-align: top;\n",
       "    }\n",
       "</style>\n",
       "<table border=\"1\" class=\"dataframe\">\n",
       "  <thead>\n",
       "    <tr style=\"text-align: right;\">\n",
       "      <th></th>\n",
       "      <th>数学</th>\n",
       "      <th>英语</th>\n",
       "      <th>计算机</th>\n",
       "    </tr>\n",
       "  </thead>\n",
       "  <tbody>\n",
       "    <tr>\n",
       "      <th>A</th>\n",
       "      <td>85</td>\n",
       "      <td>73</td>\n",
       "      <td>60</td>\n",
       "    </tr>\n",
       "    <tr>\n",
       "      <th>B</th>\n",
       "      <td>61</td>\n",
       "      <td>131</td>\n",
       "      <td>128</td>\n",
       "    </tr>\n",
       "    <tr>\n",
       "      <th>C</th>\n",
       "      <td>146</td>\n",
       "      <td>125</td>\n",
       "      <td>138</td>\n",
       "    </tr>\n",
       "    <tr>\n",
       "      <th>D</th>\n",
       "      <td>46</td>\n",
       "      <td>90</td>\n",
       "      <td>60</td>\n",
       "    </tr>\n",
       "    <tr>\n",
       "      <th>E</th>\n",
       "      <td>144</td>\n",
       "      <td>80</td>\n",
       "      <td>60</td>\n",
       "    </tr>\n",
       "  </tbody>\n",
       "</table>\n",
       "</div>"
      ],
      "text/plain": [
       "    数学   英语  计算机\n",
       "A   85   73   60\n",
       "B   61  131  128\n",
       "C  146  125  138\n",
       "D   46   90   60\n",
       "E  144   80   60"
      ]
     },
     "execution_count": 19,
     "metadata": {},
     "output_type": "execute_result"
    }
   ],
   "source": [
    "# 修改英语中61分的，全部改为80分\n",
    "# df.replace(61, 80)\n",
    "df.replace({'英语':61 }, 80)"
   ]
  },
  {
   "cell_type": "markdown",
   "metadata": {},
   "source": [
    "### map() 函数的用法\n",
    "- 将某一列或多列的数据映射成另一个结果（有意义的数据）\n",
    "- 两种写法\n",
    "    - 字典方式\n",
    "        - 要求：选择的列的值作为key全部存在，如果未指定列值key，结果则为Nan。 \n",
    "        - 建议：单列\n",
    "    - 函数方式\n",
    "        - 将选择的列的每行的值传入到指定函数中，并返回处理结果\n",
    "        - 不能使用聚合函数和for循环\n",
    "        - <font color=red>【注】不能对DataFrame进行map,只能对某一行或列map, 即是Series进行map映射操作的。</font>"
   ]
  },
  {
   "cell_type": "code",
   "execution_count": 27,
   "metadata": {
    "collapsed": true
   },
   "outputs": [
    {
     "data": {
      "text/html": [
       "<div>\n",
       "<style>\n",
       "    .dataframe thead tr:only-child th {\n",
       "        text-align: right;\n",
       "    }\n",
       "\n",
       "    .dataframe thead th {\n",
       "        text-align: left;\n",
       "    }\n",
       "\n",
       "    .dataframe tbody tr th {\n",
       "        vertical-align: top;\n",
       "    }\n",
       "</style>\n",
       "<table border=\"1\" class=\"dataframe\">\n",
       "  <thead>\n",
       "    <tr style=\"text-align: right;\">\n",
       "      <th></th>\n",
       "      <th>数学</th>\n",
       "      <th>英语</th>\n",
       "      <th>计算机</th>\n",
       "      <th>数学名次</th>\n",
       "    </tr>\n",
       "  </thead>\n",
       "  <tbody>\n",
       "    <tr>\n",
       "      <th>A</th>\n",
       "      <td>85</td>\n",
       "      <td>73</td>\n",
       "      <td>60</td>\n",
       "      <td>NaN</td>\n",
       "    </tr>\n",
       "    <tr>\n",
       "      <th>B</th>\n",
       "      <td>61</td>\n",
       "      <td>131</td>\n",
       "      <td>128</td>\n",
       "      <td>NaN</td>\n",
       "    </tr>\n",
       "    <tr>\n",
       "      <th>C</th>\n",
       "      <td>146</td>\n",
       "      <td>125</td>\n",
       "      <td>138</td>\n",
       "      <td>第一名</td>\n",
       "    </tr>\n",
       "    <tr>\n",
       "      <th>D</th>\n",
       "      <td>46</td>\n",
       "      <td>90</td>\n",
       "      <td>60</td>\n",
       "      <td>NaN</td>\n",
       "    </tr>\n",
       "    <tr>\n",
       "      <th>E</th>\n",
       "      <td>144</td>\n",
       "      <td>61</td>\n",
       "      <td>60</td>\n",
       "      <td>第二名</td>\n",
       "    </tr>\n",
       "  </tbody>\n",
       "</table>\n",
       "</div>"
      ],
      "text/plain": [
       "    数学   英语  计算机 数学名次\n",
       "A   85   73   60  NaN\n",
       "B   61  131  128  NaN\n",
       "C  146  125  138  第一名\n",
       "D   46   90   60  NaN\n",
       "E  144   61   60  第二名"
      ]
     },
     "execution_count": 27,
     "metadata": {},
     "output_type": "execute_result"
    }
   ],
   "source": [
    "# 查找数学为146 和144的学生，将其的\"名次\"定为\"第一\"和'第二'\n",
    "df['数学名次'] = df['数学'].map({146:'第一名', 144:'第二名'})\n",
    "df"
   ]
  },
  {
   "cell_type": "code",
   "execution_count": 29,
   "metadata": {},
   "outputs": [],
   "source": [
    "# 增加\"总成绩\"列，计算每位同学的总成绩\n",
    "df['总成绩'] = df.sum(axis=1)\n",
    "df"
   ]
  },
  {
   "cell_type": "code",
   "execution_count": 39,
   "metadata": {
    "collapsed": true
   },
   "outputs": [],
   "source": [
    "def level_name(item):\n",
    "    # item 是某一列（总成绩）的数值\n",
    "    if item>= 400:\n",
    "        return '优'\n",
    "    elif item >= 300:\n",
    "        return '良'\n",
    "    elif item >= 270:\n",
    "        return '及格'\n",
    "    \n",
    "    return '补考'"
   ]
  },
  {
   "cell_type": "code",
   "execution_count": 36,
   "metadata": {},
   "outputs": [],
   "source": [
    "# df.drop('总成绩',axis=1, inplace=True)\n",
    "df['数英平均'] = df[['数学', '英语']].mean(axis=1)"
   ]
  },
  {
   "cell_type": "code",
   "execution_count": 38,
   "metadata": {},
   "outputs": [
    {
     "data": {
      "text/html": [
       "<div>\n",
       "<style>\n",
       "    .dataframe thead tr:only-child th {\n",
       "        text-align: right;\n",
       "    }\n",
       "\n",
       "    .dataframe thead th {\n",
       "        text-align: left;\n",
       "    }\n",
       "\n",
       "    .dataframe tbody tr th {\n",
       "        vertical-align: top;\n",
       "    }\n",
       "</style>\n",
       "<table border=\"1\" class=\"dataframe\">\n",
       "  <thead>\n",
       "    <tr style=\"text-align: right;\">\n",
       "      <th></th>\n",
       "      <th>数学</th>\n",
       "      <th>英语</th>\n",
       "      <th>计算机</th>\n",
       "      <th>数学名次</th>\n",
       "      <th>数英平均</th>\n",
       "      <th>总成绩</th>\n",
       "    </tr>\n",
       "  </thead>\n",
       "  <tbody>\n",
       "    <tr>\n",
       "      <th>A</th>\n",
       "      <td>85</td>\n",
       "      <td>73</td>\n",
       "      <td>60</td>\n",
       "      <td>NaN</td>\n",
       "      <td>79.0</td>\n",
       "      <td>218</td>\n",
       "    </tr>\n",
       "    <tr>\n",
       "      <th>B</th>\n",
       "      <td>61</td>\n",
       "      <td>131</td>\n",
       "      <td>128</td>\n",
       "      <td>NaN</td>\n",
       "      <td>96.0</td>\n",
       "      <td>320</td>\n",
       "    </tr>\n",
       "    <tr>\n",
       "      <th>C</th>\n",
       "      <td>146</td>\n",
       "      <td>125</td>\n",
       "      <td>138</td>\n",
       "      <td>第一名</td>\n",
       "      <td>135.5</td>\n",
       "      <td>409</td>\n",
       "    </tr>\n",
       "    <tr>\n",
       "      <th>D</th>\n",
       "      <td>46</td>\n",
       "      <td>90</td>\n",
       "      <td>60</td>\n",
       "      <td>NaN</td>\n",
       "      <td>68.0</td>\n",
       "      <td>196</td>\n",
       "    </tr>\n",
       "    <tr>\n",
       "      <th>E</th>\n",
       "      <td>144</td>\n",
       "      <td>61</td>\n",
       "      <td>60</td>\n",
       "      <td>第二名</td>\n",
       "      <td>102.5</td>\n",
       "      <td>265</td>\n",
       "    </tr>\n",
       "  </tbody>\n",
       "</table>\n",
       "</div>"
      ],
      "text/plain": [
       "    数学   英语  计算机 数学名次   数英平均  总成绩\n",
       "A   85   73   60  NaN   79.0  218\n",
       "B   61  131  128  NaN   96.0  320\n",
       "C  146  125  138  第一名  135.5  409\n",
       "D   46   90   60  NaN   68.0  196\n",
       "E  144   61   60  第二名  102.5  265"
      ]
     },
     "execution_count": 38,
     "metadata": {},
     "output_type": "execute_result"
    }
   ],
   "source": [
    "# 根据总成绩，标出成绩等级('优', '良', '及格', '补考')\n",
    "# 400+ 优\n",
    "# 300+ 良\n",
    "# 270+ 及格\n",
    "# 270- 补考\n",
    "df['总成绩'] = df.iloc[:, :3].sum(axis=1)\n",
    "df"
   ]
  },
  {
   "cell_type": "code",
   "execution_count": 40,
   "metadata": {
    "collapsed": true
   },
   "outputs": [
    {
     "data": {
      "text/html": [
       "<div>\n",
       "<style>\n",
       "    .dataframe thead tr:only-child th {\n",
       "        text-align: right;\n",
       "    }\n",
       "\n",
       "    .dataframe thead th {\n",
       "        text-align: left;\n",
       "    }\n",
       "\n",
       "    .dataframe tbody tr th {\n",
       "        vertical-align: top;\n",
       "    }\n",
       "</style>\n",
       "<table border=\"1\" class=\"dataframe\">\n",
       "  <thead>\n",
       "    <tr style=\"text-align: right;\">\n",
       "      <th></th>\n",
       "      <th>数学</th>\n",
       "      <th>英语</th>\n",
       "      <th>计算机</th>\n",
       "      <th>数学名次</th>\n",
       "      <th>数英平均</th>\n",
       "      <th>总成绩</th>\n",
       "      <th>等级</th>\n",
       "    </tr>\n",
       "  </thead>\n",
       "  <tbody>\n",
       "    <tr>\n",
       "      <th>A</th>\n",
       "      <td>85</td>\n",
       "      <td>73</td>\n",
       "      <td>60</td>\n",
       "      <td>NaN</td>\n",
       "      <td>79.0</td>\n",
       "      <td>218</td>\n",
       "      <td>补考</td>\n",
       "    </tr>\n",
       "    <tr>\n",
       "      <th>B</th>\n",
       "      <td>61</td>\n",
       "      <td>131</td>\n",
       "      <td>128</td>\n",
       "      <td>NaN</td>\n",
       "      <td>96.0</td>\n",
       "      <td>320</td>\n",
       "      <td>良</td>\n",
       "    </tr>\n",
       "    <tr>\n",
       "      <th>C</th>\n",
       "      <td>146</td>\n",
       "      <td>125</td>\n",
       "      <td>138</td>\n",
       "      <td>第一名</td>\n",
       "      <td>135.5</td>\n",
       "      <td>409</td>\n",
       "      <td>优</td>\n",
       "    </tr>\n",
       "    <tr>\n",
       "      <th>D</th>\n",
       "      <td>46</td>\n",
       "      <td>90</td>\n",
       "      <td>60</td>\n",
       "      <td>NaN</td>\n",
       "      <td>68.0</td>\n",
       "      <td>196</td>\n",
       "      <td>补考</td>\n",
       "    </tr>\n",
       "    <tr>\n",
       "      <th>E</th>\n",
       "      <td>144</td>\n",
       "      <td>61</td>\n",
       "      <td>60</td>\n",
       "      <td>第二名</td>\n",
       "      <td>102.5</td>\n",
       "      <td>265</td>\n",
       "      <td>补考</td>\n",
       "    </tr>\n",
       "  </tbody>\n",
       "</table>\n",
       "</div>"
      ],
      "text/plain": [
       "    数学   英语  计算机 数学名次   数英平均  总成绩  等级\n",
       "A   85   73   60  NaN   79.0  218  补考\n",
       "B   61  131  128  NaN   96.0  320   良\n",
       "C  146  125  138  第一名  135.5  409   优\n",
       "D   46   90   60  NaN   68.0  196  补考\n",
       "E  144   61   60  第二名  102.5  265  补考"
      ]
     },
     "execution_count": 40,
     "metadata": {},
     "output_type": "execute_result"
    }
   ],
   "source": [
    "# 400+ 优\n",
    "# 300+ 良\n",
    "# 270+ 及格\n",
    "# 270- 补考\n",
    "df['等级'] = df['总成绩'].map(level_name)\n",
    "df"
   ]
  },
  {
   "cell_type": "markdown",
   "metadata": {},
   "source": [
    "### transform() 函数\n",
    "- 同map()相同, 但是不能使用dict字典"
   ]
  },
  {
   "cell_type": "code",
   "execution_count": 41,
   "metadata": {},
   "outputs": [
    {
     "data": {
      "text/html": [
       "<div>\n",
       "<style>\n",
       "    .dataframe thead tr:only-child th {\n",
       "        text-align: right;\n",
       "    }\n",
       "\n",
       "    .dataframe thead th {\n",
       "        text-align: left;\n",
       "    }\n",
       "\n",
       "    .dataframe tbody tr th {\n",
       "        vertical-align: top;\n",
       "    }\n",
       "</style>\n",
       "<table border=\"1\" class=\"dataframe\">\n",
       "  <thead>\n",
       "    <tr style=\"text-align: right;\">\n",
       "      <th></th>\n",
       "      <th>数学</th>\n",
       "      <th>英语</th>\n",
       "      <th>计算机</th>\n",
       "      <th>数学名次</th>\n",
       "      <th>数英平均</th>\n",
       "      <th>总成绩</th>\n",
       "      <th>等级</th>\n",
       "      <th>等级2</th>\n",
       "    </tr>\n",
       "  </thead>\n",
       "  <tbody>\n",
       "    <tr>\n",
       "      <th>A</th>\n",
       "      <td>85</td>\n",
       "      <td>73</td>\n",
       "      <td>60</td>\n",
       "      <td>NaN</td>\n",
       "      <td>79.0</td>\n",
       "      <td>218</td>\n",
       "      <td>补考</td>\n",
       "      <td>补考</td>\n",
       "    </tr>\n",
       "    <tr>\n",
       "      <th>B</th>\n",
       "      <td>61</td>\n",
       "      <td>131</td>\n",
       "      <td>128</td>\n",
       "      <td>NaN</td>\n",
       "      <td>96.0</td>\n",
       "      <td>320</td>\n",
       "      <td>良</td>\n",
       "      <td>良</td>\n",
       "    </tr>\n",
       "    <tr>\n",
       "      <th>C</th>\n",
       "      <td>146</td>\n",
       "      <td>125</td>\n",
       "      <td>138</td>\n",
       "      <td>第一名</td>\n",
       "      <td>135.5</td>\n",
       "      <td>409</td>\n",
       "      <td>优</td>\n",
       "      <td>优</td>\n",
       "    </tr>\n",
       "    <tr>\n",
       "      <th>D</th>\n",
       "      <td>46</td>\n",
       "      <td>90</td>\n",
       "      <td>60</td>\n",
       "      <td>NaN</td>\n",
       "      <td>68.0</td>\n",
       "      <td>196</td>\n",
       "      <td>补考</td>\n",
       "      <td>补考</td>\n",
       "    </tr>\n",
       "    <tr>\n",
       "      <th>E</th>\n",
       "      <td>144</td>\n",
       "      <td>61</td>\n",
       "      <td>60</td>\n",
       "      <td>第二名</td>\n",
       "      <td>102.5</td>\n",
       "      <td>265</td>\n",
       "      <td>补考</td>\n",
       "      <td>补考</td>\n",
       "    </tr>\n",
       "  </tbody>\n",
       "</table>\n",
       "</div>"
      ],
      "text/plain": [
       "    数学   英语  计算机 数学名次   数英平均  总成绩  等级 等级2\n",
       "A   85   73   60  NaN   79.0  218  补考  补考\n",
       "B   61  131  128  NaN   96.0  320   良   良\n",
       "C  146  125  138  第一名  135.5  409   优   优\n",
       "D   46   90   60  NaN   68.0  196  补考  补考\n",
       "E  144   61   60  第二名  102.5  265  补考  补考"
      ]
     },
     "execution_count": 41,
     "metadata": {},
     "output_type": "execute_result"
    }
   ],
   "source": [
    "df['等级2'] = df['总成绩'].transform(level_name)\n",
    "df"
   ]
  },
  {
   "cell_type": "markdown",
   "metadata": {},
   "source": [
    "练习：\n",
    "新增两列，分别为张三、李四的成绩状态，如果分数低于90，则为\"failed\"，如果分数高于120，则为\"excellent\"，其他则为\"pass\"\n",
    "【提示】使用函数作为map的参数"
   ]
  },
  {
   "cell_type": "code",
   "execution_count": 46,
   "metadata": {},
   "outputs": [],
   "source": [
    "d = df['总成绩']"
   ]
  },
  {
   "cell_type": "code",
   "execution_count": 82,
   "metadata": {},
   "outputs": [
    {
     "data": {
      "text/plain": [
       "C    409\n",
       "B    320\n",
       "E    265\n",
       "A    218\n",
       "D    196\n",
       "Name: 总成绩, dtype: int64"
      ]
     },
     "execution_count": 82,
     "metadata": {},
     "output_type": "execute_result"
    }
   ],
   "source": [
    "ds = d.sort_values(ascending=False)\n",
    "ds"
   ]
  },
  {
   "cell_type": "code",
   "execution_count": 80,
   "metadata": {
    "collapsed": true
   },
   "outputs": [
    {
     "data": {
      "text/plain": [
       "0"
      ]
     },
     "execution_count": 80,
     "metadata": {},
     "output_type": "execute_result"
    }
   ],
   "source": [
    "ds[ds == 196].index  # D 196 -> Series -> Index\n",
    "ds.index.get_loc(ds[ds == 196].index.values[0])"
   ]
  },
  {
   "cell_type": "code",
   "execution_count": 92,
   "metadata": {},
   "outputs": [
    {
     "data": {
      "text/plain": [
       "'D'"
      ]
     },
     "execution_count": 92,
     "metadata": {},
     "output_type": "execute_result"
    }
   ],
   "source": [
    "ds[ds==196].index.values[0]"
   ]
  },
  {
   "cell_type": "code",
   "execution_count": 93,
   "metadata": {},
   "outputs": [
    {
     "data": {
      "text/plain": [
       "C    409\n",
       "B    320\n",
       "E    265\n",
       "A    218\n",
       "D    196\n",
       "Name: 总成绩, dtype: int64"
      ]
     },
     "execution_count": 93,
     "metadata": {},
     "output_type": "execute_result"
    }
   ],
   "source": [
    "dd = ds.copy()\n",
    "dd"
   ]
  },
  {
   "cell_type": "code",
   "execution_count": 104,
   "metadata": {},
   "outputs": [],
   "source": [
    "def l_name(item):  # 根据总成绩，返回成绩名次\n",
    "    # item是总成绩的数值\n",
    "    # ds[ds == item]   -> D 196 -> Series\n",
    "    # 获取item值对应的索引名\n",
    "    # values -> ndarray\n",
    "    index_name = dd[dd==item].index.values[0]\n",
    "    \n",
    "    # 获取索引名，从已排序的Series读取索引的位置\n",
    "    index_value = dd.index.get_loc(index_name)\n",
    "    index_value += 1\n",
    "    return f'第{index_value}名'"
   ]
  },
  {
   "cell_type": "code",
   "execution_count": 105,
   "metadata": {
    "collapsed": true
   },
   "outputs": [
    {
     "data": {
      "text/html": [
       "<div>\n",
       "<style>\n",
       "    .dataframe thead tr:only-child th {\n",
       "        text-align: right;\n",
       "    }\n",
       "\n",
       "    .dataframe thead th {\n",
       "        text-align: left;\n",
       "    }\n",
       "\n",
       "    .dataframe tbody tr th {\n",
       "        vertical-align: top;\n",
       "    }\n",
       "</style>\n",
       "<table border=\"1\" class=\"dataframe\">\n",
       "  <thead>\n",
       "    <tr style=\"text-align: right;\">\n",
       "      <th></th>\n",
       "      <th>数学</th>\n",
       "      <th>英语</th>\n",
       "      <th>计算机</th>\n",
       "      <th>数学名次</th>\n",
       "      <th>数英平均</th>\n",
       "      <th>总成绩</th>\n",
       "      <th>等级</th>\n",
       "      <th>等级2</th>\n",
       "      <th>名次</th>\n",
       "    </tr>\n",
       "  </thead>\n",
       "  <tbody>\n",
       "    <tr>\n",
       "      <th>A</th>\n",
       "      <td>85</td>\n",
       "      <td>73</td>\n",
       "      <td>60</td>\n",
       "      <td>NaN</td>\n",
       "      <td>79.0</td>\n",
       "      <td>218</td>\n",
       "      <td>补考</td>\n",
       "      <td>补考</td>\n",
       "      <td>第4名</td>\n",
       "    </tr>\n",
       "    <tr>\n",
       "      <th>B</th>\n",
       "      <td>61</td>\n",
       "      <td>131</td>\n",
       "      <td>128</td>\n",
       "      <td>NaN</td>\n",
       "      <td>96.0</td>\n",
       "      <td>320</td>\n",
       "      <td>良</td>\n",
       "      <td>良</td>\n",
       "      <td>第2名</td>\n",
       "    </tr>\n",
       "    <tr>\n",
       "      <th>C</th>\n",
       "      <td>146</td>\n",
       "      <td>125</td>\n",
       "      <td>138</td>\n",
       "      <td>第一名</td>\n",
       "      <td>135.5</td>\n",
       "      <td>409</td>\n",
       "      <td>优</td>\n",
       "      <td>优</td>\n",
       "      <td>第1名</td>\n",
       "    </tr>\n",
       "    <tr>\n",
       "      <th>D</th>\n",
       "      <td>46</td>\n",
       "      <td>90</td>\n",
       "      <td>60</td>\n",
       "      <td>NaN</td>\n",
       "      <td>68.0</td>\n",
       "      <td>196</td>\n",
       "      <td>补考</td>\n",
       "      <td>补考</td>\n",
       "      <td>第5名</td>\n",
       "    </tr>\n",
       "    <tr>\n",
       "      <th>E</th>\n",
       "      <td>144</td>\n",
       "      <td>61</td>\n",
       "      <td>60</td>\n",
       "      <td>第二名</td>\n",
       "      <td>102.5</td>\n",
       "      <td>265</td>\n",
       "      <td>补考</td>\n",
       "      <td>补考</td>\n",
       "      <td>第3名</td>\n",
       "    </tr>\n",
       "  </tbody>\n",
       "</table>\n",
       "</div>"
      ],
      "text/plain": [
       "    数学   英语  计算机 数学名次   数英平均  总成绩  等级 等级2   名次\n",
       "A   85   73   60  NaN   79.0  218  补考  补考  第4名\n",
       "B   61  131  128  NaN   96.0  320   良   良  第2名\n",
       "C  146  125  138  第一名  135.5  409   优   优  第1名\n",
       "D   46   90   60  NaN   68.0  196  补考  补考  第5名\n",
       "E  144   61   60  第二名  102.5  265  补考  补考  第3名"
      ]
     },
     "execution_count": 105,
     "metadata": {},
     "output_type": "execute_result"
    }
   ],
   "source": [
    "df['名次'] = df['总成绩'].transform(l_name)\n",
    "df"
   ]
  },
  {
   "cell_type": "markdown",
   "metadata": {},
   "source": [
    "### rename() 重命名行或列标签\n",
    "- index 行\n",
    "- columns 列\n",
    "- level 多层索引或列标签， 可以指定哪一级别，默认为一级"
   ]
  },
  {
   "cell_type": "code",
   "execution_count": 107,
   "metadata": {},
   "outputs": [
    {
     "data": {
      "text/html": [
       "<div>\n",
       "<style>\n",
       "    .dataframe thead tr:only-child th {\n",
       "        text-align: right;\n",
       "    }\n",
       "\n",
       "    .dataframe thead th {\n",
       "        text-align: left;\n",
       "    }\n",
       "\n",
       "    .dataframe tbody tr th {\n",
       "        vertical-align: top;\n",
       "    }\n",
       "</style>\n",
       "<table border=\"1\" class=\"dataframe\">\n",
       "  <thead>\n",
       "    <tr style=\"text-align: right;\">\n",
       "      <th></th>\n",
       "      <th>数学</th>\n",
       "      <th>英语</th>\n",
       "      <th>计算机</th>\n",
       "      <th>数学名次</th>\n",
       "      <th>数英平均</th>\n",
       "      <th>总成绩</th>\n",
       "      <th>等级</th>\n",
       "      <th>名次</th>\n",
       "    </tr>\n",
       "  </thead>\n",
       "  <tbody>\n",
       "    <tr>\n",
       "      <th>A</th>\n",
       "      <td>85</td>\n",
       "      <td>73</td>\n",
       "      <td>60</td>\n",
       "      <td>NaN</td>\n",
       "      <td>79.0</td>\n",
       "      <td>218</td>\n",
       "      <td>补考</td>\n",
       "      <td>第4名</td>\n",
       "    </tr>\n",
       "    <tr>\n",
       "      <th>B</th>\n",
       "      <td>61</td>\n",
       "      <td>131</td>\n",
       "      <td>128</td>\n",
       "      <td>NaN</td>\n",
       "      <td>96.0</td>\n",
       "      <td>320</td>\n",
       "      <td>良</td>\n",
       "      <td>第2名</td>\n",
       "    </tr>\n",
       "    <tr>\n",
       "      <th>C</th>\n",
       "      <td>146</td>\n",
       "      <td>125</td>\n",
       "      <td>138</td>\n",
       "      <td>第一名</td>\n",
       "      <td>135.5</td>\n",
       "      <td>409</td>\n",
       "      <td>优</td>\n",
       "      <td>第1名</td>\n",
       "    </tr>\n",
       "    <tr>\n",
       "      <th>D</th>\n",
       "      <td>46</td>\n",
       "      <td>90</td>\n",
       "      <td>60</td>\n",
       "      <td>NaN</td>\n",
       "      <td>68.0</td>\n",
       "      <td>196</td>\n",
       "      <td>补考</td>\n",
       "      <td>第5名</td>\n",
       "    </tr>\n",
       "    <tr>\n",
       "      <th>E</th>\n",
       "      <td>144</td>\n",
       "      <td>61</td>\n",
       "      <td>60</td>\n",
       "      <td>第二名</td>\n",
       "      <td>102.5</td>\n",
       "      <td>265</td>\n",
       "      <td>补考</td>\n",
       "      <td>第3名</td>\n",
       "    </tr>\n",
       "  </tbody>\n",
       "</table>\n",
       "</div>"
      ],
      "text/plain": [
       "    数学   英语  计算机 数学名次   数英平均  总成绩  等级   名次\n",
       "A   85   73   60  NaN   79.0  218  补考  第4名\n",
       "B   61  131  128  NaN   96.0  320   良  第2名\n",
       "C  146  125  138  第一名  135.5  409   优  第1名\n",
       "D   46   90   60  NaN   68.0  196  补考  第5名\n",
       "E  144   61   60  第二名  102.5  265  补考  第3名"
      ]
     },
     "execution_count": 107,
     "metadata": {},
     "output_type": "execute_result"
    }
   ],
   "source": [
    "df.drop('等级2', axis=1, inplace=True)\n",
    "df"
   ]
  },
  {
   "cell_type": "code",
   "execution_count": 111,
   "metadata": {},
   "outputs": [],
   "source": [
    "# 将 A~ E 重新命名为 具体人名\n",
    "df.rename(index={'A': '李大哥',\n",
    "                 'B':'王大哥',\n",
    "                 'C':'狄大叔',\n",
    "                 'D': '黄小妹',\n",
    "                 'E': '刘小庆'}, inplace=True)"
   ]
  },
  {
   "cell_type": "code",
   "execution_count": 113,
   "metadata": {
    "collapsed": true
   },
   "outputs": [
    {
     "data": {
      "text/html": [
       "<div>\n",
       "<style>\n",
       "    .dataframe thead tr:only-child th {\n",
       "        text-align: right;\n",
       "    }\n",
       "\n",
       "    .dataframe thead th {\n",
       "        text-align: left;\n",
       "    }\n",
       "\n",
       "    .dataframe tbody tr th {\n",
       "        vertical-align: top;\n",
       "    }\n",
       "</style>\n",
       "<table border=\"1\" class=\"dataframe\">\n",
       "  <thead>\n",
       "    <tr style=\"text-align: right;\">\n",
       "      <th></th>\n",
       "      <th>数学</th>\n",
       "      <th>英语</th>\n",
       "      <th>计算机</th>\n",
       "      <th>数学名次</th>\n",
       "      <th>数英平均</th>\n",
       "      <th>总成绩</th>\n",
       "      <th>是否补考</th>\n",
       "      <th>名次</th>\n",
       "    </tr>\n",
       "  </thead>\n",
       "  <tbody>\n",
       "    <tr>\n",
       "      <th>李大哥</th>\n",
       "      <td>85</td>\n",
       "      <td>73</td>\n",
       "      <td>60</td>\n",
       "      <td>NaN</td>\n",
       "      <td>79.0</td>\n",
       "      <td>218</td>\n",
       "      <td>补考</td>\n",
       "      <td>第4名</td>\n",
       "    </tr>\n",
       "    <tr>\n",
       "      <th>王大哥</th>\n",
       "      <td>61</td>\n",
       "      <td>131</td>\n",
       "      <td>128</td>\n",
       "      <td>NaN</td>\n",
       "      <td>96.0</td>\n",
       "      <td>320</td>\n",
       "      <td>良</td>\n",
       "      <td>第2名</td>\n",
       "    </tr>\n",
       "    <tr>\n",
       "      <th>狄哥</th>\n",
       "      <td>146</td>\n",
       "      <td>125</td>\n",
       "      <td>138</td>\n",
       "      <td>第一名</td>\n",
       "      <td>135.5</td>\n",
       "      <td>409</td>\n",
       "      <td>优</td>\n",
       "      <td>第1名</td>\n",
       "    </tr>\n",
       "    <tr>\n",
       "      <th>黄小妹</th>\n",
       "      <td>46</td>\n",
       "      <td>90</td>\n",
       "      <td>60</td>\n",
       "      <td>NaN</td>\n",
       "      <td>68.0</td>\n",
       "      <td>196</td>\n",
       "      <td>补考</td>\n",
       "      <td>第5名</td>\n",
       "    </tr>\n",
       "    <tr>\n",
       "      <th>刘小庆</th>\n",
       "      <td>144</td>\n",
       "      <td>61</td>\n",
       "      <td>60</td>\n",
       "      <td>第二名</td>\n",
       "      <td>102.5</td>\n",
       "      <td>265</td>\n",
       "      <td>补考</td>\n",
       "      <td>第3名</td>\n",
       "    </tr>\n",
       "  </tbody>\n",
       "</table>\n",
       "</div>"
      ],
      "text/plain": [
       "      数学   英语  计算机 数学名次   数英平均  总成绩 是否补考   名次\n",
       "李大哥   85   73   60  NaN   79.0  218   补考  第4名\n",
       "王大哥   61  131  128  NaN   96.0  320    良  第2名\n",
       "狄哥   146  125  138  第一名  135.5  409    优  第1名\n",
       "黄小妹   46   90   60  NaN   68.0  196   补考  第5名\n",
       "刘小庆  144   61   60  第二名  102.5  265   补考  第3名"
      ]
     },
     "execution_count": 113,
     "metadata": {},
     "output_type": "execute_result"
    }
   ],
   "source": [
    "# 同时修改index和列\n",
    "df.rename(index={'狄大叔':'狄哥'},\n",
    "         columns={'等级': '是否补考'}, inplace=True)\n",
    "df"
   ]
  },
  {
   "cell_type": "code",
   "execution_count": 114,
   "metadata": {
    "collapsed": true
   },
   "outputs": [
    {
     "data": {
      "text/html": [
       "<div>\n",
       "<style>\n",
       "    .dataframe thead tr:only-child th {\n",
       "        text-align: right;\n",
       "    }\n",
       "\n",
       "    .dataframe thead th {\n",
       "        text-align: left;\n",
       "    }\n",
       "\n",
       "    .dataframe tbody tr th {\n",
       "        vertical-align: top;\n",
       "    }\n",
       "</style>\n",
       "<table border=\"1\" class=\"dataframe\">\n",
       "  <thead>\n",
       "    <tr style=\"text-align: right;\">\n",
       "      <th></th>\n",
       "      <th></th>\n",
       "      <th>数学</th>\n",
       "      <th>英语</th>\n",
       "      <th>计算机</th>\n",
       "    </tr>\n",
       "  </thead>\n",
       "  <tbody>\n",
       "    <tr>\n",
       "      <th rowspan=\"5\" valign=\"top\">2017年</th>\n",
       "      <th>A</th>\n",
       "      <td>34</td>\n",
       "      <td>79</td>\n",
       "      <td>35</td>\n",
       "    </tr>\n",
       "    <tr>\n",
       "      <th>B</th>\n",
       "      <td>119</td>\n",
       "      <td>11</td>\n",
       "      <td>120</td>\n",
       "    </tr>\n",
       "    <tr>\n",
       "      <th>C</th>\n",
       "      <td>44</td>\n",
       "      <td>81</td>\n",
       "      <td>36</td>\n",
       "    </tr>\n",
       "    <tr>\n",
       "      <th>D</th>\n",
       "      <td>46</td>\n",
       "      <td>97</td>\n",
       "      <td>98</td>\n",
       "    </tr>\n",
       "    <tr>\n",
       "      <th>E</th>\n",
       "      <td>47</td>\n",
       "      <td>109</td>\n",
       "      <td>35</td>\n",
       "    </tr>\n",
       "    <tr>\n",
       "      <th rowspan=\"5\" valign=\"top\">2018年</th>\n",
       "      <th>A</th>\n",
       "      <td>123</td>\n",
       "      <td>109</td>\n",
       "      <td>85</td>\n",
       "    </tr>\n",
       "    <tr>\n",
       "      <th>B</th>\n",
       "      <td>105</td>\n",
       "      <td>122</td>\n",
       "      <td>61</td>\n",
       "    </tr>\n",
       "    <tr>\n",
       "      <th>C</th>\n",
       "      <td>79</td>\n",
       "      <td>46</td>\n",
       "      <td>21</td>\n",
       "    </tr>\n",
       "    <tr>\n",
       "      <th>D</th>\n",
       "      <td>129</td>\n",
       "      <td>49</td>\n",
       "      <td>87</td>\n",
       "    </tr>\n",
       "    <tr>\n",
       "      <th>E</th>\n",
       "      <td>21</td>\n",
       "      <td>78</td>\n",
       "      <td>109</td>\n",
       "    </tr>\n",
       "  </tbody>\n",
       "</table>\n",
       "</div>"
      ],
      "text/plain": [
       "          数学   英语  计算机\n",
       "2017年 A   34   79   35\n",
       "      B  119   11  120\n",
       "      C   44   81   36\n",
       "      D   46   97   98\n",
       "      E   47  109   35\n",
       "2018年 A  123  109   85\n",
       "      B  105  122   61\n",
       "      C   79   46   21\n",
       "      D  129   49   87\n",
       "      E   21   78  109"
      ]
     },
     "execution_count": 114,
     "metadata": {},
     "output_type": "execute_result"
    }
   ],
   "source": [
    "data = np.random.randint(150, size=(5, 3))\n",
    "index = list('ABCDE')\n",
    "columns = ('数学', '英语', '计算机')\n",
    "\n",
    "df1 = DataFrame(data, index, columns)\n",
    "df2 = DataFrame(np.random.randint(150, size=(5, 3)),\n",
    "                index, columns)\n",
    "# 连接两个DF， 按行，并指定第一张表是2017年, 第二张表是2018年\n",
    "df3 = pd.concat((df1, df2), axis=0,\n",
    "          keys=('2017年', '2018年'))\n",
    "df3"
   ]
  },
  {
   "cell_type": "code",
   "execution_count": 134,
   "metadata": {},
   "outputs": [],
   "source": [
    "# 修改 2018年D的姓名为 '张三丰' ？？\n",
    "# 统一针对一级或二级索引或列标签修改\n",
    "# df3.rename(index={1: '张三丰', 'E': '李小龙'},\n",
    "#            level=1)\n",
    "\n",
    "df4 = df3.loc['2018年']\n",
    "df4.rename(index={'D': '张三丰'}, inplace=True)"
   ]
  },
  {
   "cell_type": "code",
   "execution_count": 143,
   "metadata": {},
   "outputs": [
    {
     "data": {
      "text/plain": [
       "MultiIndex(levels=[['2017', '2018'], ['A', 'B', 'C', 'D', 'E', '张三丰']],\n",
       "           labels=[[0, 0, 0, 0, 0, 1, 1, 1, 1, 1], [0, 1, 2, 3, 4, 0, 1, 2, 5, 4]])"
      ]
     },
     "execution_count": 143,
     "metadata": {},
     "output_type": "execute_result"
    }
   ],
   "source": [
    "pd.concat((df1, df4), keys=('2017', '2018')).index"
   ]
  }
 ],
 "metadata": {
  "kernelspec": {
   "display_name": "Python 3",
   "language": "python",
   "name": "python3"
  },
  "language_info": {
   "codemirror_mode": {
    "name": "ipython",
    "version": 3
   },
   "file_extension": ".py",
   "mimetype": "text/x-python",
   "name": "python",
   "nbconvert_exporter": "python",
   "pygments_lexer": "ipython3",
   "version": "3.6.3"
  }
 },
 "nbformat": 4,
 "nbformat_minor": 2
}
