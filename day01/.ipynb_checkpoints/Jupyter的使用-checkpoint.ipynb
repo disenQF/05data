{
 "cells": [
  {
   "cell_type": "markdown",
   "metadata": {},
   "source": [
    "# 当前位置是Cell单元\n",
    "# Cell单元的状态： \n",
    "- 编辑状态\n",
    "- 选择状态\n",
    "- 运行状态\n",
    "- 无状态\n",
    "# Cell单元的类型： \n",
    "- Code代码类型 ,  选择状态下： Y\n",
    "- Markdown文档, 选择状态下： M"
   ]
  },
  {
   "cell_type": "markdown",
   "metadata": {},
   "source": [
    "# 运行Cell\n",
    "- Ctrl+Enter(当前Cell)\n",
    "- Alt+Enter（运行当前Cell+下方新增Cell）"
   ]
  },
  {
   "cell_type": "code",
   "execution_count": 1,
   "metadata": {},
   "outputs": [
    {
     "name": "stdout",
     "output_type": "stream",
     "text": [
      "hi, jupyter notebook!\n"
     ]
    }
   ],
   "source": [
    "print('hi, jupyter notebook!')"
   ]
  },
  {
   "cell_type": "markdown",
   "metadata": {},
   "source": [
    "# 新增Cell\n",
    "- 选择状态下， B 在当前的下一行增加新的Cell\n",
    "- 选择状态下， A 在当前的上一行增加新的Cell"
   ]
  },
  {
   "cell_type": "markdown",
   "metadata": {},
   "source": [
    "# 删除Cell\n",
    "- 在选择状态下， X 删除当前的Cell\n",
    "- 在选择状态下，按Shift+上下方向键选择连续的Cell， 再按X， 可以删除多个Cell"
   ]
  },
  {
   "cell_type": "markdown",
   "metadata": {},
   "source": [
    "# 其它的Cell (在选择状态下 == 命令模式)\n",
    "- Z 撤消操作\n",
    "- C 复制当前选择的的Cell\n",
    "- Shift + V  将复制的Cell粘贴到当前Cell的上方\n",
    "- V 将复制的Cell粘贴到当前Cell的下方\n",
    "- L 显示当前Cell单元的行号\n",
    "- O 打开或关闭当前Cell的输出"
   ]
  },
  {
   "cell_type": "code",
   "execution_count": 2,
   "metadata": {
    "collapsed": true
   },
   "outputs": [
    {
     "name": "stdout",
     "output_type": "stream",
     "text": [
      "0\n",
      "1\n",
      "8\n",
      "27\n",
      "64\n",
      "125\n",
      "216\n",
      "343\n",
      "512\n",
      "729\n"
     ]
    }
   ],
   "source": [
    "for i in range(10):\n",
    "    print(i ** 3)"
   ]
  },
  {
   "cell_type": "markdown",
   "metadata": {},
   "source": [
    "# 编辑模式下的快捷键\n",
    "    1. TAB 缩进/对象的属性或方法提示\n",
    "    2. Shift+TAB 反缩进， 查看函数的帮助\n",
    "    3. Ctrl + ] 右缩进\n",
    "    4. Ctrl + [ 左缩进"
   ]
  },
  {
   "cell_type": "code",
   "execution_count": 7,
   "metadata": {
    "collapsed": true
   },
   "outputs": [],
   "source": [
    "\n",
    "class A:\n",
    "    def say(self):\n",
    "        print(f'{self.__class__.__name__} 输出信息')"
   ]
  },
  {
   "cell_type": "code",
   "execution_count": 8,
   "metadata": {},
   "outputs": [
    {
     "name": "stdout",
     "output_type": "stream",
     "text": [
      "A 输出信息\n"
     ]
    }
   ],
   "source": [
    "a = A()\n",
    "a.say()"
   ]
  },
  {
   "cell_type": "code",
   "execution_count": 9,
   "metadata": {
    "collapsed": true
   },
   "outputs": [],
   "source": [
    "import random"
   ]
  },
  {
   "cell_type": "code",
   "execution_count": 16,
   "metadata": {},
   "outputs": [
    {
     "name": "stdout",
     "output_type": "stream",
     "text": [
      "19\n"
     ]
    }
   ],
   "source": [
    "age = random.randint(18, 25)\n",
    "print(age)"
   ]
  },
  {
   "cell_type": "markdown",
   "metadata": {},
   "source": [
    "# 执行Linux指令使用"
   ]
  },
  {
   "cell_type": "code",
   "execution_count": 17,
   "metadata": {},
   "outputs": [
    {
     "name": "stdout",
     "output_type": "stream",
     "text": [
      "/Users/apple/xpy805_data/day01\r\n"
     ]
    }
   ],
   "source": [
    "!pwd"
   ]
  },
  {
   "cell_type": "code",
   "execution_count": 19,
   "metadata": {},
   "outputs": [
    {
     "name": "stdout",
     "output_type": "stream",
     "text": [
      "  501  1602  1580   0  9:40上午 ??         0:02.92 /Users/apple/anaconda3/bin/python -m ipykernel_launcher -f /Users/apple/Library/Jupyter/runtime/kernel-08476cd1-0361-4a0b-a256-9fe371f6c3b2.json\r\n",
      "  501  1580  1520   0  9:34上午 ttys001    0:05.25 /Users/apple/anaconda3/bin/python /Users/apple/anaconda3/bin/jupyter-notebook\r\n",
      "  501  1803  1602   0 10:35上午 ttys004    0:00.01 /bin/sh -c ps -ef | grep python\r\n",
      "  501  1805  1803   0 10:35上午 ttys004    0:00.00 grep python\r\n"
     ]
    }
   ],
   "source": [
    "!ps -ef | grep python"
   ]
  },
  {
   "cell_type": "markdown",
   "metadata": {},
   "source": [
    "# 查看源代码\n",
    "- ?  简要地说明函数 -> 文档字符串和函数类型\n",
    "- ?? 详细地说明函数 -> 包含 ?中的信息和源码、脚本文件的位置"
   ]
  },
  {
   "cell_type": "code",
   "execution_count": 24,
   "metadata": {
    "collapsed": true
   },
   "outputs": [],
   "source": [
    "random.uniform??"
   ]
  },
  {
   "cell_type": "markdown",
   "metadata": {},
   "source": [
    "# 魔法指令\n",
    "- %run 运行其它的python脚本\n",
    "- %time 计算python脚本的运行时间"
   ]
  },
  {
   "cell_type": "code",
   "execution_count": 25,
   "metadata": {},
   "outputs": [
    {
     "name": "stdout",
     "output_type": "stream",
     "text": [
      "test python file is executable file!\n"
     ]
    }
   ],
   "source": [
    "%run /Users/apple/t.py"
   ]
  },
  {
   "cell_type": "code",
   "execution_count": 26,
   "metadata": {},
   "outputs": [
    {
     "name": "stdout",
     "output_type": "stream",
     "text": [
      "test python file is executable file!\n",
      "CPU times: user 1.26 ms, sys: 1.49 ms, total: 2.75 ms\n",
      "Wall time: 2.09 ms\n"
     ]
    }
   ],
   "source": [
    "%time %run /Users/apple/t.py"
   ]
  }
 ],
 "metadata": {
  "kernelspec": {
   "display_name": "Python 3",
   "language": "python",
   "name": "python3"
  },
  "language_info": {
   "codemirror_mode": {
    "name": "ipython",
    "version": 3
   },
   "file_extension": ".py",
   "mimetype": "text/x-python",
   "name": "python",
   "nbconvert_exporter": "python",
   "pygments_lexer": "ipython3",
   "version": "3.6.3"
  }
 },
 "nbformat": 4,
 "nbformat_minor": 2
}
